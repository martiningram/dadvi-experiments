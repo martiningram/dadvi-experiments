{
 "cells": [
  {
   "cell_type": "code",
   "execution_count": null,
   "id": "fe13d465",
   "metadata": {},
   "outputs": [],
   "source": [
    "import pickle\n",
    "from glob import glob"
   ]
  },
  {
   "cell_type": "code",
   "execution_count": null,
   "id": "ed6e8e24",
   "metadata": {},
   "outputs": [],
   "source": [
    "coverage_runs = glob('../dadvi_coverage_results/*/*.pkl')\n",
    "model_names = [x.split('/')[-2] for x in coverage_runs]"
   ]
  },
  {
   "cell_type": "code",
   "execution_count": null,
   "id": "1eabe8e0",
   "metadata": {},
   "outputs": [],
   "source": [
    "import pandas as pd"
   ]
  },
  {
   "cell_type": "code",
   "execution_count": null,
   "id": "17192da5",
   "metadata": {},
   "outputs": [],
   "source": [
    "df = pd.DataFrame({'filename': coverage_runs, 'model_name': model_names})"
   ]
  },
  {
   "cell_type": "code",
   "execution_count": null,
   "id": "3ca221a6",
   "metadata": {},
   "outputs": [],
   "source": [
    "example = df.iloc[6]\n",
    "\n",
    "example"
   ]
  },
  {
   "cell_type": "code",
   "execution_count": null,
   "id": "4f42a947",
   "metadata": {},
   "outputs": [],
   "source": [
    "from scipy.stats import norm"
   ]
  },
  {
   "cell_type": "code",
   "execution_count": null,
   "id": "3ea83597",
   "metadata": {},
   "outputs": [],
   "source": [
    "import numpy as np\n",
    "\n",
    "def compute_z_scores(loaded):\n",
    "\n",
    "    # Compute the z-scores\n",
    "    z_scores = (loaded['means'] - loaded['reference_means']) / loaded['reference_freq_sds']\n",
    "\n",
    "    # Make them an array\n",
    "    z_array = np.stack(z_scores.values)\n",
    "    \n",
    "    return z_array\n",
    "\n",
    "def evaluate_z_scores(z_array, crit_prob=0.025):\n",
    "\n",
    "    z_crit = norm.ppf(crit_prob)\n",
    "    within_interval = np.abs(z_array) < np.abs(z_crit)\n",
    "    within_ratio = within_interval.mean()\n",
    "    \n",
    "    return within_ratio"
   ]
  },
  {
   "cell_type": "code",
   "execution_count": null,
   "id": "788addf6",
   "metadata": {},
   "outputs": [],
   "source": [
    "df['loaded'] = df['filename'].apply(pd.read_pickle)"
   ]
  },
  {
   "cell_type": "code",
   "execution_count": null,
   "id": "2188182f",
   "metadata": {},
   "outputs": [],
   "source": [
    "df['z_scores'] = df['loaded'].apply(compute_z_scores)"
   ]
  },
  {
   "cell_type": "code",
   "execution_count": null,
   "id": "eb13a860",
   "metadata": {},
   "outputs": [],
   "source": [
    "df['frac_within'] = df['z_scores'].apply(evaluate_z_scores)"
   ]
  },
  {
   "cell_type": "code",
   "execution_count": null,
   "id": "c16966ea",
   "metadata": {},
   "outputs": [],
   "source": [
    "df['M'] = df['loaded'].apply(lambda x: x['M'].iloc[0])"
   ]
  },
  {
   "cell_type": "code",
   "execution_count": null,
   "id": "4de59882",
   "metadata": {},
   "outputs": [],
   "source": [
    "df[['model_name', 'M', 'frac_within']].sort_values('frac_within')"
   ]
  },
  {
   "cell_type": "code",
   "execution_count": null,
   "id": "fa671cfe",
   "metadata": {},
   "outputs": [],
   "source": [
    "import matplotlib.pyplot as plt\n",
    "\n",
    "df['frac_within'].hist()"
   ]
  },
  {
   "cell_type": "code",
   "execution_count": null,
   "id": "31f95d2e",
   "metadata": {},
   "outputs": [],
   "source": []
  }
 ],
 "metadata": {
  "kernelspec": {
   "display_name": "Python 3 (ipykernel)",
   "language": "python",
   "name": "python3"
  },
  "language_info": {
   "codemirror_mode": {
    "name": "ipython",
    "version": 3
   },
   "file_extension": ".py",
   "mimetype": "text/x-python",
   "name": "python",
   "nbconvert_exporter": "python",
   "pygments_lexer": "ipython3",
   "version": "3.8.13"
  }
 },
 "nbformat": 4,
 "nbformat_minor": 5
}
