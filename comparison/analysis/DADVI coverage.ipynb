{
 "cells": [
  {
   "cell_type": "code",
   "execution_count": 1,
   "id": "fe13d465",
   "metadata": {},
   "outputs": [],
   "source": [
    "from glob import glob\n",
    "from os.path import join\n",
    "import pandas as pd\n",
    "from scipy.stats import norm\n",
    "import numpy as np\n",
    "from functools import partial\n",
    "import matplotlib.pyplot as plt\n",
    "from scipy import stats"
   ]
  },
  {
   "cell_type": "code",
   "execution_count": 38,
   "id": "ed6e8e24",
   "metadata": {},
   "outputs": [],
   "source": [
    "# Which run to use as a reference; set to None to use the one initially intended to be the reference.\n",
    "REFERENCE_ROW_INDEX = 1\n",
    "\n",
    "# Set this to the appropriate directory\n",
    "base_path = './coverage_warm_starts_rerun//M_64/'\n",
    "\n",
    "coverage_runs = glob(join(base_path, '*', '*.pkl'))\n",
    "model_names = [x.split('/')[-2] for x in coverage_runs]"
   ]
  },
  {
   "cell_type": "code",
   "execution_count": 39,
   "id": "17192da5",
   "metadata": {},
   "outputs": [],
   "source": [
    "df = pd.DataFrame({'filename': coverage_runs, 'model_name': model_names})\n",
    "\n",
    "# Drop the test models\n",
    "df = df[~df['model_name'].str.contains('test')]"
   ]
  },
  {
   "cell_type": "code",
   "execution_count": 5,
   "id": "3ea83597",
   "metadata": {},
   "outputs": [],
   "source": [
    "\n",
    "def compute_z_scores(loaded, reference_row_index=None, n_subset=None):\n",
    "    \n",
    "    if n_subset is not None:\n",
    "        # Pick only the first n_subset\n",
    "        loaded = loaded.iloc[:n_subset]\n",
    "    \n",
    "    if reference_row_index is not None:\n",
    "        # Change reference\n",
    "        reference_row = loaded.iloc[reference_row_index]\n",
    "        loaded = loaded.copy()\n",
    "                \n",
    "        other_rows = loaded.loc[[x for x in loaded.index if x != reference_row.name]].copy()\n",
    "        \n",
    "        # This is pretty dumb -- better way?\n",
    "        other_rows['reference_means'] = other_rows['reference_means'].apply(lambda _: reference_row['means'])\n",
    "        other_rows['reference_freq_sds'] = other_rows['freq_sds'].apply(lambda _: reference_row['freq_sds'])\n",
    "                \n",
    "        loaded = other_rows\n",
    "    \n",
    "    z_scores = loaded.apply(\n",
    "        lambda row: (row['means'] - row['reference_means']) / np.sqrt(\n",
    "            row['reference_freq_sds']**2 + row['freq_sds']**2),\n",
    "        axis=1)\n",
    "    \n",
    "    # Make them an array\n",
    "    z_array = np.stack(z_scores.values)\n",
    "    \n",
    "    return z_array\n",
    "\n",
    "def evaluate_z_scores(z_array, crit_prob=0.025):\n",
    "\n",
    "    z_crit = norm.ppf(crit_prob)\n",
    "    within_interval = np.abs(z_array) < np.abs(z_crit)\n",
    "    within_ratio = within_interval.mean()\n",
    "    \n",
    "    return within_ratio"
   ]
  },
  {
   "cell_type": "code",
   "execution_count": 42,
   "id": "788addf6",
   "metadata": {},
   "outputs": [],
   "source": [
    "# Load the actual pickled results\n",
    "df['loaded'] = df['filename'].apply(pd.read_pickle)"
   ]
  },
  {
   "cell_type": "code",
   "execution_count": 43,
   "id": "7f97a396",
   "metadata": {},
   "outputs": [
    {
     "data": {
      "text/html": [
       "<div>\n",
       "<style scoped>\n",
       "    .dataframe tbody tr th:only-of-type {\n",
       "        vertical-align: middle;\n",
       "    }\n",
       "\n",
       "    .dataframe tbody tr th {\n",
       "        vertical-align: top;\n",
       "    }\n",
       "\n",
       "    .dataframe thead th {\n",
       "        text-align: right;\n",
       "    }\n",
       "</style>\n",
       "<table border=\"1\" class=\"dataframe\">\n",
       "  <thead>\n",
       "    <tr style=\"text-align: right;\">\n",
       "      <th></th>\n",
       "      <th>means</th>\n",
       "      <th>seed</th>\n",
       "      <th>freq_sds</th>\n",
       "      <th>newton_step_norm</th>\n",
       "      <th>scipy_opt_result</th>\n",
       "      <th>reference_means</th>\n",
       "      <th>reference_freq_sds</th>\n",
       "      <th>M</th>\n",
       "      <th>reference_newton_step_norm</th>\n",
       "      <th>reference_scipy_opt_result</th>\n",
       "    </tr>\n",
       "  </thead>\n",
       "  <tbody>\n",
       "    <tr>\n",
       "      <th>0</th>\n",
       "      <td>[5.9157796, -0.5543941, 0.36644948, 0.3843652,...</td>\n",
       "      <td>1000</td>\n",
       "      <td>[0.006278170471453372, 0.011911594065872605, 0...</td>\n",
       "      <td>0.000000</td>\n",
       "      <td>{'x': [5.9157796, -0.5543941, 0.36644948, 0.38...</td>\n",
       "      <td>[5.926037066720059, -0.5842364606894948, 0.374...</td>\n",
       "      <td>[0.006933493544069244, 0.01253902807450893, 0....</td>\n",
       "      <td>64</td>\n",
       "      <td>0.000002</td>\n",
       "      <td>{'x': [5.926037, -0.58423644, 0.37423164, 0.39...</td>\n",
       "    </tr>\n",
       "    <tr>\n",
       "      <th>1</th>\n",
       "      <td>[5.9232297, -0.58279026, 0.3757099, 0.4135722,...</td>\n",
       "      <td>1001</td>\n",
       "      <td>[0.0061925925720968675, 0.012143838513395068, ...</td>\n",
       "      <td>0.000005</td>\n",
       "      <td>{'x': [5.9232297, -0.58279026, 0.3757099, 0.41...</td>\n",
       "      <td>[5.926037066720059, -0.5842364606894948, 0.374...</td>\n",
       "      <td>[0.006933493544069244, 0.01253902807450893, 0....</td>\n",
       "      <td>64</td>\n",
       "      <td>0.000002</td>\n",
       "      <td>{'x': [5.926037, -0.58423644, 0.37423164, 0.39...</td>\n",
       "    </tr>\n",
       "    <tr>\n",
       "      <th>2</th>\n",
       "      <td>[5.923813, -0.5794337, 0.3772701, 0.4116608, -...</td>\n",
       "      <td>1002</td>\n",
       "      <td>[0.006125596245577935, 0.012365704537414748, 0...</td>\n",
       "      <td>0.000000</td>\n",
       "      <td>{'x': [5.923813, -0.5794337, 0.3772701, 0.4116...</td>\n",
       "      <td>[5.926037066720059, -0.5842364606894948, 0.374...</td>\n",
       "      <td>[0.006933493544069244, 0.01253902807450893, 0....</td>\n",
       "      <td>64</td>\n",
       "      <td>0.000002</td>\n",
       "      <td>{'x': [5.926037, -0.58423644, 0.37423164, 0.39...</td>\n",
       "    </tr>\n",
       "    <tr>\n",
       "      <th>3</th>\n",
       "      <td>[5.928267, -0.6326322, 0.37404153, 0.40084413,...</td>\n",
       "      <td>1003</td>\n",
       "      <td>[0.006380391842933137, 0.013376107441757282, 0...</td>\n",
       "      <td>0.000000</td>\n",
       "      <td>{'x': [5.928267, -0.6326322, 0.37404153, 0.400...</td>\n",
       "      <td>[5.926037066720059, -0.5842364606894948, 0.374...</td>\n",
       "      <td>[0.006933493544069244, 0.01253902807450893, 0....</td>\n",
       "      <td>64</td>\n",
       "      <td>0.000002</td>\n",
       "      <td>{'x': [5.926037, -0.58423644, 0.37423164, 0.39...</td>\n",
       "    </tr>\n",
       "    <tr>\n",
       "      <th>4</th>\n",
       "      <td>[5.916812, -0.5816739, 0.3633206, 0.3936959, -...</td>\n",
       "      <td>1004</td>\n",
       "      <td>[0.006219462075086494, 0.01218610838978289, 0....</td>\n",
       "      <td>0.000000</td>\n",
       "      <td>{'x': [5.916812, -0.5816739, 0.3633206, 0.3936...</td>\n",
       "      <td>[5.926037066720059, -0.5842364606894948, 0.374...</td>\n",
       "      <td>[0.006933493544069244, 0.01253902807450893, 0....</td>\n",
       "      <td>64</td>\n",
       "      <td>0.000002</td>\n",
       "      <td>{'x': [5.926037, -0.58423644, 0.37423164, 0.39...</td>\n",
       "    </tr>\n",
       "  </tbody>\n",
       "</table>\n",
       "</div>"
      ],
      "text/plain": [
       "                                               means  seed  \\\n",
       "0  [5.9157796, -0.5543941, 0.36644948, 0.3843652,...  1000   \n",
       "1  [5.9232297, -0.58279026, 0.3757099, 0.4135722,...  1001   \n",
       "2  [5.923813, -0.5794337, 0.3772701, 0.4116608, -...  1002   \n",
       "3  [5.928267, -0.6326322, 0.37404153, 0.40084413,...  1003   \n",
       "4  [5.916812, -0.5816739, 0.3633206, 0.3936959, -...  1004   \n",
       "\n",
       "                                            freq_sds  newton_step_norm  \\\n",
       "0  [0.006278170471453372, 0.011911594065872605, 0...          0.000000   \n",
       "1  [0.0061925925720968675, 0.012143838513395068, ...          0.000005   \n",
       "2  [0.006125596245577935, 0.012365704537414748, 0...          0.000000   \n",
       "3  [0.006380391842933137, 0.013376107441757282, 0...          0.000000   \n",
       "4  [0.006219462075086494, 0.01218610838978289, 0....          0.000000   \n",
       "\n",
       "                                    scipy_opt_result  \\\n",
       "0  {'x': [5.9157796, -0.5543941, 0.36644948, 0.38...   \n",
       "1  {'x': [5.9232297, -0.58279026, 0.3757099, 0.41...   \n",
       "2  {'x': [5.923813, -0.5794337, 0.3772701, 0.4116...   \n",
       "3  {'x': [5.928267, -0.6326322, 0.37404153, 0.400...   \n",
       "4  {'x': [5.916812, -0.5816739, 0.3633206, 0.3936...   \n",
       "\n",
       "                                     reference_means  \\\n",
       "0  [5.926037066720059, -0.5842364606894948, 0.374...   \n",
       "1  [5.926037066720059, -0.5842364606894948, 0.374...   \n",
       "2  [5.926037066720059, -0.5842364606894948, 0.374...   \n",
       "3  [5.926037066720059, -0.5842364606894948, 0.374...   \n",
       "4  [5.926037066720059, -0.5842364606894948, 0.374...   \n",
       "\n",
       "                                  reference_freq_sds   M  \\\n",
       "0  [0.006933493544069244, 0.01253902807450893, 0....  64   \n",
       "1  [0.006933493544069244, 0.01253902807450893, 0....  64   \n",
       "2  [0.006933493544069244, 0.01253902807450893, 0....  64   \n",
       "3  [0.006933493544069244, 0.01253902807450893, 0....  64   \n",
       "4  [0.006933493544069244, 0.01253902807450893, 0....  64   \n",
       "\n",
       "   reference_newton_step_norm  \\\n",
       "0                    0.000002   \n",
       "1                    0.000002   \n",
       "2                    0.000002   \n",
       "3                    0.000002   \n",
       "4                    0.000002   \n",
       "\n",
       "                          reference_scipy_opt_result  \n",
       "0  {'x': [5.926037, -0.58423644, 0.37423164, 0.39...  \n",
       "1  {'x': [5.926037, -0.58423644, 0.37423164, 0.39...  \n",
       "2  {'x': [5.926037, -0.58423644, 0.37423164, 0.39...  \n",
       "3  {'x': [5.926037, -0.58423644, 0.37423164, 0.39...  \n",
       "4  {'x': [5.926037, -0.58423644, 0.37423164, 0.39...  "
      ]
     },
     "execution_count": 43,
     "metadata": {},
     "output_type": "execute_result"
    }
   ],
   "source": [
    "# Show some example data\n",
    "df['loaded'].iloc[0].head()"
   ]
  },
  {
   "cell_type": "markdown",
   "id": "5cd99691",
   "metadata": {},
   "source": [
    "A bit of explanation here: the field \"loaded\" now contains the rerun information. The column \"means\" lists the means for each rerun. The column \"reference_means\" lists the means for the reference run whose confidence interval we wish to evalute. And the column \"reference_freq_sds\" contains the estimated frequentist standard deviations."
   ]
  },
  {
   "cell_type": "code",
   "execution_count": 8,
   "id": "c52e500b",
   "metadata": {},
   "outputs": [],
   "source": [
    "# Look at the worst final Newton step for all reruns\n",
    "df['worst_newton_step_norm'] = df['loaded'].apply(lambda x: x['newton_step_norm'].max())"
   ]
  },
  {
   "cell_type": "code",
   "execution_count": 9,
   "id": "0d463b40",
   "metadata": {},
   "outputs": [
    {
     "data": {
      "text/plain": [
       "<AxesSubplot:>"
      ]
     },
     "execution_count": 9,
     "metadata": {},
     "output_type": "execute_result"
    },
    {
     "data": {
      "image/png": "[encoded data removed]",
      "text/plain": [
       "<Figure size 640x480 with 1 Axes>"
      ]
     },
     "metadata": {
      "image/png": {
       "height": 413,
       "width": 543
      }
     },
     "output_type": "display_data"
    }
   ],
   "source": [
    "# Check convergence\n",
    "np.log10(df['worst_newton_step_norm']).hist()"
   ]
  },
  {
   "cell_type": "code",
   "execution_count": 10,
   "id": "338ffd84",
   "metadata": {},
   "outputs": [
    {
     "name": "stdout",
     "output_type": "stream",
     "text": [
      "Dropping:\n",
      "1        mesquite\n",
      "32    earn_height\n",
      "Name: model_name, dtype: object\n"
     ]
    }
   ],
   "source": [
    "# Drop models that likely didn't converge\n",
    "print('Dropping:')\n",
    "print(df[df['worst_newton_step_norm'] > 10**(-2)]['model_name'])\n",
    "\n",
    "problematic =  df[df['worst_newton_step_norm'] >= 10**(-2)].copy()\n",
    "\n",
    "df = df[df['worst_newton_step_norm'] < 10**(-2)].copy()"
   ]
  },
  {
   "cell_type": "code",
   "execution_count": 44,
   "id": "a2fc0fd7",
   "metadata": {},
   "outputs": [],
   "source": [
    "# Also check scipy convergence message\n",
    "\n",
    "def compute_frac_non_convergent(loaded):\n",
    "    \n",
    "    #return np.mean(loaded['scipy_opt_result'].apply(lambda x: x.status) != 0)\n",
    "    return np.mean(loaded['scipy_opt_result'].apply(lambda x: x.message) != 'Optimization terminated successfully.')\n",
    "\n",
    "def drop_non_converged(loaded):\n",
    "    \n",
    "    #return loaded[loaded['scipy_opt_result'].apply(lambda x: x.status) == 0]\n",
    "    return loaded[loaded['scipy_opt_result'].apply(lambda x: x.message) == 'Optimization terminated successfully.']\n",
    "\n",
    "# Check scipy convergence statuses\n",
    "df['frac_not_converged'] = df['loaded'].apply(compute_frac_non_convergent)\n",
    "\n",
    "# Drop these\n",
    "df['loaded'] = df['loaded'].apply(drop_non_converged)\n",
    "\n"
   ]
  },
  {
   "cell_type": "code",
   "execution_count": 46,
   "id": "1369a33e",
   "metadata": {},
   "outputs": [
    {
     "data": {
      "text/plain": [
       "0.0"
      ]
     },
     "execution_count": 46,
     "metadata": {},
     "output_type": "execute_result"
    }
   ],
   "source": [
    "df['frac_not_converged'].max()"
   ]
  },
  {
   "cell_type": "code",
   "execution_count": 47,
   "id": "2188182f",
   "metadata": {},
   "outputs": [],
   "source": [
    "df['z_scores'] = df['loaded'].apply(partial(compute_z_scores, reference_row_index=REFERENCE_ROW_INDEX))"
   ]
  },
  {
   "cell_type": "code",
   "execution_count": 48,
   "id": "eb13a860",
   "metadata": {},
   "outputs": [],
   "source": [
    "df['frac_within'] = df['z_scores'].apply(evaluate_z_scores)"
   ]
  },
  {
   "cell_type": "code",
   "execution_count": 50,
   "id": "c16966ea",
   "metadata": {},
   "outputs": [
    {
     "data": {
      "text/plain": [
       "64    64\n",
       "Name: M, dtype: int64"
      ]
     },
     "execution_count": 50,
     "metadata": {},
     "output_type": "execute_result"
    }
   ],
   "source": [
    "df['M'] = df['loaded'].apply(lambda x: x['M'].iloc[0])\n",
    "\n",
    "df['M'].value_counts()"
   ]
  },
  {
   "cell_type": "code",
   "execution_count": 51,
   "id": "4de59882",
   "metadata": {},
   "outputs": [
    {
     "data": {
      "text/html": [
       "<div>\n",
       "<style scoped>\n",
       "    .dataframe tbody tr th:only-of-type {\n",
       "        vertical-align: middle;\n",
       "    }\n",
       "\n",
       "    .dataframe tbody tr th {\n",
       "        vertical-align: top;\n",
       "    }\n",
       "\n",
       "    .dataframe thead th {\n",
       "        text-align: right;\n",
       "    }\n",
       "</style>\n",
       "<table border=\"1\" class=\"dataframe\">\n",
       "  <thead>\n",
       "    <tr style=\"text-align: right;\">\n",
       "      <th></th>\n",
       "      <th>model_name</th>\n",
       "      <th>M</th>\n",
       "      <th>frac_within</th>\n",
       "    </tr>\n",
       "  </thead>\n",
       "  <tbody>\n",
       "    <tr>\n",
       "      <th>7</th>\n",
       "      <td>wells_dae_inter</td>\n",
       "      <td>64</td>\n",
       "      <td>0.878788</td>\n",
       "    </tr>\n",
       "    <tr>\n",
       "      <th>8</th>\n",
       "      <td>earnings_interactions</td>\n",
       "      <td>64</td>\n",
       "      <td>0.878788</td>\n",
       "    </tr>\n",
       "    <tr>\n",
       "      <th>33</th>\n",
       "      <td>wells_dae_c</td>\n",
       "      <td>64</td>\n",
       "      <td>0.880808</td>\n",
       "    </tr>\n",
       "    <tr>\n",
       "      <th>38</th>\n",
       "      <td>logearn_interaction</td>\n",
       "      <td>64</td>\n",
       "      <td>0.880808</td>\n",
       "    </tr>\n",
       "    <tr>\n",
       "      <th>19</th>\n",
       "      <td>mesquite_volume</td>\n",
       "      <td>64</td>\n",
       "      <td>0.880808</td>\n",
       "    </tr>\n",
       "  </tbody>\n",
       "</table>\n",
       "</div>"
      ],
      "text/plain": [
       "               model_name   M  frac_within\n",
       "7         wells_dae_inter  64     0.878788\n",
       "8   earnings_interactions  64     0.878788\n",
       "33            wells_dae_c  64     0.880808\n",
       "38    logearn_interaction  64     0.880808\n",
       "19        mesquite_volume  64     0.880808"
      ]
     },
     "execution_count": 51,
     "metadata": {},
     "output_type": "execute_result"
    }
   ],
   "source": [
    "# 95% should lie within.\n",
    "df[['model_name', 'M', 'frac_within']].sort_values('frac_within').head()"
   ]
  },
  {
   "cell_type": "code",
   "execution_count": 55,
   "id": "2182bcb3",
   "metadata": {},
   "outputs": [],
   "source": [
    "# Turn the z-scores into \"p-values\"\n",
    "df['p_vals'] = df['z_scores'].apply(norm.cdf)"
   ]
  },
  {
   "cell_type": "code",
   "execution_count": 56,
   "id": "8d211857",
   "metadata": {},
   "outputs": [],
   "source": [
    "# Make them into one long vector\n",
    "all_p_vals = np.concatenate(df['p_vals'].apply(lambda x: x.reshape(-1)).values)"
   ]
  },
  {
   "cell_type": "code",
   "execution_count": 57,
   "id": "3ff6e08c",
   "metadata": {},
   "outputs": [
    {
     "data": {
      "image/png": "[encoded data removed]",
      "text/plain": [
       "<Figure size 600x400 with 1 Axes>"
      ]
     },
     "metadata": {
      "image/png": {
       "height": 390,
       "width": 589
      }
     },
     "output_type": "display_data"
    }
   ],
   "source": [
    "# Plot a histogram\n",
    "f, ax = plt.subplots(1, 1)\n",
    "\n",
    "_ = ax.hist(all_p_vals, density=True, bins=100)\n",
    "ax.axhline(1, color='r')\n",
    "\n",
    "f.set_size_inches(6, 4)\n",
    "f.tight_layout()\n",
    "\n",
    "#plt.savefig(f'overall_coverage_M={df[\"M\"].iloc[0]}.png', dpi=300)"
   ]
  },
  {
   "cell_type": "code",
   "execution_count": 58,
   "id": "1a878488",
   "metadata": {},
   "outputs": [
    {
     "data": {
      "text/plain": [
       "KstestResult(statistic=0.02238473168806543, pvalue=1.7016924936428005e-116)"
      ]
     },
     "execution_count": 58,
     "metadata": {},
     "output_type": "execute_result"
    }
   ],
   "source": [
    "# We can do a test to check for uniformity\n",
    "stats.kstest(all_p_vals, stats.uniform(loc=0.0, scale=1.0).cdf)"
   ]
  },
  {
   "cell_type": "code",
   "execution_count": 21,
   "id": "3e5ea7c0",
   "metadata": {},
   "outputs": [
    {
     "data": {
      "text/plain": [
       "model_name\n",
       "pilots               8.452207e-68\n",
       "election88           5.619895e-60\n",
       "electric_1b          3.462718e-49\n",
       "electric_1a          5.488384e-47\n",
       "electric_1c          3.434915e-45\n",
       "election88_full      5.457469e-29\n",
       "radon_no_pool_chr    5.848871e-27\n",
       "radon_no_pool        5.848871e-27\n",
       "radon_vary_si        1.347362e-22\n",
       "radon_inter_vary     1.152713e-20\n",
       "dtype: float64"
      ]
     },
     "execution_count": 21,
     "metadata": {},
     "output_type": "execute_result"
    }
   ],
   "source": [
    "# We can do the same test by model\n",
    "df.groupby('model_name').apply(\n",
    "    lambda df: stats.kstest(df['p_vals'].iloc[0].reshape(-1), stats.uniform(loc=0.0, scale=1.0).cdf)[1]).sort_values().head(10)"
   ]
  },
  {
   "cell_type": "code",
   "execution_count": 60,
   "id": "d2996905",
   "metadata": {},
   "outputs": [
    {
     "data": {
      "text/plain": [
       "KstestResult(statistic=0.03146001452807223, pvalue=0.26988544125249847)"
      ]
     },
     "execution_count": 60,
     "metadata": {},
     "output_type": "execute_result"
    }
   ],
   "source": [
    "# Make sure this works as intended -- this one should not be rejected\n",
    "stats.kstest(norm.cdf(np.random.randn(1000)), stats.uniform(loc=0., scale=1.).cdf)"
   ]
  },
  {
   "cell_type": "code",
   "execution_count": 61,
   "id": "84c59225",
   "metadata": {},
   "outputs": [
    {
     "data": {
      "text/plain": [
       "(9, 1884)"
      ]
     },
     "execution_count": 61,
     "metadata": {},
     "output_type": "execute_result"
    }
   ],
   "source": [
    "# Pick out a model of interest\n",
    "model_to_check = 'occ_det'\n",
    "\n",
    "model_p_vals = df[df['model_name'] == model_to_check]['p_vals'].iloc[0]\n",
    "model_p_vals.shape"
   ]
  },
  {
   "cell_type": "code",
   "execution_count": 62,
   "id": "782cb1be",
   "metadata": {},
   "outputs": [
    {
     "data": {
      "text/html": [
       "<div>\n",
       "<style scoped>\n",
       "    .dataframe tbody tr th:only-of-type {\n",
       "        vertical-align: middle;\n",
       "    }\n",
       "\n",
       "    .dataframe tbody tr th {\n",
       "        vertical-align: top;\n",
       "    }\n",
       "\n",
       "    .dataframe thead th {\n",
       "        text-align: right;\n",
       "    }\n",
       "</style>\n",
       "<table border=\"1\" class=\"dataframe\">\n",
       "  <thead>\n",
       "    <tr style=\"text-align: right;\">\n",
       "      <th></th>\n",
       "      <th>filename</th>\n",
       "      <th>model_name</th>\n",
       "      <th>loaded</th>\n",
       "      <th>frac_not_converged</th>\n",
       "      <th>z_scores</th>\n",
       "      <th>frac_within</th>\n",
       "      <th>M</th>\n",
       "      <th>p_vals</th>\n",
       "    </tr>\n",
       "  </thead>\n",
       "  <tbody>\n",
       "    <tr>\n",
       "      <th>2</th>\n",
       "      <td>./coverage_warm_starts_rerun//M_64/occ_det/cov...</td>\n",
       "      <td>occ_det</td>\n",
       "      <td>...</td>\n",
       "      <td>0.0</td>\n",
       "      <td>[[0.2697131, 0.51187086, -1.505637, 0.57947135...</td>\n",
       "      <td>0.94415</td>\n",
       "      <td>64</td>\n",
       "      <td>[[0.6063095106582751, 0.6956293036065494, 0.06...</td>\n",
       "    </tr>\n",
       "  </tbody>\n",
       "</table>\n",
       "</div>"
      ],
      "text/plain": [
       "                                            filename model_name  \\\n",
       "2  ./coverage_warm_starts_rerun//M_64/occ_det/cov...    occ_det   \n",
       "\n",
       "                                              loaded  frac_not_converged  \\\n",
       "2                                                ...                 0.0   \n",
       "\n",
       "                                            z_scores  frac_within   M  \\\n",
       "2  [[0.2697131, 0.51187086, -1.505637, 0.57947135...      0.94415  64   \n",
       "\n",
       "                                              p_vals  \n",
       "2  [[0.6063095106582751, 0.6956293036065494, 0.06...  "
      ]
     },
     "execution_count": 62,
     "metadata": {},
     "output_type": "execute_result"
    }
   ],
   "source": [
    "df[df['model_name'] == model_to_check]"
   ]
  },
  {
   "cell_type": "code",
   "execution_count": 63,
   "id": "686b277b",
   "metadata": {},
   "outputs": [
    {
     "data": {
      "text/html": [
       "<div>\n",
       "<style scoped>\n",
       "    .dataframe tbody tr th:only-of-type {\n",
       "        vertical-align: middle;\n",
       "    }\n",
       "\n",
       "    .dataframe tbody tr th {\n",
       "        vertical-align: top;\n",
       "    }\n",
       "\n",
       "    .dataframe thead th {\n",
       "        text-align: right;\n",
       "    }\n",
       "</style>\n",
       "<table border=\"1\" class=\"dataframe\">\n",
       "  <thead>\n",
       "    <tr style=\"text-align: right;\">\n",
       "      <th></th>\n",
       "      <th>means</th>\n",
       "      <th>seed</th>\n",
       "      <th>freq_sds</th>\n",
       "      <th>newton_step_norm</th>\n",
       "      <th>scipy_opt_result</th>\n",
       "      <th>reference_means</th>\n",
       "      <th>reference_freq_sds</th>\n",
       "      <th>M</th>\n",
       "      <th>reference_newton_step_norm</th>\n",
       "      <th>reference_scipy_opt_result</th>\n",
       "    </tr>\n",
       "  </thead>\n",
       "  <tbody>\n",
       "    <tr>\n",
       "      <th>0</th>\n",
       "      <td>[12.985711, -1.839379, 0.049412016, -9.588231,...</td>\n",
       "      <td>1000</td>\n",
       "      <td>[0.3878963343110617, 0.13127670675922035, 0.09...</td>\n",
       "      <td>6.806628e-08</td>\n",
       "      <td>{'x': [12.985711, -1.839379, 0.049412016, -9.5...</td>\n",
       "      <td>[12.948259103511944, -2.0725256511771715, 0.11...</td>\n",
       "      <td>[0.4120088916973734, 0.1631918666798617, 0.138...</td>\n",
       "      <td>64</td>\n",
       "      <td>5.393124e-08</td>\n",
       "      <td>{'x': [12.948259, -2.0725257, 0.11032698, -9.4...</td>\n",
       "    </tr>\n",
       "    <tr>\n",
       "      <th>1</th>\n",
       "      <td>[12.812199, -1.924079, 0.26327586, -9.739338, ...</td>\n",
       "      <td>1001</td>\n",
       "      <td>[0.5132251254161092, 0.10073335915233934, 0.10...</td>\n",
       "      <td>7.761289e-08</td>\n",
       "      <td>{'x': [12.812199, -1.924079, 0.26327586, -9.73...</td>\n",
       "      <td>[12.948259103511944, -2.0725256511771715, 0.11...</td>\n",
       "      <td>[0.4120088916973734, 0.1631918666798617, 0.138...</td>\n",
       "      <td>64</td>\n",
       "      <td>5.393124e-08</td>\n",
       "      <td>{'x': [12.948259, -2.0725257, 0.11032698, -9.4...</td>\n",
       "    </tr>\n",
       "    <tr>\n",
       "      <th>2</th>\n",
       "      <td>[13.173787, -1.9938519, 0.09735208, -9.845259,...</td>\n",
       "      <td>1002</td>\n",
       "      <td>[0.46939344367129376, 0.10078638566551111, 0.1...</td>\n",
       "      <td>9.178424e-09</td>\n",
       "      <td>{'x': [13.173787, -1.9938519, 0.09735208, -9.8...</td>\n",
       "      <td>[12.948259103511944, -2.0725256511771715, 0.11...</td>\n",
       "      <td>[0.4120088916973734, 0.1631918666798617, 0.138...</td>\n",
       "      <td>64</td>\n",
       "      <td>5.393124e-08</td>\n",
       "      <td>{'x': [12.948259, -2.0725257, 0.11032698, -9.4...</td>\n",
       "    </tr>\n",
       "    <tr>\n",
       "      <th>3</th>\n",
       "      <td>[12.712792, -2.0334826, 0.097458206, -9.263055...</td>\n",
       "      <td>1003</td>\n",
       "      <td>[0.6602299313175958, 0.08318921227406317, 0.09...</td>\n",
       "      <td>0.000000e+00</td>\n",
       "      <td>{'x': [12.712792, -2.0334826, 0.097458206, -9....</td>\n",
       "      <td>[12.948259103511944, -2.0725256511771715, 0.11...</td>\n",
       "      <td>[0.4120088916973734, 0.1631918666798617, 0.138...</td>\n",
       "      <td>64</td>\n",
       "      <td>5.393124e-08</td>\n",
       "      <td>{'x': [12.948259, -2.0725257, 0.11032698, -9.4...</td>\n",
       "    </tr>\n",
       "    <tr>\n",
       "      <th>4</th>\n",
       "      <td>[13.174414, -2.3183274, 0.19389926, -9.3976145...</td>\n",
       "      <td>1004</td>\n",
       "      <td>[0.5920924398689951, 0.1059532052115976, 0.086...</td>\n",
       "      <td>4.842439e-08</td>\n",
       "      <td>{'x': [13.174414, -2.3183274, 0.19389926, -9.3...</td>\n",
       "      <td>[12.948259103511944, -2.0725256511771715, 0.11...</td>\n",
       "      <td>[0.4120088916973734, 0.1631918666798617, 0.138...</td>\n",
       "      <td>64</td>\n",
       "      <td>5.393124e-08</td>\n",
       "      <td>{'x': [12.948259, -2.0725257, 0.11032698, -9.4...</td>\n",
       "    </tr>\n",
       "  </tbody>\n",
       "</table>\n",
       "</div>"
      ],
      "text/plain": [
       "                                               means  seed  \\\n",
       "0  [12.985711, -1.839379, 0.049412016, -9.588231,...  1000   \n",
       "1  [12.812199, -1.924079, 0.26327586, -9.739338, ...  1001   \n",
       "2  [13.173787, -1.9938519, 0.09735208, -9.845259,...  1002   \n",
       "3  [12.712792, -2.0334826, 0.097458206, -9.263055...  1003   \n",
       "4  [13.174414, -2.3183274, 0.19389926, -9.3976145...  1004   \n",
       "\n",
       "                                            freq_sds  newton_step_norm  \\\n",
       "0  [0.3878963343110617, 0.13127670675922035, 0.09...      6.806628e-08   \n",
       "1  [0.5132251254161092, 0.10073335915233934, 0.10...      7.761289e-08   \n",
       "2  [0.46939344367129376, 0.10078638566551111, 0.1...      9.178424e-09   \n",
       "3  [0.6602299313175958, 0.08318921227406317, 0.09...      0.000000e+00   \n",
       "4  [0.5920924398689951, 0.1059532052115976, 0.086...      4.842439e-08   \n",
       "\n",
       "                                    scipy_opt_result  \\\n",
       "0  {'x': [12.985711, -1.839379, 0.049412016, -9.5...   \n",
       "1  {'x': [12.812199, -1.924079, 0.26327586, -9.73...   \n",
       "2  {'x': [13.173787, -1.9938519, 0.09735208, -9.8...   \n",
       "3  {'x': [12.712792, -2.0334826, 0.097458206, -9....   \n",
       "4  {'x': [13.174414, -2.3183274, 0.19389926, -9.3...   \n",
       "\n",
       "                                     reference_means  \\\n",
       "0  [12.948259103511944, -2.0725256511771715, 0.11...   \n",
       "1  [12.948259103511944, -2.0725256511771715, 0.11...   \n",
       "2  [12.948259103511944, -2.0725256511771715, 0.11...   \n",
       "3  [12.948259103511944, -2.0725256511771715, 0.11...   \n",
       "4  [12.948259103511944, -2.0725256511771715, 0.11...   \n",
       "\n",
       "                                  reference_freq_sds   M  \\\n",
       "0  [0.4120088916973734, 0.1631918666798617, 0.138...  64   \n",
       "1  [0.4120088916973734, 0.1631918666798617, 0.138...  64   \n",
       "2  [0.4120088916973734, 0.1631918666798617, 0.138...  64   \n",
       "3  [0.4120088916973734, 0.1631918666798617, 0.138...  64   \n",
       "4  [0.4120088916973734, 0.1631918666798617, 0.138...  64   \n",
       "\n",
       "   reference_newton_step_norm  \\\n",
       "0                5.393124e-08   \n",
       "1                5.393124e-08   \n",
       "2                5.393124e-08   \n",
       "3                5.393124e-08   \n",
       "4                5.393124e-08   \n",
       "\n",
       "                          reference_scipy_opt_result  \n",
       "0  {'x': [12.948259, -2.0725257, 0.11032698, -9.4...  \n",
       "1  {'x': [12.948259, -2.0725257, 0.11032698, -9.4...  \n",
       "2  {'x': [12.948259, -2.0725257, 0.11032698, -9.4...  \n",
       "3  {'x': [12.948259, -2.0725257, 0.11032698, -9.4...  \n",
       "4  {'x': [12.948259, -2.0725257, 0.11032698, -9.4...  "
      ]
     },
     "execution_count": 63,
     "metadata": {},
     "output_type": "execute_result"
    }
   ],
   "source": [
    "df[df['model_name'] == model_to_check].iloc[0]['loaded'].head()"
   ]
  },
  {
   "cell_type": "code",
   "execution_count": 64,
   "id": "602a54bd",
   "metadata": {},
   "outputs": [
    {
     "data": {
      "text/plain": [
       "<matplotlib.lines.Line2D at 0x2889d67f0>"
      ]
     },
     "execution_count": 64,
     "metadata": {},
     "output_type": "execute_result"
    },
    {
     "data": {
      "image/png": "[encoded data removed]",
      "text/plain": [
       "<Figure size 640x480 with 1 Axes>"
      ]
     },
     "metadata": {
      "image/png": {
       "height": 413,
       "width": 547
      }
     },
     "output_type": "display_data"
    }
   ],
   "source": [
    "plt.hist(model_p_vals.reshape(-1), density=True, bins=20)\n",
    "plt.axhline(1.)\n",
    "\n",
    "# plt.savefig(f'{model_to_check}_coverage_M={df[\"M\"].iloc[0]}.png', dpi=300)"
   ]
  },
  {
   "cell_type": "code",
   "execution_count": 66,
   "id": "72c42562",
   "metadata": {},
   "outputs": [],
   "source": [
    "model_z_scores = df[df['model_name'] == model_to_check]['z_scores'].iloc[0].reshape(-1)"
   ]
  },
  {
   "cell_type": "code",
   "execution_count": 67,
   "id": "d25b2e47",
   "metadata": {},
   "outputs": [
    {
     "data": {
      "text/plain": [
       "(266643,)"
      ]
     },
     "execution_count": 67,
     "metadata": {},
     "output_type": "execute_result"
    }
   ],
   "source": [
    "exclude_problematic = False\n",
    "\n",
    "if exclude_problematic:\n",
    "    problematic = ['earnings_latin_square', 'earn_height']\n",
    "else:\n",
    "    problematic = []\n",
    "\n",
    "flat_z_scores = np.concatenate(df[~df['model_name'].isin(problematic)]['z_scores'].apply(lambda x: x.reshape(-1)).values)\n",
    "\n",
    "flat_z_scores.shape"
   ]
  },
  {
   "cell_type": "code",
   "execution_count": 68,
   "id": "8a35b24f",
   "metadata": {},
   "outputs": [],
   "source": [
    "all_p_vals = np.concatenate(\n",
    "    df[~df['model_name'].isin(problematic)]['p_vals'].apply(\n",
    "    lambda x: x.reshape(-1)).values)"
   ]
  },
  {
   "cell_type": "code",
   "execution_count": 69,
   "id": "8b44baa7",
   "metadata": {},
   "outputs": [
    {
     "data": {
      "text/plain": [
       "<matplotlib.lines.Line2D at 0x2889a77c0>"
      ]
     },
     "execution_count": 69,
     "metadata": {},
     "output_type": "execute_result"
    },
    {
     "data": {
      "image/png": "[encoded data removed]",
      "text/plain": [
       "<Figure size 640x480 with 1 Axes>"
      ]
     },
     "metadata": {
      "image/png": {
       "height": 413,
       "width": 547
      }
     },
     "output_type": "display_data"
    }
   ],
   "source": [
    "plt.hist(all_p_vals, density=True, bins=200)\n",
    "plt.axhline(1, color='r')"
   ]
  },
  {
   "cell_type": "code",
   "execution_count": 70,
   "id": "a215633b",
   "metadata": {},
   "outputs": [
    {
     "data": {
      "text/plain": [
       "(array([2.4000e+01, 4.9500e+02, 4.0090e+03, 1.5119e+04, 2.9728e+04,\n",
       "        2.9968e+04, 1.5923e+04, 4.1090e+03, 5.9600e+02, 2.9000e+01]),\n",
       " array([0.33277855, 0.36609937, 0.39942018, 0.43274099, 0.46606181,\n",
       "        0.49938262, 0.53270343, 0.56602424, 0.59934506, 0.63266587,\n",
       "        0.66598668]),\n",
       " <BarContainer object of 10 artists>)"
      ]
     },
     "execution_count": 70,
     "metadata": {},
     "output_type": "execute_result"
    },
    {
     "data": {
      "image/png": "[encoded data removed]",
      "text/plain": [
       "<Figure size 640x480 with 1 Axes>"
      ]
     },
     "metadata": {
      "image/png": {
       "height": 413,
       "width": 569
      }
     },
     "output_type": "display_data"
    }
   ],
   "source": [
    "# A few experiments -- what happens if we had a lower variance in z?\n",
    "# In this case, our intervals would be too conservative -- what would that look like?\n",
    "plt.hist(norm.cdf(norm.rvs(scale=.1, size=100000)))"
   ]
  },
  {
   "cell_type": "code",
   "execution_count": 72,
   "id": "30b939e7",
   "metadata": {},
   "outputs": [
    {
     "data": {
      "text/plain": [
       "(array([11975., 11003., 10617., 10195., 10107.,  9873.,  9574.,  9452.,\n",
       "         8980.,  8224.]),\n",
       " array([1.61330157e-05, 1.00014407e-01, 2.00012681e-01, 3.00010956e-01,\n",
       "        4.00009230e-01, 5.00007504e-01, 6.00005778e-01, 7.00004052e-01,\n",
       "        8.00002326e-01, 9.00000601e-01, 9.99998875e-01]),\n",
       " <BarContainer object of 10 artists>)"
      ]
     },
     "execution_count": 72,
     "metadata": {},
     "output_type": "execute_result"
    },
    {
     "data": {
      "image/png": "[encoded data removed]",
      "text/plain": [
       "<Figure size 640x480 with 1 Axes>"
      ]
     },
     "metadata": {
      "image/png": {
       "height": 413,
       "width": 569
      }
     },
     "output_type": "display_data"
    }
   ],
   "source": [
    "# What about a systematic bias?\n",
    "plt.hist(norm.cdf(norm.rvs(loc=-0.1, scale=1., size=100000)))"
   ]
  },
  {
   "cell_type": "code",
   "execution_count": 73,
   "id": "cfb8baec",
   "metadata": {},
   "outputs": [
    {
     "data": {
      "text/plain": [
       "(array([45034.,  1736.,  1279.,  1060.,  1020.,  1025.,  1175.,  1232.,\n",
       "         1741., 44698.]),\n",
       " array([0. , 0.1, 0.2, 0.3, 0.4, 0.5, 0.6, 0.7, 0.8, 0.9, 1. ]),\n",
       " <BarContainer object of 10 artists>)"
      ]
     },
     "execution_count": 73,
     "metadata": {},
     "output_type": "execute_result"
    },
    {
     "data": {
      "image/png": "[encoded data removed]",
      "text/plain": [
       "<Figure size 640x480 with 1 Axes>"
      ]
     },
     "metadata": {
      "image/png": {
       "height": 413,
       "width": 569
      }
     },
     "output_type": "display_data"
    }
   ],
   "source": [
    "# And what about if our intervals were too narrow?\n",
    "plt.hist(norm.cdf(norm.rvs(scale=10., size=100000)))"
   ]
  },
  {
   "cell_type": "code",
   "execution_count": 78,
   "id": "c53599b6",
   "metadata": {},
   "outputs": [],
   "source": [
    "# Lastly, we can take a look at which z-score is most outlying\n",
    "df['min_z_score'] = df['z_scores'].apply(lambda x: x.min())"
   ]
  },
  {
   "cell_type": "code",
   "execution_count": 79,
   "id": "386cd66b",
   "metadata": {},
   "outputs": [
    {
     "data": {
      "text/html": [
       "<div>\n",
       "<style scoped>\n",
       "    .dataframe tbody tr th:only-of-type {\n",
       "        vertical-align: middle;\n",
       "    }\n",
       "\n",
       "    .dataframe tbody tr th {\n",
       "        vertical-align: top;\n",
       "    }\n",
       "\n",
       "    .dataframe thead th {\n",
       "        text-align: right;\n",
       "    }\n",
       "</style>\n",
       "<table border=\"1\" class=\"dataframe\">\n",
       "  <thead>\n",
       "    <tr style=\"text-align: right;\">\n",
       "      <th></th>\n",
       "      <th>filename</th>\n",
       "      <th>model_name</th>\n",
       "      <th>loaded</th>\n",
       "      <th>frac_not_converged</th>\n",
       "      <th>z_scores</th>\n",
       "      <th>frac_within</th>\n",
       "      <th>M</th>\n",
       "      <th>p_vals</th>\n",
       "      <th>min_z_score</th>\n",
       "    </tr>\n",
       "  </thead>\n",
       "  <tbody>\n",
       "    <tr>\n",
       "      <th>2</th>\n",
       "      <td>./coverage_warm_starts_rerun//M_64/occ_det/cov...</td>\n",
       "      <td>occ_det</td>\n",
       "      <td>...</td>\n",
       "      <td>0.0</td>\n",
       "      <td>[[0.2697131, 0.51187086, -1.505637, 0.57947135...</td>\n",
       "      <td>0.944150</td>\n",
       "      <td>64</td>\n",
       "      <td>[[0.6063095106582751, 0.6956293036065494, 0.06...</td>\n",
       "      <td>-7.176533</td>\n",
       "    </tr>\n",
       "    <tr>\n",
       "      <th>48</th>\n",
       "      <td>./coverage_warm_starts_rerun//M_64/tennis/cove...</td>\n",
       "      <td>tennis</td>\n",
       "      <td>...</td>\n",
       "      <td>0.0</td>\n",
       "      <td>[[-1.0836227, 0.042174604, -1.4517847, -0.2514...</td>\n",
       "      <td>0.949076</td>\n",
       "      <td>64</td>\n",
       "      <td>[[0.1392660622204196, 0.5168202461091528, 0.07...</td>\n",
       "      <td>-4.416896</td>\n",
       "    </tr>\n",
       "    <tr>\n",
       "      <th>31</th>\n",
       "      <td>./coverage_warm_starts_rerun//M_64/pilots/cove...</td>\n",
       "      <td>pilots</td>\n",
       "      <td>...</td>\n",
       "      <td>0.0</td>\n",
       "      <td>[[2.1741607, -1.211309, -0.8943357, -0.1335909...</td>\n",
       "      <td>0.904932</td>\n",
       "      <td>64</td>\n",
       "      <td>[[0.9851534663731191, 0.11288850876157508, 0.1...</td>\n",
       "      <td>-4.020880</td>\n",
       "    </tr>\n",
       "    <tr>\n",
       "      <th>39</th>\n",
       "      <td>./coverage_warm_starts_rerun//M_64/radon_group...</td>\n",
       "      <td>radon_group</td>\n",
       "      <td>...</td>\n",
       "      <td>0.0</td>\n",
       "      <td>[[-0.45361146, 0.47122532, 0.17289919, 0.19852...</td>\n",
       "      <td>0.948822</td>\n",
       "      <td>64</td>\n",
       "      <td>[[0.325054250647757, 0.6812600808890215, 0.568...</td>\n",
       "      <td>-3.852541</td>\n",
       "    </tr>\n",
       "    <tr>\n",
       "      <th>35</th>\n",
       "      <td>./coverage_warm_starts_rerun//M_64/radon_group...</td>\n",
       "      <td>radon_group_chr</td>\n",
       "      <td>...</td>\n",
       "      <td>0.0</td>\n",
       "      <td>[[-0.45361146, 0.47122532, 0.17289919, 0.19852...</td>\n",
       "      <td>0.948822</td>\n",
       "      <td>64</td>\n",
       "      <td>[[0.325054250647757, 0.6812600808890215, 0.568...</td>\n",
       "      <td>-3.852541</td>\n",
       "    </tr>\n",
       "    <tr>\n",
       "      <th>26</th>\n",
       "      <td>./coverage_warm_starts_rerun//M_64/election88_...</td>\n",
       "      <td>election88_full</td>\n",
       "      <td>...</td>\n",
       "      <td>0.0</td>\n",
       "      <td>[[0.9486847, -0.72235376, -1.2385343, 1.098400...</td>\n",
       "      <td>0.933851</td>\n",
       "      <td>64</td>\n",
       "      <td>[[0.8286094991116382, 0.23503850521496644, 0.1...</td>\n",
       "      <td>-3.808394</td>\n",
       "    </tr>\n",
       "    <tr>\n",
       "      <th>10</th>\n",
       "      <td>./coverage_warm_starts_rerun//M_64/earnings_la...</td>\n",
       "      <td>earnings_latin_square</td>\n",
       "      <td>...</td>\n",
       "      <td>0.0</td>\n",
       "      <td>[[0.3319593, 0.0001772494, 1.2529637, -0.99097...</td>\n",
       "      <td>0.931269</td>\n",
       "      <td>64</td>\n",
       "      <td>[[0.630040006797193, 0.5000707122793507, 0.894...</td>\n",
       "      <td>-3.784222</td>\n",
       "    </tr>\n",
       "    <tr>\n",
       "      <th>37</th>\n",
       "      <td>./coverage_warm_starts_rerun//M_64/radon_vary_...</td>\n",
       "      <td>radon_vary_si</td>\n",
       "      <td>...</td>\n",
       "      <td>0.0</td>\n",
       "      <td>[[-0.13040718, 0.6026381, 0.3919791, -0.272400...</td>\n",
       "      <td>0.946360</td>\n",
       "      <td>64</td>\n",
       "      <td>[[0.4481221414156525, 0.7266252741501616, 0.65...</td>\n",
       "      <td>-3.534252</td>\n",
       "    </tr>\n",
       "    <tr>\n",
       "      <th>58</th>\n",
       "      <td>./coverage_warm_starts_rerun//M_64/radon_inter...</td>\n",
       "      <td>radon_inter_vary</td>\n",
       "      <td>...</td>\n",
       "      <td>0.0</td>\n",
       "      <td>[[-1.1403514, -0.43344852, -0.10115576, -1.082...</td>\n",
       "      <td>0.951274</td>\n",
       "      <td>64</td>\n",
       "      <td>[[0.1270699628097755, 0.332344477760118, 0.459...</td>\n",
       "      <td>-3.526796</td>\n",
       "    </tr>\n",
       "    <tr>\n",
       "      <th>5</th>\n",
       "      <td>./coverage_warm_starts_rerun//M_64/electric_1b...</td>\n",
       "      <td>electric_1b</td>\n",
       "      <td>...</td>\n",
       "      <td>0.0</td>\n",
       "      <td>[[-0.48137265, -1.701538, -0.54601866, 0.10973...</td>\n",
       "      <td>0.940494</td>\n",
       "      <td>64</td>\n",
       "      <td>[[0.3151258341039478, 0.0444210073884129, 0.29...</td>\n",
       "      <td>-3.516741</td>\n",
       "    </tr>\n",
       "  </tbody>\n",
       "</table>\n",
       "</div>"
      ],
      "text/plain": [
       "                                             filename             model_name  \\\n",
       "2   ./coverage_warm_starts_rerun//M_64/occ_det/cov...                occ_det   \n",
       "48  ./coverage_warm_starts_rerun//M_64/tennis/cove...                 tennis   \n",
       "31  ./coverage_warm_starts_rerun//M_64/pilots/cove...                 pilots   \n",
       "39  ./coverage_warm_starts_rerun//M_64/radon_group...            radon_group   \n",
       "35  ./coverage_warm_starts_rerun//M_64/radon_group...        radon_group_chr   \n",
       "26  ./coverage_warm_starts_rerun//M_64/election88_...        election88_full   \n",
       "10  ./coverage_warm_starts_rerun//M_64/earnings_la...  earnings_latin_square   \n",
       "37  ./coverage_warm_starts_rerun//M_64/radon_vary_...          radon_vary_si   \n",
       "58  ./coverage_warm_starts_rerun//M_64/radon_inter...       radon_inter_vary   \n",
       "5   ./coverage_warm_starts_rerun//M_64/electric_1b...            electric_1b   \n",
       "\n",
       "                                               loaded  frac_not_converged  \\\n",
       "2                                                 ...                 0.0   \n",
       "48                                                ...                 0.0   \n",
       "31                                                ...                 0.0   \n",
       "39                                                ...                 0.0   \n",
       "35                                                ...                 0.0   \n",
       "26                                                ...                 0.0   \n",
       "10                                                ...                 0.0   \n",
       "37                                                ...                 0.0   \n",
       "58                                                ...                 0.0   \n",
       "5                                                 ...                 0.0   \n",
       "\n",
       "                                             z_scores  frac_within   M  \\\n",
       "2   [[0.2697131, 0.51187086, -1.505637, 0.57947135...     0.944150  64   \n",
       "48  [[-1.0836227, 0.042174604, -1.4517847, -0.2514...     0.949076  64   \n",
       "31  [[2.1741607, -1.211309, -0.8943357, -0.1335909...     0.904932  64   \n",
       "39  [[-0.45361146, 0.47122532, 0.17289919, 0.19852...     0.948822  64   \n",
       "35  [[-0.45361146, 0.47122532, 0.17289919, 0.19852...     0.948822  64   \n",
       "26  [[0.9486847, -0.72235376, -1.2385343, 1.098400...     0.933851  64   \n",
       "10  [[0.3319593, 0.0001772494, 1.2529637, -0.99097...     0.931269  64   \n",
       "37  [[-0.13040718, 0.6026381, 0.3919791, -0.272400...     0.946360  64   \n",
       "58  [[-1.1403514, -0.43344852, -0.10115576, -1.082...     0.951274  64   \n",
       "5   [[-0.48137265, -1.701538, -0.54601866, 0.10973...     0.940494  64   \n",
       "\n",
       "                                               p_vals  min_z_score  \n",
       "2   [[0.6063095106582751, 0.6956293036065494, 0.06...    -7.176533  \n",
       "48  [[0.1392660622204196, 0.5168202461091528, 0.07...    -4.416896  \n",
       "31  [[0.9851534663731191, 0.11288850876157508, 0.1...    -4.020880  \n",
       "39  [[0.325054250647757, 0.6812600808890215, 0.568...    -3.852541  \n",
       "35  [[0.325054250647757, 0.6812600808890215, 0.568...    -3.852541  \n",
       "26  [[0.8286094991116382, 0.23503850521496644, 0.1...    -3.808394  \n",
       "10  [[0.630040006797193, 0.5000707122793507, 0.894...    -3.784222  \n",
       "37  [[0.4481221414156525, 0.7266252741501616, 0.65...    -3.534252  \n",
       "58  [[0.1270699628097755, 0.332344477760118, 0.459...    -3.526796  \n",
       "5   [[0.3151258341039478, 0.0444210073884129, 0.29...    -3.516741  "
      ]
     },
     "execution_count": 79,
     "metadata": {},
     "output_type": "execute_result"
    }
   ],
   "source": [
    "df.sort_values('min_z_score').head(10)"
   ]
  },
  {
   "cell_type": "code",
   "execution_count": 80,
   "id": "b304379f",
   "metadata": {},
   "outputs": [],
   "source": [
    "worst_one = df.sort_values('min_z_score').iloc[0]"
   ]
  },
  {
   "cell_type": "code",
   "execution_count": 77,
   "id": "6fdaf499",
   "metadata": {},
   "outputs": [
    {
     "data": {
      "text/plain": [
       "filename              ./coverage_warm_starts_rerun//M_64/occ_det/cov...\n",
       "model_name                                                      occ_det\n",
       "loaded                                                              ...\n",
       "frac_not_converged                                                  0.0\n",
       "z_scores              [[0.2697131, 0.51187086, -1.505637, 0.57947135...\n",
       "frac_within                                                     0.94415\n",
       "M                                                                    64\n",
       "p_vals                [[0.6063095106582751, 0.6956293036065494, 0.06...\n",
       "min_z_score                                                   -7.176533\n",
       "Name: 2, dtype: object"
      ]
     },
     "execution_count": 77,
     "metadata": {},
     "output_type": "execute_result"
    }
   ],
   "source": [
    "worst_one"
   ]
  },
  {
   "cell_type": "code",
   "execution_count": null,
   "id": "08f2676c",
   "metadata": {},
   "outputs": [],
   "source": []
  }
 ],
 "metadata": {
  "kernelspec": {
   "display_name": "Python 3.8.13 ('dadvi')",
   "language": "python",
   "name": "python3"
  },
  "language_info": {
   "codemirror_mode": {
    "name": "ipython",
    "version": 3
   },
   "file_extension": ".py",
   "mimetype": "text/x-python",
   "name": "python",
   "nbconvert_exporter": "python",
   "pygments_lexer": "ipython3",
   "version": "3.8.13"
  },
  "vscode": {
   "interpreter": {
    "hash": "d6b81382af3beaebbac93aac606334308960b1a7270e498d25ccdd66c34d7f6d"
   }
  }
 },
 "nbformat": 4,
 "nbformat_minor": 5
}
