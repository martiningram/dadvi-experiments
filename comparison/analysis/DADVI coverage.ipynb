{
 "cells": [
  {
   "cell_type": "code",
   "execution_count": 2,
   "id": "fe13d465",
   "metadata": {},
   "outputs": [],
   "source": [
    "import pickle\n",
    "from glob import glob"
   ]
  },
  {
   "cell_type": "code",
   "execution_count": 3,
   "id": "ed6e8e24",
   "metadata": {},
   "outputs": [],
   "source": [
    "from os.path import join\n",
    "\n",
    "base_path = '/media/martin/External Drive/projects/lrvb_paper/coverage_redone_2022'\n",
    "\n",
    "coverage_runs = glob(join(base_path, '*', '*.pkl'))\n",
    "model_names = [x.split('/')[-2] for x in coverage_runs]"
   ]
  },
  {
   "cell_type": "code",
   "execution_count": 4,
   "id": "1eabe8e0",
   "metadata": {},
   "outputs": [],
   "source": [
    "import pandas as pd"
   ]
  },
  {
   "cell_type": "code",
   "execution_count": 5,
   "id": "17192da5",
   "metadata": {},
   "outputs": [],
   "source": [
    "df = pd.DataFrame({'filename': coverage_runs, 'model_name': model_names})"
   ]
  },
  {
   "cell_type": "code",
   "execution_count": 6,
   "id": "3ca221a6",
   "metadata": {},
   "outputs": [
    {
     "data": {
      "text/plain": [
       "filename      /media/martin/External Drive/projects/lrvb_pap...\n",
       "model_name                                             mesquite\n",
       "Name: 6, dtype: object"
      ]
     },
     "execution_count": 6,
     "metadata": {},
     "output_type": "execute_result"
    }
   ],
   "source": [
    "example = df.iloc[6]\n",
    "\n",
    "example"
   ]
  },
  {
   "cell_type": "code",
   "execution_count": 7,
   "id": "4f42a947",
   "metadata": {},
   "outputs": [],
   "source": [
    "from scipy.stats import norm"
   ]
  },
  {
   "cell_type": "code",
   "execution_count": 8,
   "id": "3ea83597",
   "metadata": {},
   "outputs": [],
   "source": [
    "import numpy as np\n",
    "\n",
    "def compute_z_scores(loaded):\n",
    "\n",
    "    # Compute the z-scores\n",
    "    z_scores = (loaded['means'] - loaded['reference_means']) / loaded['reference_freq_sds']\n",
    "\n",
    "    # Make them an array\n",
    "    z_array = np.stack(z_scores.values)\n",
    "    \n",
    "    return z_array\n",
    "\n",
    "def evaluate_z_scores(z_array, crit_prob=0.025):\n",
    "\n",
    "    z_crit = norm.ppf(crit_prob)\n",
    "    within_interval = np.abs(z_array) < np.abs(z_crit)\n",
    "    within_ratio = within_interval.mean()\n",
    "    \n",
    "    return within_ratio"
   ]
  },
  {
   "cell_type": "code",
   "execution_count": 9,
   "id": "788addf6",
   "metadata": {},
   "outputs": [
    {
     "name": "stderr",
     "output_type": "stream",
     "text": [
      "WARNING:absl:No GPU/TPU found, falling back to CPU. (Set TF_CPP_MIN_LOG_LEVEL=0 and rerun for more info.)\n"
     ]
    }
   ],
   "source": [
    "df['loaded'] = df['filename'].apply(pd.read_pickle)"
   ]
  },
  {
   "cell_type": "markdown",
   "id": "5cd99691",
   "metadata": {},
   "source": [
    "A bit of explanation here: the field \"loaded\" now contains the rerun information. The column \"means\" lists the means for each rerun. The column \"reference_means\" lists the means for the reference run whose confidence interval we wish to evalute. And the column \"reference_freq_sds\" contains the estimated frequentist standard deviations."
   ]
  },
  {
   "cell_type": "code",
   "execution_count": 17,
   "id": "c52e500b",
   "metadata": {},
   "outputs": [
    {
     "data": {
      "text/html": [
       "<div>\n",
       "<style scoped>\n",
       "    .dataframe tbody tr th:only-of-type {\n",
       "        vertical-align: middle;\n",
       "    }\n",
       "\n",
       "    .dataframe tbody tr th {\n",
       "        vertical-align: top;\n",
       "    }\n",
       "\n",
       "    .dataframe thead th {\n",
       "        text-align: right;\n",
       "    }\n",
       "</style>\n",
       "<table border=\"1\" class=\"dataframe\">\n",
       "  <thead>\n",
       "    <tr style=\"text-align: right;\">\n",
       "      <th></th>\n",
       "      <th>means</th>\n",
       "      <th>seed</th>\n",
       "      <th>reference_means</th>\n",
       "      <th>reference_freq_sds</th>\n",
       "      <th>M</th>\n",
       "    </tr>\n",
       "  </thead>\n",
       "  <tbody>\n",
       "    <tr>\n",
       "      <th>0</th>\n",
       "      <td>[-0.061240103, 0.58960515, 0.93378234, 0.29152...</td>\n",
       "      <td>1000</td>\n",
       "      <td>[-0.1130525976956779, 0.4724504181631311, 0.94...</td>\n",
       "      <td>[0.06371613723811947, 0.06000210744736863, 0.0...</td>\n",
       "      <td>16</td>\n",
       "    </tr>\n",
       "    <tr>\n",
       "      <th>1</th>\n",
       "      <td>[-0.10099585, 0.5623569, 0.8384546, 0.26513144...</td>\n",
       "      <td>1001</td>\n",
       "      <td>[-0.1130525976956779, 0.4724504181631311, 0.94...</td>\n",
       "      <td>[0.06371613723811947, 0.06000210744736863, 0.0...</td>\n",
       "      <td>16</td>\n",
       "    </tr>\n",
       "    <tr>\n",
       "      <th>2</th>\n",
       "      <td>[-0.16594775, 0.5576487, 0.91966385, 0.4905213...</td>\n",
       "      <td>1002</td>\n",
       "      <td>[-0.1130525976956779, 0.4724504181631311, 0.94...</td>\n",
       "      <td>[0.06371613723811947, 0.06000210744736863, 0.0...</td>\n",
       "      <td>16</td>\n",
       "    </tr>\n",
       "    <tr>\n",
       "      <th>3</th>\n",
       "      <td>[0.048751667, 0.5765971, 0.94576126, 0.1042791...</td>\n",
       "      <td>1003</td>\n",
       "      <td>[-0.1130525976956779, 0.4724504181631311, 0.94...</td>\n",
       "      <td>[0.06371613723811947, 0.06000210744736863, 0.0...</td>\n",
       "      <td>16</td>\n",
       "    </tr>\n",
       "    <tr>\n",
       "      <th>4</th>\n",
       "      <td>[-0.072365575, 0.55785, 0.97727007, 0.3158463,...</td>\n",
       "      <td>1004</td>\n",
       "      <td>[-0.1130525976956779, 0.4724504181631311, 0.94...</td>\n",
       "      <td>[0.06371613723811947, 0.06000210744736863, 0.0...</td>\n",
       "      <td>16</td>\n",
       "    </tr>\n",
       "    <tr>\n",
       "      <th>...</th>\n",
       "      <td>...</td>\n",
       "      <td>...</td>\n",
       "      <td>...</td>\n",
       "      <td>...</td>\n",
       "      <td>...</td>\n",
       "    </tr>\n",
       "    <tr>\n",
       "      <th>95</th>\n",
       "      <td>[-0.05757231, 0.639789, 0.9750192, 0.2667216, ...</td>\n",
       "      <td>1095</td>\n",
       "      <td>[-0.1130525976956779, 0.4724504181631311, 0.94...</td>\n",
       "      <td>[0.06371613723811947, 0.06000210744736863, 0.0...</td>\n",
       "      <td>16</td>\n",
       "    </tr>\n",
       "    <tr>\n",
       "      <th>96</th>\n",
       "      <td>[-0.25948417, 0.61026293, 0.9345301, 0.3070447...</td>\n",
       "      <td>1096</td>\n",
       "      <td>[-0.1130525976956779, 0.4724504181631311, 0.94...</td>\n",
       "      <td>[0.06371613723811947, 0.06000210744736863, 0.0...</td>\n",
       "      <td>16</td>\n",
       "    </tr>\n",
       "    <tr>\n",
       "      <th>97</th>\n",
       "      <td>[-0.080908045, 0.5815274, 0.91279346, 0.372485...</td>\n",
       "      <td>1097</td>\n",
       "      <td>[-0.1130525976956779, 0.4724504181631311, 0.94...</td>\n",
       "      <td>[0.06371613723811947, 0.06000210744736863, 0.0...</td>\n",
       "      <td>16</td>\n",
       "    </tr>\n",
       "    <tr>\n",
       "      <th>98</th>\n",
       "      <td>[-0.17268571, 0.5937, 1.0820408, 0.40526196, 0...</td>\n",
       "      <td>1098</td>\n",
       "      <td>[-0.1130525976956779, 0.4724504181631311, 0.94...</td>\n",
       "      <td>[0.06371613723811947, 0.06000210744736863, 0.0...</td>\n",
       "      <td>16</td>\n",
       "    </tr>\n",
       "    <tr>\n",
       "      <th>99</th>\n",
       "      <td>[-0.21624565, 0.59061754, 1.007789, 0.35427076...</td>\n",
       "      <td>1099</td>\n",
       "      <td>[-0.1130525976956779, 0.4724504181631311, 0.94...</td>\n",
       "      <td>[0.06371613723811947, 0.06000210744736863, 0.0...</td>\n",
       "      <td>16</td>\n",
       "    </tr>\n",
       "  </tbody>\n",
       "</table>\n",
       "<p>100 rows × 5 columns</p>\n",
       "</div>"
      ],
      "text/plain": [
       "                                                means  seed  \\\n",
       "0   [-0.061240103, 0.58960515, 0.93378234, 0.29152...  1000   \n",
       "1   [-0.10099585, 0.5623569, 0.8384546, 0.26513144...  1001   \n",
       "2   [-0.16594775, 0.5576487, 0.91966385, 0.4905213...  1002   \n",
       "3   [0.048751667, 0.5765971, 0.94576126, 0.1042791...  1003   \n",
       "4   [-0.072365575, 0.55785, 0.97727007, 0.3158463,...  1004   \n",
       "..                                                ...   ...   \n",
       "95  [-0.05757231, 0.639789, 0.9750192, 0.2667216, ...  1095   \n",
       "96  [-0.25948417, 0.61026293, 0.9345301, 0.3070447...  1096   \n",
       "97  [-0.080908045, 0.5815274, 0.91279346, 0.372485...  1097   \n",
       "98  [-0.17268571, 0.5937, 1.0820408, 0.40526196, 0...  1098   \n",
       "99  [-0.21624565, 0.59061754, 1.007789, 0.35427076...  1099   \n",
       "\n",
       "                                      reference_means  \\\n",
       "0   [-0.1130525976956779, 0.4724504181631311, 0.94...   \n",
       "1   [-0.1130525976956779, 0.4724504181631311, 0.94...   \n",
       "2   [-0.1130525976956779, 0.4724504181631311, 0.94...   \n",
       "3   [-0.1130525976956779, 0.4724504181631311, 0.94...   \n",
       "4   [-0.1130525976956779, 0.4724504181631311, 0.94...   \n",
       "..                                                ...   \n",
       "95  [-0.1130525976956779, 0.4724504181631311, 0.94...   \n",
       "96  [-0.1130525976956779, 0.4724504181631311, 0.94...   \n",
       "97  [-0.1130525976956779, 0.4724504181631311, 0.94...   \n",
       "98  [-0.1130525976956779, 0.4724504181631311, 0.94...   \n",
       "99  [-0.1130525976956779, 0.4724504181631311, 0.94...   \n",
       "\n",
       "                                   reference_freq_sds   M  \n",
       "0   [0.06371613723811947, 0.06000210744736863, 0.0...  16  \n",
       "1   [0.06371613723811947, 0.06000210744736863, 0.0...  16  \n",
       "2   [0.06371613723811947, 0.06000210744736863, 0.0...  16  \n",
       "3   [0.06371613723811947, 0.06000210744736863, 0.0...  16  \n",
       "4   [0.06371613723811947, 0.06000210744736863, 0.0...  16  \n",
       "..                                                ...  ..  \n",
       "95  [0.06371613723811947, 0.06000210744736863, 0.0...  16  \n",
       "96  [0.06371613723811947, 0.06000210744736863, 0.0...  16  \n",
       "97  [0.06371613723811947, 0.06000210744736863, 0.0...  16  \n",
       "98  [0.06371613723811947, 0.06000210744736863, 0.0...  16  \n",
       "99  [0.06371613723811947, 0.06000210744736863, 0.0...  16  \n",
       "\n",
       "[100 rows x 5 columns]"
      ]
     },
     "execution_count": 17,
     "metadata": {},
     "output_type": "execute_result"
    }
   ],
   "source": [
    "df.iloc[0]['loaded']"
   ]
  },
  {
   "cell_type": "code",
   "execution_count": 18,
   "id": "2188182f",
   "metadata": {},
   "outputs": [],
   "source": [
    "df['z_scores'] = df['loaded'].apply(compute_z_scores)"
   ]
  },
  {
   "cell_type": "code",
   "execution_count": 19,
   "id": "eb13a860",
   "metadata": {},
   "outputs": [],
   "source": [
    "df['frac_within'] = df['z_scores'].apply(evaluate_z_scores)"
   ]
  },
  {
   "cell_type": "code",
   "execution_count": 20,
   "id": "c16966ea",
   "metadata": {},
   "outputs": [],
   "source": [
    "df['M'] = df['loaded'].apply(lambda x: x['M'].iloc[0])"
   ]
  },
  {
   "cell_type": "code",
   "execution_count": 21,
   "id": "4de59882",
   "metadata": {},
   "outputs": [
    {
     "data": {
      "text/html": [
       "<div>\n",
       "<style scoped>\n",
       "    .dataframe tbody tr th:only-of-type {\n",
       "        vertical-align: middle;\n",
       "    }\n",
       "\n",
       "    .dataframe tbody tr th {\n",
       "        vertical-align: top;\n",
       "    }\n",
       "\n",
       "    .dataframe thead th {\n",
       "        text-align: right;\n",
       "    }\n",
       "</style>\n",
       "<table border=\"1\" class=\"dataframe\">\n",
       "  <thead>\n",
       "    <tr style=\"text-align: right;\">\n",
       "      <th></th>\n",
       "      <th>model_name</th>\n",
       "      <th>M</th>\n",
       "      <th>frac_within</th>\n",
       "    </tr>\n",
       "  </thead>\n",
       "  <tbody>\n",
       "    <tr>\n",
       "      <th>6</th>\n",
       "      <td>mesquite</td>\n",
       "      <td>8</td>\n",
       "      <td>0.593750</td>\n",
       "    </tr>\n",
       "    <tr>\n",
       "      <th>16</th>\n",
       "      <td>mesquite_log</td>\n",
       "      <td>8</td>\n",
       "      <td>0.610000</td>\n",
       "    </tr>\n",
       "    <tr>\n",
       "      <th>40</th>\n",
       "      <td>mesquite_vas</td>\n",
       "      <td>8</td>\n",
       "      <td>0.632500</td>\n",
       "    </tr>\n",
       "    <tr>\n",
       "      <th>18</th>\n",
       "      <td>logearn_logheight</td>\n",
       "      <td>8</td>\n",
       "      <td>0.642500</td>\n",
       "    </tr>\n",
       "    <tr>\n",
       "      <th>21</th>\n",
       "      <td>electric_multi_preds</td>\n",
       "      <td>8</td>\n",
       "      <td>0.662500</td>\n",
       "    </tr>\n",
       "    <tr>\n",
       "      <th>...</th>\n",
       "      <td>...</td>\n",
       "      <td>...</td>\n",
       "      <td>...</td>\n",
       "    </tr>\n",
       "    <tr>\n",
       "      <th>0</th>\n",
       "      <td>hiv_inter</td>\n",
       "      <td>16</td>\n",
       "      <td>0.823567</td>\n",
       "    </tr>\n",
       "    <tr>\n",
       "      <th>34</th>\n",
       "      <td>electric_1a</td>\n",
       "      <td>16</td>\n",
       "      <td>0.824037</td>\n",
       "    </tr>\n",
       "    <tr>\n",
       "      <th>15</th>\n",
       "      <td>electric_1b</td>\n",
       "      <td>16</td>\n",
       "      <td>0.824455</td>\n",
       "    </tr>\n",
       "    <tr>\n",
       "      <th>5</th>\n",
       "      <td>sesame_multi_preds_3a</td>\n",
       "      <td>8</td>\n",
       "      <td>0.832222</td>\n",
       "    </tr>\n",
       "    <tr>\n",
       "      <th>49</th>\n",
       "      <td>sesame_multi_preds_3b</td>\n",
       "      <td>8</td>\n",
       "      <td>0.836667</td>\n",
       "    </tr>\n",
       "  </tbody>\n",
       "</table>\n",
       "<p>63 rows × 3 columns</p>\n",
       "</div>"
      ],
      "text/plain": [
       "               model_name   M  frac_within\n",
       "6                mesquite   8     0.593750\n",
       "16           mesquite_log   8     0.610000\n",
       "40           mesquite_vas   8     0.632500\n",
       "18      logearn_logheight   8     0.642500\n",
       "21   electric_multi_preds   8     0.662500\n",
       "..                    ...  ..          ...\n",
       "0               hiv_inter  16     0.823567\n",
       "34            electric_1a  16     0.824037\n",
       "15            electric_1b  16     0.824455\n",
       "5   sesame_multi_preds_3a   8     0.832222\n",
       "49  sesame_multi_preds_3b   8     0.836667\n",
       "\n",
       "[63 rows x 3 columns]"
      ]
     },
     "execution_count": 21,
     "metadata": {},
     "output_type": "execute_result"
    }
   ],
   "source": [
    "# 95% should lie within.\n",
    "df[['model_name', 'M', 'frac_within']].sort_values('frac_within')"
   ]
  },
  {
   "cell_type": "code",
   "execution_count": 22,
   "id": "fa671cfe",
   "metadata": {},
   "outputs": [
    {
     "data": {
      "text/plain": [
       "<AxesSubplot:>"
      ]
     },
     "execution_count": 22,
     "metadata": {},
     "output_type": "execute_result"
    },
    {
     "data": {
      "image/png": "[encoded data removed]",
      "text/plain": [
       "<Figure size 640x480 with 1 Axes>"
      ]
     },
     "metadata": {
      "image/png": {
       "height": 413,
       "width": 556
      }
     },
     "output_type": "display_data"
    }
   ],
   "source": [
    "import matplotlib.pyplot as plt\n",
    "\n",
    "df['frac_within'].hist()"
   ]
  },
  {
   "cell_type": "code",
   "execution_count": null,
   "id": "31f95d2e",
   "metadata": {},
   "outputs": [],
   "source": []
  }
 ],
 "metadata": {
  "kernelspec": {
   "display_name": "Python 3 (ipykernel)",
   "language": "python",
   "name": "python3"
  },
  "language_info": {
   "codemirror_mode": {
    "name": "ipython",
    "version": 3
   },
   "file_extension": ".py",
   "mimetype": "text/x-python",
   "name": "python",
   "nbconvert_exporter": "python",
   "pygments_lexer": "ipython3",
   "version": "3.8.13"
  }
 },
 "nbformat": 4,
 "nbformat_minor": 5
}
