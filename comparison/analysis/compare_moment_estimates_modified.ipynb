{
 "cells": [
  {
   "cell_type": "code",
   "execution_count": 1,
   "metadata": {},
   "outputs": [],
   "source": [
    "from glob import glob\n",
    "from os.path import join\n",
    "import pandas as pd\n",
    "import numpy as np\n",
    "\n",
    "from load_results_lib import load_moment_df, add_metadata\n",
    "from load_results_lib import add_deviation_stats, add_derived_stats\n",
    "from load_results_lib import VALID_METHODS"
   ]
  },
  {
   "cell_type": "code",
   "execution_count": 2,
   "metadata": {},
   "outputs": [
    {
     "name": "stdout",
     "output_type": "stream",
     "text": [
      "NUTS ../blade_runs/nuts_results/\n",
      "DADVI ../blade_runs/dadvi_results/\n"
     ]
    },
    {
     "name": "stderr",
     "output_type": "stream",
     "text": [
      "WARNING:absl:No GPU/TPU found, falling back to CPU. (Set TF_CPP_MIN_LOG_LEVEL=0 and rerun for more info.)\n"
     ]
    },
    {
     "name": "stdout",
     "output_type": "stream",
     "text": [
      "LRVB ../blade_runs/lrvb_results/\n",
      "RAABBVI ../blade_runs/raabbvi_results/\n",
      "SADVI ../blade_runs/sadvi_results/\n",
      "SADVI_FR ../blade_runs/sfullrank_advi_results/\n",
      "LRVB_Doubling ../blade_runs/lrvb_doubling_results\n",
      "Done!\n"
     ]
    }
   ],
   "source": [
    "base_folder = '../blade_runs/'\n",
    "\n",
    "folder_method_list = (\n",
    "    (join(base_folder, \"nuts_results/\"), 'NUTS'),\n",
    "    (join(base_folder, \"dadvi_results/\"), 'DADVI'),\n",
    "    (join(base_folder, \"lrvb_results/\"), 'LRVB'),\n",
    "    (join(base_folder, \"raabbvi_results/\"), 'RAABBVI'),\n",
    "    (join(base_folder, \"sadvi_results/\"), 'SADVI'),\n",
    "    (join(base_folder, \"sfullrank_advi_results/\"), 'SADVI_FR'),\n",
    "    (join(base_folder, 'lrvb_doubling_results'), 'LRVB_Doubling')\n",
    ")\n",
    "\n",
    "all_results = dict()\n",
    "\n",
    "for cur_folder, cur_method in folder_method_list:\n",
    "\n",
    "    print(cur_method, cur_folder)\n",
    "\n",
    "    data = load_moment_df(cur_folder)\n",
    "\n",
    "    data = add_metadata(data, cur_method)\n",
    "\n",
    "    all_results[cur_method] = data\n",
    "\n",
    "print('Done!')"
   ]
  },
  {
   "cell_type": "code",
   "execution_count": 13,
   "metadata": {},
   "outputs": [
    {
     "name": "stdout",
     "output_type": "stream",
     "text": [
      "                                       draw_dict_path  \\\n",
      "0   ../blade_runs/lrvb_doubling_results/draw_dicts...   \n",
      "1   ../blade_runs/lrvb_doubling_results/draw_dicts...   \n",
      "2   ../blade_runs/lrvb_doubling_results/draw_dicts...   \n",
      "3   ../blade_runs/lrvb_doubling_results/draw_dicts...   \n",
      "4   ../blade_runs/lrvb_doubling_results/draw_dicts...   \n",
      "..                                                ...   \n",
      "61  ../blade_runs/lrvb_doubling_results/draw_dicts...   \n",
      "62  ../blade_runs/lrvb_doubling_results/draw_dicts...   \n",
      "63  ../blade_runs/lrvb_doubling_results/draw_dicts...   \n",
      "64  ../blade_runs/lrvb_doubling_results/draw_dicts...   \n",
      "65  ../blade_runs/lrvb_doubling_results/draw_dicts...   \n",
      "\n",
      "                                                means  \\\n",
      "0   {'Intercept': 97.86866517275877, 'treatment': ...   \n",
      "1   {'Intercept': 0.3586016277938707, 'c_dist100':...   \n",
      "2   {'Intercept': -0.9352684764451462, 'x': [15.28...   \n",
      "3   {'Intercept': 97.07068567951451, 'treatment': ...   \n",
      "4   {'Intercept': 9.745179818118217, 'height': [0....   \n",
      "..                                                ...   \n",
      "61  {'Intercept': 9.745014038569773, 'height': [0....   \n",
      "62  {'Intercept': 6.3901419416430665, '1|eth_offse...   \n",
      "63  {'Intercept': 9.745177642949084, 'np.log(heigh...   \n",
      "64  {'Intercept': 97.11588884935595, 'treatment': ...   \n",
      "65  {'Intercept': 26.75775990637118, 'encouraged':...   \n",
      "\n",
      "                                                  sds            model_name  \\\n",
      "0   {'Intercept': 0.8005068503524355, 'treatment':...  electric_multi_preds   \n",
      "1   {'Intercept': 0.04137687220630652, 'c_dist100'...          wells_daae_c   \n",
      "2   {'Intercept': 0.3957907800065732, 'x': [0.5013...         test_rstanarm   \n",
      "3   {'Intercept': 0.6986516382234854, 'treatment':...           electric_1b   \n",
      "4   {'Intercept': 0.03476694783640978, 'height': [...             earnings2   \n",
      "..                                                ...                   ...   \n",
      "61  {'Intercept': 0.034690045303673166, 'height': ...   logearn_height_male   \n",
      "62  {'Intercept': 0.5123992212813926, '1|eth_offse...      earnings_vary_si   \n",
      "63  {'Intercept': 0.03476438822445694, 'np.log(hei...     logearn_logheight   \n",
      "64  {'Intercept': 1.6813377288340416, 'treatment':...              electric   \n",
      "65  {'Intercept': 0.8779316984181154, 'encouraged'...     sesame_one_pred_b   \n",
      "\n",
      "                                            info_path  \\\n",
      "0   ../blade_runs/lrvb_doubling_results/lrvb_info/...   \n",
      "1   ../blade_runs/lrvb_doubling_results/lrvb_info/...   \n",
      "2   ../blade_runs/lrvb_doubling_results/lrvb_info/...   \n",
      "3   ../blade_runs/lrvb_doubling_results/lrvb_info/...   \n",
      "4   ../blade_runs/lrvb_doubling_results/lrvb_info/...   \n",
      "..                                                ...   \n",
      "61  ../blade_runs/lrvb_doubling_results/lrvb_info/...   \n",
      "62  ../blade_runs/lrvb_doubling_results/lrvb_info/...   \n",
      "63  ../blade_runs/lrvb_doubling_results/lrvb_info/...   \n",
      "64  ../blade_runs/lrvb_doubling_results/lrvb_info/...   \n",
      "65  ../blade_runs/lrvb_doubling_results/lrvb_info/...   \n",
      "\n",
      "                                             metadata   runtime  steps  \\\n",
      "0   {'opt_result': {'opt_result': {'x': [ 9.784979...  1.366690    NaN   \n",
      "1   {'opt_result': {'opt_result': {'x': [ 0.358519...  1.489030    NaN   \n",
      "2   {'opt_result': {'opt_result': {'x': [-4.317471...  3.441839    NaN   \n",
      "3   {'opt_result': {'opt_result': {'x': [-2.175397...  3.109489    NaN   \n",
      "4   {'opt_result': {'opt_result': {'x': [ 9.74436 ...  1.265019    NaN   \n",
      "..                                                ...       ...    ...   \n",
      "61  {'opt_result': {'opt_result': {'x': [ 9.744196...  1.316769    NaN   \n",
      "62  {'opt_result': {'opt_result': {'x': [-0.136446...  3.405931    NaN   \n",
      "63  {'opt_result': {'opt_result': {'x': [ 9.744358...  1.279258    NaN   \n",
      "64  {'opt_result': {'opt_result': {'x': [-2.743368...  1.812517    NaN   \n",
      "65  {'opt_result': {'opt_result': {'x': [26.802921...  1.172860    NaN   \n",
      "\n",
      "                                      mean_deviations  \\\n",
      "0   {'Intercept': 1.256952838887766, 'treatment': ...   \n",
      "1   {'Intercept': 0.4183379716251451, 'c_dist100':...   \n",
      "2   {'Intercept': -0.008322796211586637, 'x': [0.0...   \n",
      "3   {'Intercept': -0.1419505629271985, 'treatment'...   \n",
      "4   {'Intercept': 1.2012992818194665, 'height': [0...   \n",
      "..                                                ...   \n",
      "61  {'Intercept': 1.2123989276881106, 'height': [0...   \n",
      "62  {'Intercept': -1.4211190971964134, '1|eth_offs...   \n",
      "63  {'Intercept': 1.1967325987502315, 'np.log(heig...   \n",
      "64  {'Intercept': 0.026448334319133716, 'treatment...   \n",
      "65  {'Intercept': 0.015528946057777732, 'encourage...   \n",
      "\n",
      "                                        sd_deviations  \\\n",
      "0   {'Intercept': 0.3858668025716703, 'treatment':...   \n",
      "1   {'Intercept': 0.05418356736819176, 'c_dist100'...   \n",
      "2   {'Intercept': -0.23243771211642478, 'x': [0.01...   \n",
      "3   {'Intercept': -0.047145846100654074, 'treatmen...   \n",
      "4   {'Intercept': 0.34184817251472227, 'height': [...   \n",
      "..                                                ...   \n",
      "61  {'Intercept': 0.3613296314078386, 'height': [0...   \n",
      "62  {'Intercept': -0.6116817988287784, '1|eth_offs...   \n",
      "63  {'Intercept': 0.3717710740107057, 'np.log(heig...   \n",
      "64  {'Intercept': -0.04700998048131512, 'treatment...   \n",
      "65  {'Intercept': 0.02846655517660811, 'encouraged...   \n",
      "\n",
      "                                            var_names  \\\n",
      "0   [Intercept, post_test_sigma, pre_test, treatment]   \n",
      "1   [Intercept, assoc, c_arsenic, c_dist100, c_dis...   \n",
      "2   [1|z1, 1|z1_offset, 1|z1_sigma, 1|z1_z2, 1|z1_...   \n",
      "3   [1|pair, 1|pair_offset, 1|pair_sigma, Intercep...   \n",
      "4    [Intercept, height, np.log(earnings)_sigma, sex]   \n",
      "..                                                ...   \n",
      "61      [Intercept, height, male, np.log(earn)_sigma]   \n",
      "62  [1|eth, 1|eth_offset, 1|eth_sigma, Intercept, ...   \n",
      "63  [Intercept, male, np.log(earn)_sigma, np.log(h...   \n",
      "64  [1|pair, 1|pair_offset, 1|pair_sigma, Intercep...   \n",
      "65                   [Intercept, encouraged, y_sigma]   \n",
      "\n",
      "                                      means_reference  \\\n",
      "0   {'Intercept': 97.14262183567006, 'treatment': ...   \n",
      "1   {'Intercept': 0.3421817960617247, 'c_dist100':...   \n",
      "2   {'Intercept': -0.9309768560041491, 'x': [15.24...   \n",
      "3   {'Intercept': 97.17476665867589, 'treatment': ...   \n",
      "4   {'Intercept': 9.714054456603835, 'height': [0....   \n",
      "..                                                ...   \n",
      "61  {'Intercept': 9.714119115872666, 'height': [0....   \n",
      "62  {'Intercept': 8.265357464776582, '1|eth_offset...   \n",
      "63  {'Intercept': 9.714849202984114, 'np.log(heigh...   \n",
      "64  {'Intercept': 97.06922667929668, 'treatment': ...   \n",
      "65  {'Intercept': 26.744503905076314, 'encouraged'...   \n",
      "\n",
      "                                        sds_reference  \n",
      "0   {'Intercept': 0.5776217807273994, 'treatment':...  \n",
      "1   {'Intercept': 0.039250158593920614, 'c_dist100...  \n",
      "2   {'Intercept': 0.5156464644685712, 'x': [0.4945...  \n",
      "3   {'Intercept': 0.7332199113205388, 'treatment':...  \n",
      "4   {'Intercept': 0.025909747875017753, 'height': ...  \n",
      "..                                                ...  \n",
      "61  {'Intercept': 0.025482472799624553, 'height': ...  \n",
      "62  {'Intercept': 1.3195343914756645, '1|eth_offse...  \n",
      "63  {'Intercept': 0.0253427039562912, 'np.log(heig...  \n",
      "64  {'Intercept': 1.7642763244081134, 'treatment':...  \n",
      "65  {'Intercept': 0.8536317432970458, 'encouraged'...  \n",
      "\n",
      "[66 rows x 13 columns]\n"
     ]
    },
    {
     "name": "stderr",
     "output_type": "stream",
     "text": [
      "/home/rgiordan/Documents/git_repos/DADVI/dadvi-experiments/comparison/analysis/load_results_lib.py:30: RuntimeWarning: invalid value encountered in divide\n",
      "  return {x: (mean_dict[x] - ref_mean_dict[x]) / ref_sd_dict[x] for x in mean_dict}\n",
      "/home/rgiordan/Documents/git_repos/DADVI/dadvi-experiments/comparison/analysis/load_results_lib.py:34: RuntimeWarning: invalid value encountered in divide\n",
      "  return {x: (sd_dict[x] - ref_sd_dict[x]) / ref_sd_dict[x] for x in ref_sd_dict}\n"
     ]
    }
   ],
   "source": [
    "raabbvi_maxiter = 19900\n",
    "\n",
    "method_1 = 'LRVB_Doubling'\n",
    "method_2 = 'RAABBVI'\n",
    "\n",
    "#method_1_df = add_deviation_stats(all_results[method_1], all_results['NUTS']).dropna()\n",
    "method_1_df = add_deviation_stats(all_results[method_1], all_results['NUTS'])\n",
    "\n",
    "print(method_1_df)"
   ]
  },
  {
   "cell_type": "code",
   "execution_count": 14,
   "metadata": {},
   "outputs": [
    {
     "data": {
      "text/plain": [
       "{'Intercept': 97.86866517275877,\n",
       " 'treatment': array([4.44689546]),\n",
       " 'pre_test': array([0.46459963]),\n",
       " 'post_test_sigma': 8.224619901361285}"
      ]
     },
     "execution_count": 14,
     "metadata": {},
     "output_type": "execute_result"
    }
   ],
   "source": [
    "method_1_df['means'][0]"
   ]
  },
  {
   "cell_type": "code",
   "execution_count": 1,
   "metadata": {},
   "outputs": [
    {
     "ename": "NameError",
     "evalue": "name 'add_deviation_stats' is not defined",
     "output_type": "error",
     "traceback": [
      "\u001b[0;31m---------------------------------------------------------------------------\u001b[0m",
      "\u001b[0;31mNameError\u001b[0m                                 Traceback (most recent call last)",
      "Cell \u001b[0;32mIn [1], line 12\u001b[0m\n\u001b[1;32m      9\u001b[0m method_1 \u001b[38;5;241m=\u001b[39m \u001b[38;5;124m'\u001b[39m\u001b[38;5;124mLRVB_Doubling\u001b[39m\u001b[38;5;124m'\u001b[39m\n\u001b[1;32m     10\u001b[0m method_2 \u001b[38;5;241m=\u001b[39m \u001b[38;5;124m'\u001b[39m\u001b[38;5;124mRAABBVI\u001b[39m\u001b[38;5;124m'\u001b[39m\n\u001b[0;32m---> 12\u001b[0m method_1_df \u001b[38;5;241m=\u001b[39m add_deviation_stats(all_results[method_1], all_results[\u001b[38;5;124m'\u001b[39m\u001b[38;5;124mNUTS\u001b[39m\u001b[38;5;124m'\u001b[39m])\u001b[38;5;241m.\u001b[39mdropna()\n\u001b[1;32m     13\u001b[0m method_1_df \u001b[38;5;241m=\u001b[39m add_derived_stats(method_1_df)\n\u001b[1;32m     15\u001b[0m method_2_df \u001b[38;5;241m=\u001b[39m add_deviation_stats(all_results[method_2], all_results[\u001b[38;5;124m'\u001b[39m\u001b[38;5;124mNUTS\u001b[39m\u001b[38;5;124m'\u001b[39m])\u001b[38;5;241m.\u001b[39mdropna()\n",
      "\u001b[0;31mNameError\u001b[0m: name 'add_deviation_stats' is not defined"
     ]
    }
   ],
   "source": [
    "method_1_df = add_derived_stats(method_1_df)\n",
    "\n",
    "method_2_df = add_deviation_stats(all_results[method_2], all_results['NUTS']).dropna()\n",
    "method_2_df = add_derived_stats(method_2_df)"
   ]
  },
  {
   "cell_type": "code",
   "execution_count": null,
   "metadata": {},
   "outputs": [],
   "source": [
    "print(all_results['SADVI']['converged'].mean())\n",
    "print(all_results['RAABBVI']['converged'].mean())"
   ]
  },
  {
   "cell_type": "code",
   "execution_count": null,
   "metadata": {},
   "outputs": [],
   "source": [
    "all_results['SADVI']"
   ]
  },
  {
   "cell_type": "code",
   "execution_count": null,
   "metadata": {},
   "outputs": [],
   "source": [
    "comparison = method_1_df.merge(method_2_df, on='model_name', \n",
    "                                         suffixes=(f'_{method_1}', f'_{method_2}'))\n",
    "\n",
    "comparison"
   ]
  },
  {
   "cell_type": "code",
   "execution_count": null,
   "metadata": {},
   "outputs": [],
   "source": [
    "#raabvi_with_deviations.iloc[0]['metadata'].keys()"
   ]
  },
  {
   "cell_type": "code",
   "execution_count": null,
   "metadata": {},
   "outputs": [],
   "source": [
    "import matplotlib.pyplot as plt\n",
    "\n",
    "f, ax = plt.subplots(1, 1)\n",
    "\n",
    "xmin, xmax = [comparison[f'mean_rms_{method_1}'].min(), comparison[f'mean_rms_{method_1}'].max()]\n",
    "# ax.scatter(comparison['mean_rms_raabbvi'], comparison['mean_rms_lrvb'], c=comparison['converged'])\n",
    "ax.scatter(comparison[f'mean_rms_{method_1}'], comparison[f'mean_rms_{method_2}'])\n",
    "ax.plot([xmin, xmax], [xmin, xmax])\n",
    "\n",
    "for row in comparison.itertuples():\n",
    "    ax.annotate(row.model_name, (getattr(row, f'mean_rms_{method_1}'), getattr(row, f'mean_rms_{method_2}')))\n",
    "\n",
    "ax.set_xscale('log')\n",
    "ax.set_yscale('log')\n",
    "\n",
    "ax.set_xlabel(f'RMSE mean scaled by posterior sd, {method_1}')\n",
    "ax.set_ylabel(f'RMSE mean scaled by posterior sd, {method_2}')\n",
    "\n",
    "ax.grid(alpha=0.5, linestyle='--')\n",
    "\n",
    "f.set_size_inches(12, 8)\n",
    "f.tight_layout()\n",
    "\n",
    "# plt.savefig('./mean_comparison.png', dpi=300)\n"
   ]
  },
  {
   "cell_type": "code",
   "execution_count": null,
   "metadata": {},
   "outputs": [],
   "source": [
    "f, ax = plt.subplots(1, 1)\n",
    "\n",
    "xmin, xmax = [comparison[f'sd_rms_{method_1}'].min(), comparison[f'sd_rms_{method_1}'].max()]\n",
    "# ax.scatter(comparison['mean_rms_raabbvi'], comparison['mean_rms_lrvb'], c=comparison['converged'])\n",
    "ax.scatter(comparison[f'sd_rms_{method_1}'], comparison[f'sd_rms_{method_2}'])\n",
    "ax.plot([xmin, xmax], [xmin, xmax])\n",
    "\n",
    "for row in comparison.itertuples():\n",
    "    ax.annotate(row.model_name, (getattr(row, f'sd_rms_{method_1}'), getattr(row, f'sd_rms_{method_2}')))\n",
    "\n",
    "ax.set_xscale('log')\n",
    "ax.set_yscale('log')\n",
    "\n",
    "ax.set_xlabel(f'RMSE sd scaled by posterior sd, {method_1}')\n",
    "ax.set_ylabel(f'RMSE sd scaled by posterior sd, {method_2}')\n",
    "\n",
    "ax.grid(alpha=0.5, linestyle='--')\n",
    "\n",
    "f.set_size_inches(12, 8)\n",
    "f.tight_layout()\n",
    "\n",
    "# plt.savefig('./sd_comparison.png', dpi=300)"
   ]
  },
  {
   "cell_type": "code",
   "execution_count": null,
   "metadata": {},
   "outputs": [],
   "source": [
    "\n",
    "f, ax = plt.subplots(1, 1)\n",
    "\n",
    "xmin, xmax = [comparison[f'runtime_{method_1}'].min(), comparison[f'runtime_{method_1}'].max()]\n",
    "# ax.scatter(comparison['mean_rms_raabbvi'], comparison['mean_rms_lrvb'], c=comparison['converged'])\n",
    "ax.scatter(comparison[f'runtime_{method_1}'], comparison[f'runtime_{method_2}'])\n",
    "ax.plot([xmin, xmax], [xmin, xmax])\n",
    "\n",
    "for row in comparison.itertuples():\n",
    "    ax.annotate(row.model_name, (getattr(row, f'runtime_{method_1}'), getattr(row, f'runtime_{method_2}')))\n",
    "\n",
    "ax.set_xscale('log')\n",
    "ax.set_yscale('log')\n",
    "\n",
    "ax.set_xlabel(f'Runtime, {method_1}')\n",
    "ax.set_ylabel(f'Runtime, {method_2}')\n",
    "\n",
    "ax.grid(alpha=0.5, linestyle='--')\n",
    "\n",
    "f.set_size_inches(12, 8)\n",
    "f.tight_layout()\n",
    "\n",
    "# plt.savefig('runtime_comparison.png', dpi=300)"
   ]
  },
  {
   "cell_type": "code",
   "execution_count": null,
   "metadata": {},
   "outputs": [],
   "source": [
    "comparison.head()"
   ]
  },
  {
   "cell_type": "code",
   "execution_count": null,
   "metadata": {},
   "outputs": [],
   "source": [
    "all_results['LRVB_Doubling']['M'] = all_results['LRVB_Doubling']['metadata'].apply(lambda x: x['M'])"
   ]
  },
  {
   "cell_type": "code",
   "execution_count": null,
   "metadata": {},
   "outputs": [],
   "source": [
    "all_results['LRVB_Doubling'][['model_name', 'runtime', 'M']].sort_values('M', ascending=False).head(20)"
   ]
  },
  {
   "cell_type": "code",
   "execution_count": null,
   "metadata": {},
   "outputs": [],
   "source": [
    "all_results['LRVB'][['model_name', 'runtime']].sort_values('runtime')"
   ]
  },
  {
   "cell_type": "code",
   "execution_count": null,
   "metadata": {},
   "outputs": [],
   "source": []
  },
  {
   "cell_type": "code",
   "execution_count": null,
   "metadata": {},
   "outputs": [],
   "source": []
  }
 ],
 "metadata": {
  "kernelspec": {
   "display_name": "dadvi-experiments",
   "language": "python",
   "name": "dadvi-experiments"
  },
  "language_info": {
   "codemirror_mode": {
    "name": "ipython",
    "version": 3
   },
   "file_extension": ".py",
   "mimetype": "text/x-python",
   "name": "python",
   "nbconvert_exporter": "python",
   "pygments_lexer": "ipython3",
   "version": "3.8.10"
  },
  "vscode": {
   "interpreter": {
    "hash": "d6b81382af3beaebbac93aac606334308960b1a7270e498d25ccdd66c34d7f6d"
   }
  }
 },
 "nbformat": 4,
 "nbformat_minor": 2
}
