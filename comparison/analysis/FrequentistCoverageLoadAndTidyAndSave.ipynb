{
 "cells": [
  {
   "cell_type": "code",
   "execution_count": 1,
   "metadata": {},
   "outputs": [],
   "source": [
    "from glob import glob\n",
    "from os.path import join, split, splitext, dirname\n",
    "import pandas as pd\n",
    "from scipy.stats import norm\n",
    "import numpy as np\n",
    "from functools import partial\n",
    "import matplotlib.pyplot as plt\n",
    "from scipy import stats"
   ]
  },
  {
   "cell_type": "code",
   "execution_count": null,
   "metadata": {},
   "outputs": [],
   "source": [
    "base_path = '/home/rgiordan/Documents/git_repos/DADVI/dadvi-experiments/'\n",
    "input_path = join(base_path, 'comparison/analysis/coverage_warm_starts_rerun')\n",
    "output_path = join(base_path, 'comparison/analysis/coverage_warm_starts_rerun')\n",
    "\n",
    "M_vals = [ 8, 16, 32, 64 ]"
   ]
  },
  {
   "cell_type": "code",
   "execution_count": null,
   "metadata": {},
   "outputs": [],
   "source": [
    "M = 8\n",
    "coverage_filenames = glob(join(input_path, f'M_{M}', '*', '*.pkl'))\n",
    "raw_model_df = pd.read_pickle(filename)\n",
    "print(raw_model_df.keys())\n",
    "#raw_model_df['means'] - raw_model_df['reference_means'] # They are different\n",
    "reference_means = raw_model_df['reference_means'].iloc[0]\n",
    "reference_freq_sds = raw_model_df['reference_freq_sds'].iloc[0]\n",
    "assert(len(reference_means) == param_dim)\n",
    "reference_freq_sds"
   ]
  },
  {
   "cell_type": "code",
   "execution_count": null,
   "metadata": {},
   "outputs": [],
   "source": [
    "def RepList(x, n):\n",
    "    return [x for _ in range(n)]\n",
    "\n",
    "\n",
    "def GetCoverageDataframe(filename, M):\n",
    "    raw_model_df = pd.read_pickle(filename)\n",
    "\n",
    "    # The final directory is the model name\n",
    "    model_name = split(os.path.dirname(filename))[-1]\n",
    "\n",
    "    num_runs = raw_model_df.shape[0]\n",
    "\n",
    "    means = raw_model_df['means'].to_numpy()\n",
    "    seeds = raw_model_df['seed'].to_numpy()\n",
    "    freq_sds = raw_model_df['freq_sds'].to_numpy()\n",
    "    assert(len(means) == len(freq_sds))\n",
    "    num_runs = len(means) \n",
    "    param_dim = len(means[0]) \n",
    "\n",
    "    # A for loop is not the most efficient or elegant but it will let me make sure\n",
    "    # everything lines up correctly\n",
    "    model_dict = {\n",
    "        'seed': [],\n",
    "        'param': [],\n",
    "        'mean': [],\n",
    "        'freq_sd': []\n",
    "    }\n",
    "    param_dims = np.arange(param_dim)\n",
    "    for i in range(num_runs):\n",
    "        assert(len(means[i]) == len(freq_sds[i]))\n",
    "        model_dict['seed'].append(RepList(seeds[i], param_dim))\n",
    "        model_dict['param'].append(param_dims)\n",
    "        model_dict['mean'].append(means[i])\n",
    "        model_dict['freq_sd'].append(freq_sds[i])\n",
    "\n",
    "    # Save the ''reference'' as well\n",
    "    reference_means = raw_model_df['reference_means'].iloc[0]\n",
    "    reference_freq_sds = raw_model_df['reference_freq_sds'].iloc[0]\n",
    "    assert(len(reference_means) == param_dim)\n",
    "    assert(len(reference_means) == len(reference_freq_sds))\n",
    "    model_dict['seed'].append(RepList('reference', param_dim))\n",
    "    model_dict['param'].append(param_dims)\n",
    "    model_dict['mean'].append(reference_means)\n",
    "    model_dict['freq_sd'].append(reference_freq_sds)\n",
    "        \n",
    "    model_df = pd.DataFrame()\n",
    "    for k,v in model_dict.items():\n",
    "        model_df[k] = np.hstack(v)\n",
    "    model_df['model'] = model_name\n",
    "    model_df['num_draws'] = M\n",
    "    \n",
    "    return model_df"
   ]
  },
  {
   "cell_type": "code",
   "execution_count": null,
   "metadata": {},
   "outputs": [],
   "source": [
    "model_dfs = []\n",
    "for M in M_vals:\n",
    "    print(f'Loading for {M} draws')\n",
    "    coverage_filenames = glob(join(input_path, f'M_{M}', '*', '*.pkl'))\n",
    "    assert(len(coverage_filenames) > 0)\n",
    "    model_dfs.append(\n",
    "        pd.concat([GetCoverageDataframe(filename, M) for filename in coverage_filenames]))\n",
    "\n",
    "model_df = pd.concat(model_dfs)"
   ]
  },
  {
   "cell_type": "code",
   "execution_count": null,
   "metadata": {},
   "outputs": [],
   "source": [
    "np.unique(model_df['num_draws'].to_numpy())"
   ]
  },
  {
   "cell_type": "code",
   "execution_count": null,
   "metadata": {},
   "outputs": [],
   "source": [
    "print(output_path)\n",
    "model_df.to_csv(join(output_path, 'coverage_tidy.csv'), index=False)"
   ]
  }
 ],
 "metadata": {
  "kernelspec": {
   "display_name": "dadvi-experiments",
   "language": "python",
   "name": "dadvi-experiments"
  },
  "language_info": {
   "codemirror_mode": {
    "name": "ipython",
    "version": 3
   },
   "file_extension": ".py",
   "mimetype": "text/x-python",
   "name": "python",
   "nbconvert_exporter": "python",
   "pygments_lexer": "ipython3",
   "version": "3.8.10"
  },
  "vscode": {
   "interpreter": {
    "hash": "d6b81382af3beaebbac93aac606334308960b1a7270e498d25ccdd66c34d7f6d"
   }
  }
 },
 "nbformat": 4,
 "nbformat_minor": 5
}
