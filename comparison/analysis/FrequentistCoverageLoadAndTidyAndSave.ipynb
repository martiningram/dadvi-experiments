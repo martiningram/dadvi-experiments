{
 "cells": [
  {
   "cell_type": "code",
   "execution_count": 27,
   "metadata": {},
   "outputs": [],
   "source": [
    "from glob import glob\n",
    "from os.path import join, split, splitext, dirname\n",
    "import pandas as pd\n",
    "from scipy.stats import norm\n",
    "import numpy as np\n",
    "from functools import partial\n",
    "import matplotlib.pyplot as plt\n",
    "from scipy import stats"
   ]
  },
  {
   "cell_type": "code",
   "execution_count": 17,
   "metadata": {},
   "outputs": [],
   "source": [
    "base_path = '/home/rgiordan/Documents/git_repos/DADVI/dadvi-experiments/'\n",
    "input_path = join(base_path, 'comparison/analysis/coverage_warm_starts_rerun')\n",
    "output_path = join(base_path, 'comparison/analysis/coverage_warm_starts_rerun')\n",
    "\n",
    "M_vals = [ 8, 16, 32, 64 ]"
   ]
  },
  {
   "cell_type": "code",
   "execution_count": 96,
   "metadata": {},
   "outputs": [
    {
     "name": "stdout",
     "output_type": "stream",
     "text": [
      "Index(['means', 'seed', 'freq_sds', 'newton_step_norm', 'scipy_opt_result',\n",
      "       'reference_means', 'reference_freq_sds', 'M',\n",
      "       'reference_newton_step_norm', 'reference_scipy_opt_result'],\n",
      "      dtype='object')\n"
     ]
    },
    {
     "data": {
      "text/plain": [
       "array([0.27002875, 0.10808994, 0.3300278 , 0.24688348, 0.29446138,\n",
       "       0.34176003, 0.18110268, 0.2904307 , 0.23119037, 0.26523586,\n",
       "       0.27002209, 0.33879955, 0.26460352, 0.20790123, 0.30023867,\n",
       "       0.39132133, 0.27248412, 0.19481111, 0.09495773, 0.26530274,\n",
       "       0.29544409, 0.36691676, 0.3257251 , 0.23717544, 0.21085609,\n",
       "       0.08502773, 0.26981055, 0.28387719, 0.34385135, 0.21893104,\n",
       "       0.28130681, 0.28169805, 0.30902894, 0.30092538, 0.23783169,\n",
       "       0.32397374, 0.23184034, 0.27316882, 0.27181886, 0.28467147,\n",
       "       0.24033208, 0.34773134, 0.2415593 , 0.24559177, 0.21755859,\n",
       "       0.29930083, 0.37634131, 0.3102693 , 0.25291185, 0.33942954,\n",
       "       0.27611983, 0.31690842, 0.32969616, 0.15585287, 0.24495493,\n",
       "       0.21267922, 0.2701069 , 0.31545576, 0.26422724, 0.32331489,\n",
       "       0.15756097, 0.36932149, 0.30279407, 0.21078926, 0.46802372,\n",
       "       0.18649955, 0.21614616, 0.26115626, 0.29029963, 0.07426278,\n",
       "       0.15475933, 0.20063362, 0.3632832 , 0.29093577, 0.29958776,\n",
       "       0.28809848, 0.23865332, 0.27458277, 0.33761156, 0.11542364,\n",
       "       0.30777705, 0.35160861, 0.20185384, 0.2771136 , 0.33194065,\n",
       "       0.02426426, 0.01024431, 0.02356789, 0.01450087])"
      ]
     },
     "execution_count": 96,
     "metadata": {},
     "output_type": "execute_result"
    }
   ],
   "source": [
    "M = 8\n",
    "coverage_filenames = glob(join(input_path, f'M_{M}', '*', '*.pkl'))\n",
    "raw_model_df = pd.read_pickle(filename)\n",
    "print(raw_model_df.keys())\n",
    "#raw_model_df['means'] - raw_model_df['reference_means'] # They are different\n",
    "reference_means = raw_model_df['reference_means'].iloc[0]\n",
    "reference_freq_sds = raw_model_df['reference_freq_sds'].iloc[0]\n",
    "assert(len(reference_means) == param_dim)\n",
    "reference_freq_sds"
   ]
  },
  {
   "cell_type": "code",
   "execution_count": 97,
   "metadata": {},
   "outputs": [],
   "source": [
    "def RepList(x, n):\n",
    "    return [x for _ in range(n)]\n",
    "\n",
    "\n",
    "def GetCoverageDataframe(filename, M):\n",
    "    raw_model_df = pd.read_pickle(filename)\n",
    "\n",
    "    # The final directory is the model name\n",
    "    model_name = split(os.path.dirname(filename))[-1]\n",
    "\n",
    "    num_runs = raw_model_df.shape[0]\n",
    "\n",
    "    means = raw_model_df['means'].to_numpy()\n",
    "    seeds = raw_model_df['seed'].to_numpy()\n",
    "    freq_sds = raw_model_df['freq_sds'].to_numpy()\n",
    "    assert(len(means) == len(freq_sds))\n",
    "    num_runs = len(means) \n",
    "    param_dim = len(means[0]) \n",
    "\n",
    "    # A for loop is not the most efficient or elegant but it will let me make sure\n",
    "    # everything lines up correctly\n",
    "    model_dict = {\n",
    "        'seed': [],\n",
    "        'param': [],\n",
    "        'mean': [],\n",
    "        'freq_sd': []\n",
    "    }\n",
    "    param_dims = np.arange(param_dim)\n",
    "    for i in range(num_runs):\n",
    "        assert(len(means[i]) == len(freq_sds[i]))\n",
    "        model_dict['seed'].append(RepList(seeds[i], param_dim))\n",
    "        model_dict['param'].append(param_dims)\n",
    "        model_dict['mean'].append(means[i])\n",
    "        model_dict['freq_sd'].append(freq_sds[i])\n",
    "\n",
    "    # Save the ''reference'' as well\n",
    "    reference_means = raw_model_df['reference_means'].iloc[0]\n",
    "    reference_freq_sds = raw_model_df['reference_freq_sds'].iloc[0]\n",
    "    assert(len(reference_means) == param_dim)\n",
    "    assert(len(reference_means) == len(reference_freq_sds))\n",
    "    model_dict['seed'].append(RepList('reference', param_dim))\n",
    "    model_dict['param'].append(param_dims)\n",
    "    model_dict['mean'].append(reference_means)\n",
    "    model_dict['freq_sd'].append(reference_freq_sds)\n",
    "        \n",
    "    model_df = pd.DataFrame()\n",
    "    for k,v in model_dict.items():\n",
    "        model_df[k] = np.hstack(v)\n",
    "    model_df['model'] = model_name\n",
    "    model_df['num_draws'] = M\n",
    "    \n",
    "    return model_df"
   ]
  },
  {
   "cell_type": "code",
   "execution_count": 112,
   "metadata": {},
   "outputs": [
    {
     "name": "stdout",
     "output_type": "stream",
     "text": [
      "Loading for 8 draws\n",
      "Loading for 16 draws\n",
      "Loading for 32 draws\n",
      "Loading for 64 draws\n"
     ]
    }
   ],
   "source": [
    "model_dfs = []\n",
    "for M in M_vals:\n",
    "    print(f'Loading for {M} draws')\n",
    "    coverage_filenames = glob(join(input_path, f'M_{M}', '*', '*.pkl'))\n",
    "    assert(len(coverage_filenames) > 0)\n",
    "    model_dfs.append(\n",
    "        pd.concat([GetCoverageDataframe(filename, M) for filename in coverage_filenames]))\n",
    "\n",
    "model_df = pd.concat(model_dfs)"
   ]
  },
  {
   "cell_type": "code",
   "execution_count": 113,
   "metadata": {},
   "outputs": [
    {
     "data": {
      "text/plain": [
       "array([ 8, 16, 32, 64])"
      ]
     },
     "execution_count": 113,
     "metadata": {},
     "output_type": "execute_result"
    }
   ],
   "source": [
    "np.unique(model_df['num_draws'].to_numpy())"
   ]
  },
  {
   "cell_type": "code",
   "execution_count": 114,
   "metadata": {},
   "outputs": [
    {
     "name": "stdout",
     "output_type": "stream",
     "text": [
      "/home/rgiordan/Documents/git_repos/DADVI/dadvi-experiments/comparison/analysis/coverage_warm_starts_rerun\n"
     ]
    }
   ],
   "source": [
    "print(output_path)\n",
    "model_df.to_csv(join(output_path, 'coverage_tidy.csv'), index=False)"
   ]
  }
 ],
 "metadata": {
  "kernelspec": {
   "display_name": "dadvi-experiments",
   "language": "python",
   "name": "dadvi-experiments"
  },
  "language_info": {
   "codemirror_mode": {
    "name": "ipython",
    "version": 3
   },
   "file_extension": ".py",
   "mimetype": "text/x-python",
   "name": "python",
   "nbconvert_exporter": "python",
   "pygments_lexer": "ipython3",
   "version": "3.8.10"
  },
  "vscode": {
   "interpreter": {
    "hash": "d6b81382af3beaebbac93aac606334308960b1a7270e498d25ccdd66c34d7f6d"
   }
  }
 },
 "nbformat": 4,
 "nbformat_minor": 5
}
