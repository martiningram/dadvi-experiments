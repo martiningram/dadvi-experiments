{
 "cells": [
  {
   "cell_type": "code",
   "execution_count": 27,
   "metadata": {},
   "outputs": [],
   "source": [
    "from glob import glob\n",
    "from os.path import join, split, splitext, dirname\n",
    "import pandas as pd\n",
    "from scipy.stats import norm\n",
    "import numpy as np\n",
    "from functools import partial\n",
    "import matplotlib.pyplot as plt\n",
    "from scipy import stats"
   ]
  },
  {
   "cell_type": "code",
   "execution_count": 17,
   "metadata": {},
   "outputs": [],
   "source": [
    "base_path = '/home/rgiordan/Documents/git_repos/DADVI/dadvi-experiments/'\n",
    "input_path = join(base_path, 'comparison/analysis/coverage_warm_starts_rerun')\n",
    "output_path = join(base_path, 'comparison/analysis/coverage_warm_starts_rerun')\n",
    "\n",
    "M_vals = [ 8, 16, 32, 64 ]"
   ]
  },
  {
   "cell_type": "code",
   "execution_count": 59,
   "metadata": {},
   "outputs": [
    {
     "data": {
      "text/plain": [
       "Index(['means', 'seed', 'freq_sds', 'newton_step_norm', 'scipy_opt_result',\n",
       "       'reference_means', 'reference_freq_sds', 'M',\n",
       "       'reference_newton_step_norm', 'reference_scipy_opt_result'],\n",
       "      dtype='object')"
      ]
     },
     "execution_count": 59,
     "metadata": {},
     "output_type": "execute_result"
    }
   ],
   "source": [
    "raw_model_df.keys()"
   ]
  },
  {
   "cell_type": "code",
   "execution_count": 78,
   "metadata": {},
   "outputs": [],
   "source": [
    "def RepList(x, n):\n",
    "    return [x for _ in range(n)]\n",
    "\n",
    "\n",
    "def GetCoverageDataframe(filename, M):\n",
    "    raw_model_df = pd.read_pickle(filename)\n",
    "\n",
    "    # The final directory is the model name\n",
    "    model_name = split(os.path.dirname(filename))[-1]\n",
    "\n",
    "    num_runs = raw_model_df.shape[0]\n",
    "\n",
    "    means = raw_model_df['means'].to_numpy()\n",
    "    seeds = raw_model_df['seed'].to_numpy()\n",
    "    freq_sds = raw_model_df['freq_sds'].to_numpy()\n",
    "    assert(len(means) == len(freq_sds))\n",
    "    num_runs = len(means) \n",
    "    param_dim = len(means[0]) \n",
    "\n",
    "    # A for loop is not the most efficient or elegant but it will let me make sure\n",
    "    # everything lines up correctly\n",
    "    model_dict = {\n",
    "        'seed': [],\n",
    "        'param': [],\n",
    "        'mean': [],\n",
    "        'freq_sd': []\n",
    "    }\n",
    "    for i in range(num_runs):\n",
    "        assert(len(means[i]) == len(freq_sds[i]))\n",
    "        model_dict['seed'].append(RepList(seeds[i], param_dim))\n",
    "        model_dict['param'].append(np.arange(param_dim))\n",
    "        model_dict['mean'].append(means[i])\n",
    "        model_dict['freq_sd'].append(freq_sds[i])\n",
    "\n",
    "    model_df = pd.DataFrame()\n",
    "    for k,v in model_dict.items():\n",
    "        model_df[k] = np.hstack(v)\n",
    "    model_df['model'] = model_name\n",
    "    model_df['num_draws'] = M\n",
    "    \n",
    "    return model_df"
   ]
  },
  {
   "cell_type": "code",
   "execution_count": 82,
   "metadata": {},
   "outputs": [
    {
     "name": "stdout",
     "output_type": "stream",
     "text": [
      "Loading for 8 draws\n",
      "Loading for 16 draws\n",
      "Loading for 32 draws\n",
      "Loading for 64 draws\n"
     ]
    }
   ],
   "source": [
    "M = 8\n",
    "for M in M_vals:\n",
    "    print(f'Loading for {M} draws')\n",
    "    coverage_filenames = glob(join(input_path, f'M_{M}', '*', '*.pkl'))\n",
    "    assert(len(coverage_filenames) > 0)\n",
    "\n",
    "    model_names = [ split(os.path.dirname(filename))[-1]\n",
    "                    for filename in coverage_filenames ]\n",
    "\n",
    "    model_dfs = [ GetCoverageDataframe(filename, M) for filename in coverage_filenames ] \n",
    "\n",
    "model_df = pd.concat(model_dfs)"
   ]
  },
  {
   "cell_type": "code",
   "execution_count": 83,
   "metadata": {},
   "outputs": [
    {
     "data": {
      "text/html": [
       "<div>\n",
       "<style scoped>\n",
       "    .dataframe tbody tr th:only-of-type {\n",
       "        vertical-align: middle;\n",
       "    }\n",
       "\n",
       "    .dataframe tbody tr th {\n",
       "        vertical-align: top;\n",
       "    }\n",
       "\n",
       "    .dataframe thead th {\n",
       "        text-align: right;\n",
       "    }\n",
       "</style>\n",
       "<table border=\"1\" class=\"dataframe\">\n",
       "  <thead>\n",
       "    <tr style=\"text-align: right;\">\n",
       "      <th></th>\n",
       "      <th>seed</th>\n",
       "      <th>param</th>\n",
       "      <th>mean</th>\n",
       "      <th>freq_sd</th>\n",
       "      <th>model</th>\n",
       "      <th>num_draws</th>\n",
       "    </tr>\n",
       "  </thead>\n",
       "  <tbody>\n",
       "    <tr>\n",
       "      <th>0</th>\n",
       "      <td>1000</td>\n",
       "      <td>0</td>\n",
       "      <td>-0.822654</td>\n",
       "      <td>0.095340</td>\n",
       "      <td>radon_no_pool_chr</td>\n",
       "      <td>64</td>\n",
       "    </tr>\n",
       "    <tr>\n",
       "      <th>1</th>\n",
       "      <td>1000</td>\n",
       "      <td>1</td>\n",
       "      <td>-1.569717</td>\n",
       "      <td>0.039489</td>\n",
       "      <td>radon_no_pool_chr</td>\n",
       "      <td>64</td>\n",
       "    </tr>\n",
       "    <tr>\n",
       "      <th>2</th>\n",
       "      <td>1000</td>\n",
       "      <td>2</td>\n",
       "      <td>0.072111</td>\n",
       "      <td>0.099980</td>\n",
       "      <td>radon_no_pool_chr</td>\n",
       "      <td>64</td>\n",
       "    </tr>\n",
       "    <tr>\n",
       "      <th>3</th>\n",
       "      <td>1000</td>\n",
       "      <td>3</td>\n",
       "      <td>0.060569</td>\n",
       "      <td>0.083363</td>\n",
       "      <td>radon_no_pool_chr</td>\n",
       "      <td>64</td>\n",
       "    </tr>\n",
       "    <tr>\n",
       "      <th>4</th>\n",
       "      <td>1000</td>\n",
       "      <td>4</td>\n",
       "      <td>0.027611</td>\n",
       "      <td>0.093779</td>\n",
       "      <td>radon_no_pool_chr</td>\n",
       "      <td>64</td>\n",
       "    </tr>\n",
       "    <tr>\n",
       "      <th>...</th>\n",
       "      <td>...</td>\n",
       "      <td>...</td>\n",
       "      <td>...</td>\n",
       "      <td>...</td>\n",
       "      <td>...</td>\n",
       "      <td>...</td>\n",
       "    </tr>\n",
       "    <tr>\n",
       "      <th>16995</th>\n",
       "      <td>1099</td>\n",
       "      <td>165</td>\n",
       "      <td>0.155888</td>\n",
       "      <td>0.126451</td>\n",
       "      <td>hiv</td>\n",
       "      <td>64</td>\n",
       "    </tr>\n",
       "    <tr>\n",
       "      <th>16996</th>\n",
       "      <td>1099</td>\n",
       "      <td>166</td>\n",
       "      <td>-0.113512</td>\n",
       "      <td>0.128015</td>\n",
       "      <td>hiv</td>\n",
       "      <td>64</td>\n",
       "    </tr>\n",
       "    <tr>\n",
       "      <th>16997</th>\n",
       "      <td>1099</td>\n",
       "      <td>167</td>\n",
       "      <td>0.003534</td>\n",
       "      <td>0.126096</td>\n",
       "      <td>hiv</td>\n",
       "      <td>64</td>\n",
       "    </tr>\n",
       "    <tr>\n",
       "      <th>16998</th>\n",
       "      <td>1099</td>\n",
       "      <td>168</td>\n",
       "      <td>-2.614673</td>\n",
       "      <td>0.205410</td>\n",
       "      <td>hiv</td>\n",
       "      <td>64</td>\n",
       "    </tr>\n",
       "    <tr>\n",
       "      <th>16999</th>\n",
       "      <td>1099</td>\n",
       "      <td>169</td>\n",
       "      <td>-0.155603</td>\n",
       "      <td>0.004642</td>\n",
       "      <td>hiv</td>\n",
       "      <td>64</td>\n",
       "    </tr>\n",
       "  </tbody>\n",
       "</table>\n",
       "<p>288620 rows × 6 columns</p>\n",
       "</div>"
      ],
      "text/plain": [
       "       seed  param      mean   freq_sd              model  num_draws\n",
       "0      1000      0 -0.822654  0.095340  radon_no_pool_chr         64\n",
       "1      1000      1 -1.569717  0.039489  radon_no_pool_chr         64\n",
       "2      1000      2  0.072111  0.099980  radon_no_pool_chr         64\n",
       "3      1000      3  0.060569  0.083363  radon_no_pool_chr         64\n",
       "4      1000      4  0.027611  0.093779  radon_no_pool_chr         64\n",
       "...     ...    ...       ...       ...                ...        ...\n",
       "16995  1099    165  0.155888  0.126451                hiv         64\n",
       "16996  1099    166 -0.113512  0.128015                hiv         64\n",
       "16997  1099    167  0.003534  0.126096                hiv         64\n",
       "16998  1099    168 -2.614673  0.205410                hiv         64\n",
       "16999  1099    169 -0.155603  0.004642                hiv         64\n",
       "\n",
       "[288620 rows x 6 columns]"
      ]
     },
     "execution_count": 83,
     "metadata": {},
     "output_type": "execute_result"
    }
   ],
   "source": [
    "model_df"
   ]
  }
 ],
 "metadata": {
  "kernelspec": {
   "display_name": "dadvi-experiments",
   "language": "python",
   "name": "dadvi-experiments"
  },
  "language_info": {
   "codemirror_mode": {
    "name": "ipython",
    "version": 3
   },
   "file_extension": ".py",
   "mimetype": "text/x-python",
   "name": "python",
   "nbconvert_exporter": "python",
   "pygments_lexer": "ipython3",
   "version": "3.8.10"
  },
  "vscode": {
   "interpreter": {
    "hash": "d6b81382af3beaebbac93aac606334308960b1a7270e498d25ccdd66c34d7f6d"
   }
  }
 },
 "nbformat": 4,
 "nbformat_minor": 5
}
