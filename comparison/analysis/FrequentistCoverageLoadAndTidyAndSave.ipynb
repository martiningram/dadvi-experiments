{
 "cells": [
  {
   "cell_type": "code",
   "execution_count": 1,
   "id": "d815a422",
   "metadata": {},
   "outputs": [],
   "source": [
    "from glob import glob\n",
    "import os\n",
    "from os.path import join, split, splitext, dirname\n",
    "import pandas as pd\n",
    "from scipy.stats import norm\n",
    "import numpy as np\n",
    "from functools import partial\n",
    "from scipy import stats\n",
    "\n",
    "import pickle"
   ]
  },
  {
   "cell_type": "code",
   "execution_count": 2,
   "id": "113f7b0d",
   "metadata": {},
   "outputs": [],
   "source": [
    "base_path = '/home/rgiordan/Documents/git_repos/DADVI/dadvi-experiments/'\n",
    "input_path = join(base_path, 'comparison/analysis/coverage_warm_starts_rerun')\n",
    "output_path = join(base_path, 'comparison/analysis/coverage_warm_starts_rerun')\n",
    "\n",
    "M_vals = [ 8, 16, 32, 64 ]"
   ]
  },
  {
   "cell_type": "code",
   "execution_count": 3,
   "id": "1248bf03",
   "metadata": {},
   "outputs": [],
   "source": [
    "M = 8\n",
    "coverage_filenames = glob(join(input_path, f'M_{M}', '*', '*.pkl'))\n",
    "# raw_model_df = pd.read_pickle(filename)\n",
    "# print(raw_model_df.keys())\n",
    "# #raw_model_df['means'] - raw_model_df['reference_means'] # They are different\n",
    "# reference_means = raw_model_df['reference_means'].iloc[0]\n",
    "# reference_freq_sds = raw_model_df['reference_freq_sds'].iloc[0]\n",
    "# assert(len(reference_means) == param_dim)\n",
    "# reference_freq_sds"
   ]
  },
  {
   "cell_type": "code",
   "execution_count": 4,
   "id": "4fc28eb4",
   "metadata": {},
   "outputs": [],
   "source": [
    "def RepList(x, n):\n",
    "    return [x for _ in range(n)]\n",
    "\n",
    "\n",
    "def GetCoverageDataframe(filename, M):\n",
    "    raw_model_df = pd.read_pickle(filename)\n",
    "\n",
    "    # The final directory is the model name\n",
    "    model_name = split(os.path.dirname(filename))[-1]\n",
    "\n",
    "    num_runs = raw_model_df.shape[0]\n",
    "\n",
    "    means = raw_model_df['means'].to_numpy()\n",
    "    seeds = raw_model_df['seed'].to_numpy()\n",
    "    freq_sds = raw_model_df['freq_sds'].to_numpy()\n",
    "    assert(len(means) == len(freq_sds))\n",
    "    num_runs = len(means) \n",
    "    param_dim = len(means[0]) \n",
    "\n",
    "    # A for loop is not the most efficient or elegant but it will let me make sure\n",
    "    # everything lines up correctly\n",
    "    model_dict = {\n",
    "        'seed': [],\n",
    "        'param': [],\n",
    "        'mean': [],\n",
    "        'freq_sd': []\n",
    "    }\n",
    "    param_dims = np.arange(param_dim)\n",
    "    for i in range(num_runs):\n",
    "        assert(len(means[i]) == len(freq_sds[i]))\n",
    "        model_dict['seed'].append(RepList(seeds[i], param_dim))\n",
    "        model_dict['param'].append(param_dims)\n",
    "        model_dict['mean'].append(means[i])\n",
    "        model_dict['freq_sd'].append(freq_sds[i])\n",
    "\n",
    "#     # Save the ''reference'' as well\n",
    "#     reference_means = raw_model_df['reference_means'].iloc[0]\n",
    "#     reference_freq_sds = raw_model_df['reference_freq_sds'].iloc[0]\n",
    "#     assert(len(reference_means) == param_dim)\n",
    "#     assert(len(reference_means) == len(reference_freq_sds))\n",
    "#     model_dict['seed'].append(RepList('reference', param_dim))\n",
    "#     model_dict['param'].append(param_dims)\n",
    "#     model_dict['mean'].append(reference_means)\n",
    "#     model_dict['freq_sd'].append(reference_freq_sds)\n",
    "        \n",
    "    model_df = pd.DataFrame()\n",
    "    for k,v in model_dict.items():\n",
    "        model_df[k] = np.hstack(v)\n",
    "    model_df['model'] = model_name\n",
    "    model_df['num_draws'] = M\n",
    "    \n",
    "    return model_df"
   ]
  },
  {
   "cell_type": "code",
   "execution_count": 5,
   "id": "8a4b04ce",
   "metadata": {},
   "outputs": [
    {
     "name": "stdout",
     "output_type": "stream",
     "text": [
      "Loading for 8 draws\n"
     ]
    },
    {
     "name": "stderr",
     "output_type": "stream",
     "text": [
      "WARNING:absl:No GPU/TPU found, falling back to CPU. (Set TF_CPP_MIN_LOG_LEVEL=0 and rerun for more info.)\n"
     ]
    },
    {
     "name": "stdout",
     "output_type": "stream",
     "text": [
      "Loading for 16 draws\n",
      "Loading for 32 draws\n",
      "Loading for 64 draws\n"
     ]
    }
   ],
   "source": [
    "model_dfs = []\n",
    "for M in M_vals:\n",
    "    print(f'Loading for {M} draws')\n",
    "    coverage_filenames = glob(join(input_path, f'M_{M}', '*', '*.pkl'))\n",
    "    assert(len(coverage_filenames) > 0)\n",
    "    model_dfs.append(\n",
    "        pd.concat([GetCoverageDataframe(filename, M) for filename in coverage_filenames]))\n",
    "\n",
    "model_df = pd.concat(model_dfs)"
   ]
  },
  {
   "cell_type": "code",
   "execution_count": 6,
   "id": "c231d35d",
   "metadata": {},
   "outputs": [
    {
     "data": {
      "text/plain": [
       "array([ 8, 16, 32, 64])"
      ]
     },
     "execution_count": 6,
     "metadata": {},
     "output_type": "execute_result"
    }
   ],
   "source": [
    "np.unique(model_df['num_draws'].to_numpy())"
   ]
  },
  {
   "cell_type": "code",
   "execution_count": 7,
   "id": "12437afc",
   "metadata": {},
   "outputs": [
    {
     "name": "stdout",
     "output_type": "stream",
     "text": [
      "/home/rgiordan/Documents/git_repos/DADVI/dadvi-experiments/comparison/analysis/coverage_warm_starts_rerun\n"
     ]
    }
   ],
   "source": [
    "print(output_path)\n",
    "model_df.to_csv(join(output_path, 'coverage_tidy.csv'), index=False)"
   ]
  },
  {
   "cell_type": "markdown",
   "id": "13cf92b6",
   "metadata": {},
   "source": [
    "# Load the CG results\n",
    "\n",
    "At the moment, the CG results are computed separately in a different format."
   ]
  },
  {
   "cell_type": "code",
   "execution_count": 20,
   "id": "f51bf5fb",
   "metadata": {},
   "outputs": [
    {
     "data": {
      "text/plain": [
       "0      1071\n",
       "1      1043\n",
       "2      1098\n",
       "3      1004\n",
       "4      1077\n",
       "       ... \n",
       "399    1055\n",
       "400    1093\n",
       "401    1078\n",
       "402    1067\n",
       "403    1096\n",
       "Name: seed, Length: 404, dtype: int64"
      ]
     },
     "execution_count": 20,
     "metadata": {},
     "output_type": "execute_result"
    }
   ],
   "source": [
    "model = 'tennis'\n",
    "pickle_file = join(input_path, f\"{model}_with_names.pkl\")\n",
    "with open(pickle_file, 'rb') as f:\n",
    "    pkl_file = pickle.load(f)\n",
    "pkl_file['seed']"
   ]
  },
  {
   "cell_type": "code",
   "execution_count": 21,
   "id": "fe50b9df",
   "metadata": {},
   "outputs": [
    {
     "name": "stdout",
     "output_type": "stream",
     "text": [
      "Loading tennis\n",
      "Loading potus\n",
      "Loading occu\n"
     ]
    }
   ],
   "source": [
    "def GetRunDF(ind, pkl_file):\n",
    "    return pd.DataFrame({\n",
    "        'num_draws': pkl_file['M'][ind],\n",
    "        'seed': pkl_file['seed'][ind],\n",
    "        'mean': pkl_file['means'][ind],\n",
    "        'freq_sd': pkl_file['freq_sds'][ind],\n",
    "        'norm': pkl_file['newton_step_norm'][ind],\n",
    "        'param_name': pkl_file['names'][ind],\n",
    "        'param': pkl_file['indices'][ind],\n",
    "        'model': model\n",
    "    })\n",
    "\n",
    "\n",
    "dfs = []\n",
    "for model in ['tennis', 'potus', 'occu']:\n",
    "    # Load a single pkl file\n",
    "    print(f'Loading {model}')\n",
    "    pickle_file = join(input_path, f\"{model}_with_names.pkl\")\n",
    "    with open(pickle_file, 'rb') as f:\n",
    "        pkl_file = pickle.load(f)\n",
    "\n",
    "    dfs = dfs + [ GetRunDF(ind, pkl_file) for ind in range(len(pkl_file))]\n"
   ]
  },
  {
   "cell_type": "code",
   "execution_count": 22,
   "id": "08f28cfa",
   "metadata": {},
   "outputs": [],
   "source": [
    "cg_df = pd.concat(dfs)\n",
    "cg_df.to_csv(join(output_path, 'coverage_tidy_cg.csv'), index=False)"
   ]
  }
 ],
 "metadata": {
  "kernelspec": {
   "display_name": "dadvi_paper",
   "language": "python",
   "name": "dadvi_paper"
  },
  "language_info": {
   "codemirror_mode": {
    "name": "ipython",
    "version": 3
   },
   "file_extension": ".py",
   "mimetype": "text/x-python",
   "name": "python",
   "nbconvert_exporter": "python",
   "pygments_lexer": "ipython3",
   "version": "3.10.12"
  },
  "vscode": {
   "interpreter": {
    "hash": "d6b81382af3beaebbac93aac606334308960b1a7270e498d25ccdd66c34d7f6d"
   }
  }
 },
 "nbformat": 4,
 "nbformat_minor": 5
}
