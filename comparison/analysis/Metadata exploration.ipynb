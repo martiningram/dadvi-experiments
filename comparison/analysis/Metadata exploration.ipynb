{
 "cells": [
  {
   "cell_type": "code",
   "execution_count": 1,
   "metadata": {},
   "outputs": [],
   "source": [
    "from os.path import join\n",
    "import pandas as pd\n",
    "import numpy as np\n"
   ]
  },
  {
   "cell_type": "code",
   "execution_count": 2,
   "metadata": {},
   "outputs": [],
   "source": [
    "from load_and_tidy_posteriors_lib import \\\n",
    "    VALID_METHODS, GetMetadataDataframe, GetMethodDataframe, \\\n",
    "    GetTraceDataframe, GetUnconstraintedParamsDataframe, \\\n",
    "    GetMCMCDiagnosticsDataframe"
   ]
  },
  {
   "cell_type": "code",
   "execution_count": 3,
   "metadata": {},
   "outputs": [],
   "source": [
    "base_folder = '/home/rgiordan/Documents/git_repos/DADVI/dadvi-experiments'\n",
    "input_folder = join(base_folder, 'comparison/blade_runs/')\n",
    "output_folder = input_folder\n",
    "\n",
    "folder_method_list = (\n",
    "    (join(input_folder, \"nuts_results/\"), 'NUTS'),\n",
    "    (join(input_folder, \"dadvi_results/\"), 'DADVI'),\n",
    "    (join(input_folder, \"raabbvi_results/\"), 'RAABBVI'),\n",
    "    (join(input_folder, \"sadvi_results/\"), 'SADVI'),\n",
    "    (join(input_folder, \"sfullrank_advi_results/\"), 'SADVI_FR'),\n",
    "    (join(input_folder, \"lrvb_Direct_results/\"), 'LRVB'),\n",
    "    (join(input_folder, 'lrvb_doubling_results'), 'LRVB_Doubling'),\n",
    "    (join(input_folder, 'lrvb_cg_results'), 'LRVB_CG')\n",
    ")\n"
   ]
  },
  {
   "cell_type": "code",
   "execution_count": 4,
   "metadata": {},
   "outputs": [
    {
     "name": "stdout",
     "output_type": "stream",
     "text": [
      "Loading NUTS\n",
      "Loading DADVI\n",
      "Loading RAABBVI\n",
      "Loading SADVI\n",
      "Loading SADVI_FR\n",
      "Loading LRVB\n",
      "Loading LRVB_Doubling\n",
      "Loading LRVB_CG\n"
     ]
    }
   ],
   "source": [
    "posterior_dfs = []\n",
    "for folder, method in folder_method_list:\n",
    "    print(f'Loading {method}')\n",
    "    posterior_dfs.append(GetMethodDataframe(folder, method))\n",
    "posterior_df = pd.concat(posterior_dfs)"
   ]
  },
  {
   "cell_type": "markdown",
   "metadata": {},
   "source": [
    "# Explore the contents of the metadata.  \n",
    "\n",
    "Maybe we want to save additional information."
   ]
  },
  {
   "cell_type": "code",
   "execution_count": 5,
   "metadata": {},
   "outputs": [
    {
     "name": "stdout",
     "output_type": "stream",
     "text": [
      "Loading NUTS\n",
      "Loading DADVI\n"
     ]
    },
    {
     "name": "stderr",
     "output_type": "stream",
     "text": [
      "WARNING:absl:No GPU/TPU found, falling back to CPU. (Set TF_CPP_MIN_LOG_LEVEL=0 and rerun for more info.)\n"
     ]
    },
    {
     "name": "stdout",
     "output_type": "stream",
     "text": [
      "Loading RAABBVI\n",
      "Loading SADVI\n",
      "Loading SADVI_FR\n",
      "/home/rgiordan/Documents/git_repos/DADVI/dadvi-experiments/comparison/blade_runs/sfullrank_advi_results/info/occ_det.pkl not found.\n",
      "Loading LRVB\n",
      "Loading LRVB_Doubling\n",
      "/home/rgiordan/Documents/git_repos/DADVI/dadvi-experiments/comparison/blade_runs/lrvb_doubling_results/lrvb_info/tennis.pkl not found.\n",
      "Loading LRVB_CG\n"
     ]
    },
    {
     "ename": "KeyError",
     "evalue": "'LRVB_CG'",
     "output_type": "error",
     "traceback": [
      "\u001b[0;31m---------------------------------------------------------------------------\u001b[0m",
      "\u001b[0;31mKeyError\u001b[0m                                  Traceback (most recent call last)",
      "Cell \u001b[0;32mIn [5], line 6\u001b[0m\n\u001b[1;32m      3\u001b[0m \u001b[38;5;28;01mfor\u001b[39;00m folder, method \u001b[38;5;129;01min\u001b[39;00m folder_method_list:\n\u001b[1;32m      4\u001b[0m     \u001b[38;5;28mprint\u001b[39m(\u001b[38;5;124mf\u001b[39m\u001b[38;5;124m'\u001b[39m\u001b[38;5;124mLoading \u001b[39m\u001b[38;5;132;01m{\u001b[39;00mmethod\u001b[38;5;132;01m}\u001b[39;00m\u001b[38;5;124m'\u001b[39m)\n\u001b[1;32m      5\u001b[0m     raw_metadata[method], model_names[method] \u001b[38;5;241m=\u001b[39m \\\n\u001b[0;32m----> 6\u001b[0m         GetMetadataDataframe(folder, method, return_raw_metadata\u001b[38;5;241m=\u001b[39m\u001b[38;5;28;01mTrue\u001b[39;00m)\n",
      "File \u001b[0;32m~/Documents/git_repos/DADVI/dadvi-experiments/comparison/analysis/load_and_tidy_posteriors_lib.py:184\u001b[0m, in \u001b[0;36mGetMetadataDataframe\u001b[0;34m(folder, method, return_raw_metadata)\u001b[0m\n\u001b[1;32m    173\u001b[0m subdir_lookup \u001b[38;5;241m=\u001b[39m {\n\u001b[1;32m    174\u001b[0m     \u001b[38;5;124m'\u001b[39m\u001b[38;5;124mRAABBVI\u001b[39m\u001b[38;5;124m'\u001b[39m: \u001b[38;5;124m'\u001b[39m\u001b[38;5;124minfo\u001b[39m\u001b[38;5;124m'\u001b[39m,\n\u001b[1;32m    175\u001b[0m     \u001b[38;5;124m'\u001b[39m\u001b[38;5;124mDADVI\u001b[39m\u001b[38;5;124m'\u001b[39m: \u001b[38;5;124m'\u001b[39m\u001b[38;5;124mdadvi_info\u001b[39m\u001b[38;5;124m'\u001b[39m,\n\u001b[0;32m   (...)\u001b[0m\n\u001b[1;32m    179\u001b[0m     \u001b[38;5;124m'\u001b[39m\u001b[38;5;124mSADVI_FR\u001b[39m\u001b[38;5;124m'\u001b[39m: \u001b[38;5;124m'\u001b[39m\u001b[38;5;124minfo\u001b[39m\u001b[38;5;124m'\u001b[39m,\n\u001b[1;32m    180\u001b[0m     \u001b[38;5;124m'\u001b[39m\u001b[38;5;124mLRVB_Doubling\u001b[39m\u001b[38;5;124m'\u001b[39m: \u001b[38;5;124m'\u001b[39m\u001b[38;5;124mlrvb_info\u001b[39m\u001b[38;5;124m'\u001b[39m }\n\u001b[1;32m    182\u001b[0m draw_filenames, model_names \u001b[38;5;241m=\u001b[39m GetDrawFilenames(folder)\n\u001b[0;32m--> 184\u001b[0m subdir \u001b[38;5;241m=\u001b[39m \u001b[43msubdir_lookup\u001b[49m\u001b[43m[\u001b[49m\u001b[43mmethod\u001b[49m\u001b[43m]\u001b[49m\n\u001b[1;32m    185\u001b[0m metadata_filenames \u001b[38;5;241m=\u001b[39m [\n\u001b[1;32m    186\u001b[0m     x\u001b[38;5;241m.\u001b[39mreplace(\u001b[38;5;124m'\u001b[39m\u001b[38;5;124mdraw_dicts\u001b[39m\u001b[38;5;124m'\u001b[39m, subdir)\u001b[38;5;241m.\u001b[39mreplace(\u001b[38;5;124m'\u001b[39m\u001b[38;5;124m.npz\u001b[39m\u001b[38;5;124m'\u001b[39m, \u001b[38;5;124m'\u001b[39m\u001b[38;5;124m.pkl\u001b[39m\u001b[38;5;124m'\u001b[39m)\n\u001b[1;32m    187\u001b[0m     \u001b[38;5;28;01mfor\u001b[39;00m x \u001b[38;5;129;01min\u001b[39;00m draw_filenames ]\n\u001b[1;32m    189\u001b[0m raw_metadata \u001b[38;5;241m=\u001b[39m []\n",
      "\u001b[0;31mKeyError\u001b[0m: 'LRVB_CG'"
     ]
    }
   ],
   "source": [
    "raw_metadata = {}\n",
    "model_names = {}\n",
    "for folder, method in folder_method_list:\n",
    "    print(f'Loading {method}')\n",
    "    raw_metadata[method], model_names[method] = \\\n",
    "        GetMetadataDataframe(folder, method, return_raw_metadata=True) \n"
   ]
  },
  {
   "cell_type": "markdown",
   "metadata": {},
   "source": [
    "# See what's missing"
   ]
  },
  {
   "cell_type": "code",
   "execution_count": null,
   "metadata": {},
   "outputs": [],
   "source": [
    "all_model_names = set.union(*[set(model_names[k]) for k in model_names])\n",
    "\n",
    "for k in model_names:\n",
    "    missing_models = set.difference(all_model_names, set(model_names[k]))\n",
    "    print(f'{k} missing {missing_models}')"
   ]
  },
  {
   "cell_type": "markdown",
   "metadata": {},
   "source": [
    "# This doesn't make sense, LRVB should always take longer than DADVI."
   ]
  },
  {
   "cell_type": "code",
   "execution_count": null,
   "metadata": {},
   "outputs": [],
   "source": [
    "dadvi_times = pd.DataFrame({\n",
    "    'model': model_names['DADVI'],\n",
    "    'runtime': np.array([ m['runtime'] for m in raw_metadata['DADVI'] ])})\n",
    "lrvb_times = pd.DataFrame({\n",
    "    'model': model_names['LRVB'],\n",
    "    'runtime': np.array([ m['runtime'] for m in raw_metadata['LRVB'] ])})\n",
    "comp_df = pd.merge(\n",
    "    dadvi_times, lrvb_times, on='model', how='inner', suffixes=['_DADVI', '_LRVB'])\n",
    "diffs = np.array(comp_df['runtime_LRVB'] - comp_df['runtime_DADVI'])\n",
    "\n",
    "np.min(diffs), np.max(diffs), np.mean(diffs)"
   ]
  },
  {
   "cell_type": "markdown",
   "metadata": {},
   "source": [
    "# Not all the unconstrained parameters have posterior samples.  AFAIK that means I don't know their dimension."
   ]
  },
  {
   "cell_type": "code",
   "execution_count": null,
   "metadata": {},
   "outputs": [],
   "source": [
    "def GetModelParams(model):\n",
    "    keep_rows = np.logical_and(\n",
    "        posterior_df['method'] == 'DADVI', \n",
    "        posterior_df['model'] == model)\n",
    "    return posterior_df[keep_rows]['param'].to_numpy()\n",
    "\n",
    "def GetUnconstrainedModelParams(model):\n",
    "    ind = np.argwhere(\n",
    "        np.array(model_names['DADVI']) == model)[0][0]\n",
    "    return raw_metadata['DADVI'][ind]['unconstrained_param_names']\n",
    "\n",
    "model = 'electric_multi_preds'\n",
    "GetUnconstrainedModelParams(model), GetModelParams(model)"
   ]
  }
 ],
 "metadata": {
  "kernelspec": {
   "display_name": "dadvi-experiments",
   "language": "python",
   "name": "dadvi-experiments"
  },
  "language_info": {
   "codemirror_mode": {
    "name": "ipython",
    "version": 3
   },
   "file_extension": ".py",
   "mimetype": "text/x-python",
   "name": "python",
   "nbconvert_exporter": "python",
   "pygments_lexer": "ipython3",
   "version": "3.8.10"
  }
 },
 "nbformat": 4,
 "nbformat_minor": 4
}
