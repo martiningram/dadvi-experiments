{
 "cells": [
  {
   "cell_type": "code",
   "execution_count": 6,
   "metadata": {},
   "outputs": [],
   "source": [
    "from os.path import join\n",
    "import os\n",
    "import pandas as pd\n",
    "import numpy as np\n",
    "import pickle\n",
    "\n",
    "base_folder = '/home/rgiordan/Documents/git_repos/DADVI/dadvi-experiments'\n",
    "input_folder = join(base_folder, 'comparison/blade_runs/')\n",
    "output_folder = input_folder\n",
    "\n"
   ]
  },
  {
   "cell_type": "markdown",
   "metadata": {},
   "source": [
    "# Martin often sends one-offs, check it here"
   ]
  },
  {
   "cell_type": "code",
   "execution_count": null,
   "metadata": {},
   "outputs": [],
   "source": []
  },
  {
   "cell_type": "code",
   "execution_count": 19,
   "metadata": {},
   "outputs": [
    {
     "name": "stdout",
     "output_type": "stream",
     "text": [
      "Index(['means', 'means_with_names', 'seed', 'freq_sds', 'freq_sds_with_names',\n",
      "       'newton_step_norm', 'scipy_opt_result', 'lrvb_hvp_calls',\n",
      "       'lrvb_freq_cov_grad_calls', 'names', 'indices', 'datetime', 'hostname',\n",
      "       'reference_means', 'reference_freq_sds', 'M',\n",
      "       'reference_newton_step_norm', 'reference_scipy_opt_result'],\n",
      "      dtype='object')\n",
      "{'Intercept': DeviceArray(87.116554, dtype=float32), 'kid_score_sigma_log__': DeviceArray(3.0023484, dtype=float32), 'mom_hs': DeviceArray([11.984229], dtype=float32)}\n",
      "[87.116554   3.0023484 11.984229 ]\n",
      "[0 0 0]\n"
     ]
    }
   ],
   "source": [
    "pickle_raw = pd.read_pickle(os.path.join('~/Downloads', 'coverage_results.pkl'))\n",
    "print(pickle_raw.keys())\n",
    "print(pickle_raw['means_with_names'][2])\n",
    "print(pickle_raw['means'][2])\n",
    "# print(pickle_raw['means'])\n",
    "print(pickle_raw['indices'][2])\n"
   ]
  },
  {
   "cell_type": "markdown",
   "metadata": {},
   "source": [
    "# Load all the metadata"
   ]
  },
  {
   "cell_type": "code",
   "execution_count": null,
   "metadata": {},
   "outputs": [],
   "source": [
    "from load_and_tidy_posteriors_lib import \\\n",
    "    VALID_METHODS, GetMetadataDataframe, GetMethodDataframe, \\\n",
    "    GetTraceDataframe, GetUnconstraintedParamsDataframe, \\\n",
    "    GetMCMCDiagnosticsDataframe"
   ]
  },
  {
   "cell_type": "code",
   "execution_count": null,
   "metadata": {},
   "outputs": [],
   "source": [
    "folder_method_list = (\n",
    "    (join(input_folder, \"nuts_results/\"), 'NUTS'),\n",
    "    (join(input_folder, \"dadvi_results/\"), 'DADVI'),\n",
    "    (join(input_folder, \"raabbvi_results/\"), 'RAABBVI'),\n",
    "    (join(input_folder, \"sadvi_results/\"), 'SADVI'),\n",
    "    (join(input_folder, \"sfullrank_advi_results/\"), 'SADVI_FR'),\n",
    "    (join(input_folder, \"lrvb_Direct_results/\"), 'LRVB'),\n",
    "    (join(input_folder, 'lrvb_doubling_results'), 'LRVB_Doubling'),\n",
    "    (join(input_folder, 'lrvb_cg_results'), 'LRVB_CG')\n",
    ")\n"
   ]
  },
  {
   "cell_type": "code",
   "execution_count": null,
   "metadata": {},
   "outputs": [],
   "source": [
    "posterior_dfs = []\n",
    "for folder, method in folder_method_list:\n",
    "    print(f'Loading {method}')\n",
    "    posterior_dfs.append(GetMethodDataframe(folder, method))\n",
    "posterior_df = pd.concat(posterior_dfs)"
   ]
  },
  {
   "cell_type": "markdown",
   "metadata": {},
   "source": [
    "# Explore the contents of the metadata.  \n",
    "\n",
    "Maybe we want to save additional information."
   ]
  },
  {
   "cell_type": "code",
   "execution_count": null,
   "metadata": {},
   "outputs": [],
   "source": [
    "raw_metadata = {}\n",
    "model_names = {}\n",
    "for folder, method in folder_method_list:\n",
    "    print(f'Loading {method}')\n",
    "    raw_metadata[method], model_names[method] = \\\n",
    "        GetMetadataDataframe(folder, method, return_raw_metadata=True) \n"
   ]
  },
  {
   "cell_type": "markdown",
   "metadata": {},
   "source": [
    "# See what's missing"
   ]
  },
  {
   "cell_type": "code",
   "execution_count": null,
   "metadata": {},
   "outputs": [],
   "source": [
    "all_model_names = set.union(*[set(model_names[k]) for k in model_names])\n",
    "\n",
    "for k in model_names:\n",
    "    missing_models = set.difference(all_model_names, set(model_names[k]))\n",
    "    print(f'{k} missing {missing_models}')"
   ]
  },
  {
   "cell_type": "markdown",
   "metadata": {},
   "source": [
    "# This doesn't make sense, LRVB should always take longer than DADVI."
   ]
  },
  {
   "cell_type": "code",
   "execution_count": null,
   "metadata": {},
   "outputs": [],
   "source": [
    "dadvi_times = pd.DataFrame({\n",
    "    'model': model_names['DADVI'],\n",
    "    'runtime': np.array([ m['runtime'] for m in raw_metadata['DADVI'] ])})\n",
    "lrvb_times = pd.DataFrame({\n",
    "    'model': model_names['LRVB'],\n",
    "    'runtime': np.array([ m['runtime'] for m in raw_metadata['LRVB'] ])})\n",
    "comp_df = pd.merge(\n",
    "    dadvi_times, lrvb_times, on='model', how='inner', suffixes=['_DADVI', '_LRVB'])\n",
    "diffs = np.array(comp_df['runtime_LRVB'] - comp_df['runtime_DADVI'])\n",
    "\n",
    "np.min(diffs), np.max(diffs), np.mean(diffs)"
   ]
  },
  {
   "cell_type": "markdown",
   "metadata": {},
   "source": [
    "# Not all the unconstrained parameters have posterior samples.  AFAIK that means I don't know their dimension.\n",
    "\n",
    "# This may be fixed"
   ]
  },
  {
   "cell_type": "code",
   "execution_count": null,
   "metadata": {},
   "outputs": [],
   "source": [
    "def GetModelParams(model):\n",
    "    keep_rows = np.logical_and(\n",
    "        posterior_df['method'] == 'DADVI', \n",
    "        posterior_df['model'] == model)\n",
    "    return posterior_df[keep_rows]['param'].to_numpy()\n",
    "\n",
    "def GetUnconstrainedModelParams(model):\n",
    "    ind = np.argwhere(\n",
    "        np.array(model_names['DADVI']) == model)[0][0]\n",
    "    return raw_metadata['DADVI'][ind]['unconstrained_param_names']\n",
    "\n",
    "model = 'electric_multi_preds'\n",
    "GetUnconstrainedModelParams(model), GetModelParams(model)"
   ]
  },
  {
   "cell_type": "markdown",
   "metadata": {},
   "source": [
    "# What's in the LRVB CG Metadata"
   ]
  },
  {
   "cell_type": "code",
   "execution_count": null,
   "metadata": {},
   "outputs": [],
   "source": [
    "import load_and_tidy_posteriors_lib\n",
    "\n",
    "method = 'LRVB_CG'\n",
    "raw_metadata[method][2]\n",
    "\n",
    "\n",
    "load_and_tidy_posteriors_lib.GetModelHVPCount(method, raw_metadata[method][2])"
   ]
  }
 ],
 "metadata": {
  "kernelspec": {
   "display_name": "dadvi-experiments",
   "language": "python",
   "name": "dadvi-experiments"
  },
  "language_info": {
   "codemirror_mode": {
    "name": "ipython",
    "version": 3
   },
   "file_extension": ".py",
   "mimetype": "text/x-python",
   "name": "python",
   "nbconvert_exporter": "python",
   "pygments_lexer": "ipython3",
   "version": "3.8.10"
  }
 },
 "nbformat": 4,
 "nbformat_minor": 4
}
