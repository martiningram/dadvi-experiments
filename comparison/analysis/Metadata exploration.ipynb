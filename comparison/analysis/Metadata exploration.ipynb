{
 "cells": [
  {
   "cell_type": "code",
   "execution_count": 1,
   "metadata": {},
   "outputs": [],
   "source": [
    "from os.path import join\n",
    "import pandas as pd\n",
    "import numpy as np\n"
   ]
  },
  {
   "cell_type": "code",
   "execution_count": 2,
   "metadata": {},
   "outputs": [],
   "source": [
    "from load_and_tidy_posteriors_lib import \\\n",
    "    VALID_METHODS, GetMetadataDataframe, GetMethodDataframe, \\\n",
    "    GetTraceDataframe, GetUnconstraintedParamsDataframe, \\\n",
    "    GetMCMCDiagnosticsDataframe"
   ]
  },
  {
   "cell_type": "code",
   "execution_count": 3,
   "metadata": {},
   "outputs": [],
   "source": [
    "base_folder = '/home/rgiordan/Documents/git_repos/DADVI/dadvi-experiments'\n",
    "input_folder = join(base_folder, 'comparison/blade_runs/')\n",
    "output_folder = input_folder\n",
    "\n",
    "folder_method_list = (\n",
    "    (join(input_folder, \"nuts_results/\"), 'NUTS'),\n",
    "    (join(input_folder, \"dadvi_results/\"), 'DADVI'),\n",
    "    (join(input_folder, \"raabbvi_results/\"), 'RAABBVI'),\n",
    "    (join(input_folder, \"sadvi_results/\"), 'SADVI'),\n",
    "    (join(input_folder, \"sfullrank_advi_results/\"), 'SADVI_FR'),\n",
    "    (join(input_folder, \"lrvb_Direct_results/\"), 'LRVB'),\n",
    "    (join(input_folder, 'lrvb_doubling_results'), 'LRVB_Doubling'),\n",
    "    (join(input_folder, 'lrvb_cg_results'), 'LRVB_CG')\n",
    ")\n"
   ]
  },
  {
   "cell_type": "code",
   "execution_count": 4,
   "metadata": {},
   "outputs": [
    {
     "name": "stdout",
     "output_type": "stream",
     "text": [
      "Loading NUTS\n",
      "Loading DADVI\n",
      "Loading RAABBVI\n",
      "Loading SADVI\n",
      "Loading SADVI_FR\n",
      "Loading LRVB\n",
      "Loading LRVB_Doubling\n",
      "Loading LRVB_CG\n"
     ]
    }
   ],
   "source": [
    "posterior_dfs = []\n",
    "for folder, method in folder_method_list:\n",
    "    print(f'Loading {method}')\n",
    "    posterior_dfs.append(GetMethodDataframe(folder, method))\n",
    "posterior_df = pd.concat(posterior_dfs)"
   ]
  },
  {
   "cell_type": "markdown",
   "metadata": {},
   "source": [
    "# Explore the contents of the metadata.  \n",
    "\n",
    "Maybe we want to save additional information."
   ]
  },
  {
   "cell_type": "code",
   "execution_count": 5,
   "metadata": {},
   "outputs": [
    {
     "name": "stdout",
     "output_type": "stream",
     "text": [
      "Loading NUTS\n",
      "Loading DADVI\n"
     ]
    },
    {
     "name": "stderr",
     "output_type": "stream",
     "text": [
      "WARNING:absl:No GPU/TPU found, falling back to CPU. (Set TF_CPP_MIN_LOG_LEVEL=0 and rerun for more info.)\n"
     ]
    },
    {
     "name": "stdout",
     "output_type": "stream",
     "text": [
      "Loading RAABBVI\n",
      "Loading SADVI\n",
      "Loading SADVI_FR\n",
      "/home/rgiordan/Documents/git_repos/DADVI/dadvi-experiments/comparison/blade_runs/sfullrank_advi_results/info/occ_det.pkl not found.\n",
      "Loading LRVB\n",
      "Loading LRVB_Doubling\n",
      "/home/rgiordan/Documents/git_repos/DADVI/dadvi-experiments/comparison/blade_runs/lrvb_doubling_results/lrvb_info/tennis.pkl not found.\n",
      "Loading LRVB_CG\n"
     ]
    }
   ],
   "source": [
    "raw_metadata = {}\n",
    "model_names = {}\n",
    "for folder, method in folder_method_list:\n",
    "    print(f'Loading {method}')\n",
    "    raw_metadata[method], model_names[method] = \\\n",
    "        GetMetadataDataframe(folder, method, return_raw_metadata=True) \n"
   ]
  },
  {
   "cell_type": "markdown",
   "metadata": {},
   "source": [
    "# See what's missing"
   ]
  },
  {
   "cell_type": "code",
   "execution_count": 6,
   "metadata": {},
   "outputs": [
    {
     "name": "stdout",
     "output_type": "stream",
     "text": [
      "NUTS missing set()\n",
      "DADVI missing set()\n",
      "RAABBVI missing {'sesame_one_pred_b'}\n",
      "SADVI missing set()\n",
      "SADVI_FR missing {'occ_det', 'tennis', 'potus'}\n",
      "LRVB missing {'potus'}\n",
      "LRVB_Doubling missing {'tennis', 'potus'}\n",
      "LRVB_CG missing {'ideo_reparam', 'radon_no_pool', 'wells_d100ars', 'election88_full', 'electric_1c', 'electric_one_pred', 'earnings_vary_si', 'radon_intercept_chr', 'radon_group_chr', 'logearn_logheight', 'nes2000_vote', 'mesquite', 'wells_dae', 'earnings1', 'mesquite_log', 'logearn_height_male', 'earnings_interactions', 'sesame_multi_preds_3a', 'kidiq_interaction', 'kidscore_momwork', 'wells_daae_c', 'radon_inter_vary', 'logearn_height', 'radon_vary_si', 'electric', 'kidscore_momhs', 'congress', 'radon_no_pool_chr', 'test', 'wells_dist100', 'election88', 'mesquite_volume', 'mesquite_vas', 'pilots', 'electric_1b', 'microcredit', 'radon_complete_pool', 'wells_predicted_log', 'hiv_inter', 'wells_interaction', 'wells_predicted', 'kidiq_multi_preds', 'kidscore_momiq', 'sesame_multi_preds_3b', 'sesame_one_pred_2b', 'electric_multi_preds', 'wells_dae_c', 'wells_dae_inter', 'electric_1a', 'separation', 'radon_intercept', 'mesquite_vash', 'earn_height', 'hiv', 'radon_group', 'test_rstanarm', 'logearn_interaction', 'earnings_latin_square', 'wells_interaction_c', 'sesame_one_pred_b', 'mesquite_va', 'earnings2', 'wells_dae_inter_c', 'sesame_one_pred_a'}\n"
     ]
    }
   ],
   "source": [
    "all_model_names = set.union(*[set(model_names[k]) for k in model_names])\n",
    "\n",
    "for k in model_names:\n",
    "    missing_models = set.difference(all_model_names, set(model_names[k]))\n",
    "    print(f'{k} missing {missing_models}')"
   ]
  },
  {
   "cell_type": "markdown",
   "metadata": {},
   "source": [
    "# This doesn't make sense, LRVB should always take longer than DADVI."
   ]
  },
  {
   "cell_type": "code",
   "execution_count": 7,
   "metadata": {},
   "outputs": [
    {
     "data": {
      "text/plain": [
       "(-0.20125889778137207, 3281.6659541130066, 75.18515008146113)"
      ]
     },
     "execution_count": 7,
     "metadata": {},
     "output_type": "execute_result"
    }
   ],
   "source": [
    "dadvi_times = pd.DataFrame({\n",
    "    'model': model_names['DADVI'],\n",
    "    'runtime': np.array([ m['runtime'] for m in raw_metadata['DADVI'] ])})\n",
    "lrvb_times = pd.DataFrame({\n",
    "    'model': model_names['LRVB'],\n",
    "    'runtime': np.array([ m['runtime'] for m in raw_metadata['LRVB'] ])})\n",
    "comp_df = pd.merge(\n",
    "    dadvi_times, lrvb_times, on='model', how='inner', suffixes=['_DADVI', '_LRVB'])\n",
    "diffs = np.array(comp_df['runtime_LRVB'] - comp_df['runtime_DADVI'])\n",
    "\n",
    "np.min(diffs), np.max(diffs), np.mean(diffs)"
   ]
  },
  {
   "cell_type": "markdown",
   "metadata": {},
   "source": [
    "# Not all the unconstrained parameters have posterior samples.  AFAIK that means I don't know their dimension.\n",
    "\n",
    "# This may be fixed"
   ]
  },
  {
   "cell_type": "code",
   "execution_count": 8,
   "metadata": {},
   "outputs": [
    {
     "data": {
      "text/plain": [
       "(['Intercept', 'treatment', 'pre_test', 'post_test_sigma_log__'],\n",
       " array(['Intercept', 'treatment', 'pre_test', 'post_test_sigma_log__',\n",
       "        'post_test_sigma'], dtype=object))"
      ]
     },
     "execution_count": 8,
     "metadata": {},
     "output_type": "execute_result"
    }
   ],
   "source": [
    "def GetModelParams(model):\n",
    "    keep_rows = np.logical_and(\n",
    "        posterior_df['method'] == 'DADVI', \n",
    "        posterior_df['model'] == model)\n",
    "    return posterior_df[keep_rows]['param'].to_numpy()\n",
    "\n",
    "def GetUnconstrainedModelParams(model):\n",
    "    ind = np.argwhere(\n",
    "        np.array(model_names['DADVI']) == model)[0][0]\n",
    "    return raw_metadata['DADVI'][ind]['unconstrained_param_names']\n",
    "\n",
    "model = 'electric_multi_preds'\n",
    "GetUnconstrainedModelParams(model), GetModelParams(model)"
   ]
  },
  {
   "cell_type": "markdown",
   "metadata": {},
   "source": [
    "# What's in the LRVB CG Metadata"
   ]
  },
  {
   "cell_type": "code",
   "execution_count": 11,
   "metadata": {},
   "outputs": [
    {
     "data": {
      "text/plain": [
       "845"
      ]
     },
     "execution_count": 11,
     "metadata": {},
     "output_type": "execute_result"
    }
   ],
   "source": [
    "import load_and_tidy_posteriors_lib\n",
    "\n",
    "method = 'LRVB_CG'\n",
    "raw_metadata[method][2]\n",
    "\n",
    "\n",
    "load_and_tidy_posteriors_lib.GetModelHVPCount(method, raw_metadata[method][2])"
   ]
  }
 ],
 "metadata": {
  "kernelspec": {
   "display_name": "dadvi-experiments",
   "language": "python",
   "name": "dadvi-experiments"
  },
  "language_info": {
   "codemirror_mode": {
    "name": "ipython",
    "version": 3
   },
   "file_extension": ".py",
   "mimetype": "text/x-python",
   "name": "python",
   "nbconvert_exporter": "python",
   "pygments_lexer": "ipython3",
   "version": "3.8.10"
  }
 },
 "nbformat": 4,
 "nbformat_minor": 4
}
