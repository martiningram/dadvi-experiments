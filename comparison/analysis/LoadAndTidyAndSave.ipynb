{
 "cells": [
  {
   "cell_type": "markdown",
   "metadata": {},
   "source": [
    "Load results from the `blade_runs` directory and save in a tidy format for R"
   ]
  },
  {
   "cell_type": "code",
   "execution_count": 1,
   "metadata": {},
   "outputs": [],
   "source": [
    "from os.path import join\n",
    "import pandas as pd\n",
    "import numpy as np"
   ]
  },
  {
   "cell_type": "code",
   "execution_count": 2,
   "metadata": {},
   "outputs": [],
   "source": [
    "from load_and_tidy_lib import \\\n",
    "    VALID_METHODS, GetMetadataDataframe, GetMethodDataframe, GetTraceDataframe"
   ]
  },
  {
   "cell_type": "code",
   "execution_count": 3,
   "metadata": {},
   "outputs": [],
   "source": [
    "base_folder = '/home/rgiordan/Documents/git_repos/DADVI/dadvi-experiments'\n",
    "input_folder = join(base_folder, 'comparison/blade_runs/')\n",
    "output_folder = input_folder\n",
    "\n",
    "folder_method_list = (\n",
    "    (join(input_folder, \"nuts_results/\"), 'NUTS'),\n",
    "    (join(input_folder, \"dadvi_results/\"), 'DADVI'),\n",
    "    (join(input_folder, \"lrvb_results/\"), 'LRVB'),\n",
    "    (join(input_folder, \"raabbvi_results/\"), 'RAABBVI'),\n",
    "    (join(input_folder, \"sadvi_results/\"), 'SADVI'),\n",
    "    (join(input_folder, \"sfullrank_advi_results/\"), 'SADVI_FR'),\n",
    "    (join(input_folder, 'lrvb_doubling_results'), 'LRVB_Doubling')\n",
    ")\n"
   ]
  },
  {
   "cell_type": "code",
   "execution_count": 4,
   "metadata": {},
   "outputs": [
    {
     "name": "stdout",
     "output_type": "stream",
     "text": [
      "Loading NUTS\n",
      "Loading DADVI\n"
     ]
    },
    {
     "name": "stderr",
     "output_type": "stream",
     "text": [
      "WARNING:absl:No GPU/TPU found, falling back to CPU. (Set TF_CPP_MIN_LOG_LEVEL=0 and rerun for more info.)\n"
     ]
    },
    {
     "name": "stdout",
     "output_type": "stream",
     "text": [
      "Loading LRVB\n",
      "Loading RAABBVI\n",
      "Loading SADVI\n",
      "Loading SADVI_FR\n",
      "Loading LRVB_Doubling\n"
     ]
    },
    {
     "name": "stderr",
     "output_type": "stream",
     "text": [
      "/tmp/ipykernel_69215/4089185441.py:11: FutureWarning: Behavior when concatenating bool-dtype and numeric-dtype arrays is deprecated; in a future version these will cast to object dtype (instead of coercing bools to numeric values). To retain the old behavior, explicitly cast bool-dtype arrays to numeric dtype.\n",
      "  metadata_df = pd.concat(metadata_dfs)\n"
     ]
    }
   ],
   "source": [
    "posterior_dfs = []\n",
    "metadata_dfs = []\n",
    "trace_dfs = []\n",
    "for folder, method in folder_method_list:\n",
    "    print(f'Loading {method}')\n",
    "    posterior_dfs.append(GetMethodDataframe(folder, method))\n",
    "    metadata_dfs.append(GetMetadataDataframe(folder, method))\n",
    "    trace_dfs.append(GetTraceDataframe(folder, method))\n",
    "    \n",
    "posterior_df = pd.concat(posterior_dfs)\n",
    "metadata_df = pd.concat(metadata_dfs)\n",
    "trace_df = pd.concat(trace_dfs)\n"
   ]
  },
  {
   "cell_type": "code",
   "execution_count": 5,
   "metadata": {},
   "outputs": [],
   "source": [
    "posterior_df.to_csv(join(output_folder, 'posteriors_tidy.csv'), index=False)\n",
    "metadata_df.to_csv(join(output_folder, 'metadata_tidy.csv'), index=False)\n",
    "trace_df.to_csv(join(output_folder, 'trace_tidy.csv'), index=False)"
   ]
  },
  {
   "cell_type": "markdown",
   "metadata": {},
   "source": [
    "# Explore the contents of the metadata.  \n",
    "\n",
    "Maybe we want to save additional information."
   ]
  },
  {
   "cell_type": "code",
   "execution_count": 6,
   "metadata": {},
   "outputs": [
    {
     "name": "stdout",
     "output_type": "stream",
     "text": [
      "Loading NUTS\n",
      "Loading DADVI\n",
      "Loading LRVB\n",
      "Loading RAABBVI\n",
      "Loading SADVI\n",
      "Loading SADVI_FR\n",
      "Loading LRVB_Doubling\n"
     ]
    }
   ],
   "source": [
    "raw_metadata = {}\n",
    "for folder, method in folder_method_list:\n",
    "    print(f'Loading {method}')\n",
    "    raw_metadata[method] = GetMetadataDataframe(folder, method, return_raw_metadata=True) \n"
   ]
  },
  {
   "cell_type": "code",
   "execution_count": null,
   "metadata": {
    "scrolled": false
   },
   "outputs": [],
   "source": [
    "for k,v in raw_metadata.items():\n",
    "    print('=======================================\\n', k, ':')\n",
    "    print(v[0])\n",
    "    print('\\n')"
   ]
  }
 ],
 "metadata": {
  "kernelspec": {
   "display_name": "dadvi-experiments",
   "language": "python",
   "name": "dadvi-experiments"
  },
  "language_info": {
   "codemirror_mode": {
    "name": "ipython",
    "version": 3
   },
   "file_extension": ".py",
   "mimetype": "text/x-python",
   "name": "python",
   "nbconvert_exporter": "python",
   "pygments_lexer": "ipython3",
   "version": "3.8.10"
  },
  "vscode": {
   "interpreter": {
    "hash": "d6b81382af3beaebbac93aac606334308960b1a7270e498d25ccdd66c34d7f6d"
   }
  }
 },
 "nbformat": 4,
 "nbformat_minor": 2
}
