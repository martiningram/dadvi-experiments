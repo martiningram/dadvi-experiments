{
 "cells": [
  {
   "cell_type": "code",
   "execution_count": 4,
   "metadata": {},
   "outputs": [],
   "source": [
    "from os.path import join\n",
    "import pandas as pd\n",
    "import numpy as np\n",
    "# import pickle"
   ]
  },
  {
   "cell_type": "code",
   "execution_count": 2,
   "metadata": {},
   "outputs": [],
   "source": [
    "from load_and_tidy_lib import VALID_METHODS, GetMetdataDataframe, GetMethodDataframe"
   ]
  },
  {
   "cell_type": "code",
   "execution_count": 5,
   "metadata": {},
   "outputs": [],
   "source": [
    "base_folder = '../blade_runs/'\n",
    "\n",
    "folder_method_list = (\n",
    "    (join(base_folder, \"nuts_results/\"), 'NUTS'),\n",
    "    (join(base_folder, \"dadvi_results/\"), 'DADVI'),\n",
    "    (join(base_folder, \"lrvb_results/\"), 'LRVB'),\n",
    "    (join(base_folder, \"raabbvi_results/\"), 'RAABBVI'),\n",
    "    (join(base_folder, \"sadvi_results/\"), 'SADVI'),\n",
    "    (join(base_folder, \"sfullrank_advi_results/\"), 'SADVI_FR'),\n",
    "    (join(base_folder, 'lrvb_doubling_results'), 'LRVB_Doubling')\n",
    ")\n"
   ]
  },
  {
   "cell_type": "markdown",
   "metadata": {},
   "source": [
    "Create and save versions in tidy data format.  We'll consume this in R for the final paper."
   ]
  },
  {
   "cell_type": "code",
   "execution_count": 8,
   "metadata": {},
   "outputs": [
    {
     "name": "stdout",
     "output_type": "stream",
     "text": [
      "Loading NUTS\n",
      "Loading DADVI\n"
     ]
    },
    {
     "name": "stderr",
     "output_type": "stream",
     "text": [
      "WARNING:absl:No GPU/TPU found, falling back to CPU. (Set TF_CPP_MIN_LOG_LEVEL=0 and rerun for more info.)\n"
     ]
    },
    {
     "name": "stdout",
     "output_type": "stream",
     "text": [
      "Loading LRVB\n",
      "Loading RAABBVI\n",
      "Loading SADVI\n",
      "Loading SADVI_FR\n",
      "Loading LRVB_Doubling\n"
     ]
    },
    {
     "name": "stderr",
     "output_type": "stream",
     "text": [
      "/tmp/ipykernel_27596/3482902452.py:10: FutureWarning: Behavior when concatenating bool-dtype and numeric-dtype arrays is deprecated; in a future version these will cast to object dtype (instead of coercing bools to numeric values). To retain the old behavior, explicitly cast bool-dtype arrays to numeric dtype.\n",
      "  metadata_dfs = pd.concat(metadata_dfs)\n"
     ]
    }
   ],
   "source": [
    "posterior_dfs = []\n",
    "metadata_dfs = []\n",
    "results_df = pd.DataFrame()\n",
    "for folder, method in folder_method_list:\n",
    "    print(f'Loading {method}')\n",
    "    posterior_dfs.append(GetMethodDataframe(folder, method))\n",
    "    metadata_dfs.append(GetMetdataDataframe(folder, method))\n",
    "    \n",
    "posterior_df = pd.concat(posterior_dfs)\n",
    "metadata_dfs = pd.concat(metadata_dfs)"
   ]
  }
 ],
 "metadata": {
  "kernelspec": {
   "display_name": "dadvi-experiments",
   "language": "python",
   "name": "dadvi-experiments"
  },
  "language_info": {
   "codemirror_mode": {
    "name": "ipython",
    "version": 3
   },
   "file_extension": ".py",
   "mimetype": "text/x-python",
   "name": "python",
   "nbconvert_exporter": "python",
   "pygments_lexer": "ipython3",
   "version": "3.8.10"
  },
  "vscode": {
   "interpreter": {
    "hash": "d6b81382af3beaebbac93aac606334308960b1a7270e498d25ccdd66c34d7f6d"
   }
  }
 },
 "nbformat": 4,
 "nbformat_minor": 2
}
