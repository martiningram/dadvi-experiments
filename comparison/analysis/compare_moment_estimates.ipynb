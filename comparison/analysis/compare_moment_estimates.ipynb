{
 "cells": [
  {
   "cell_type": "code",
   "execution_count": null,
   "metadata": {},
   "outputs": [],
   "source": [
    "from glob import glob\n",
    "from os.path import join\n",
    "import pandas as pd\n",
    "import numpy as np\n",
    "\n",
    "from load_results_lib import load_moment_df, add_metadata\n",
    "from load_results_lib import add_deviation_stats, add_derived_stats\n",
    "from load_results_lib import VALID_METHODS"
   ]
  },
  {
   "cell_type": "code",
   "execution_count": 4,
   "metadata": {},
   "outputs": [
    {
     "name": "stdout",
     "output_type": "stream",
     "text": [
      "NUTS ../blade_runs/nuts_results/\n",
      "DADVI ../blade_runs/dadvi_results/\n"
     ]
    },
    {
     "name": "stderr",
     "output_type": "stream",
     "text": [
      "WARNING:absl:No GPU/TPU found, falling back to CPU. (Set TF_CPP_MIN_LOG_LEVEL=0 and rerun for more info.)\n"
     ]
    },
    {
     "name": "stdout",
     "output_type": "stream",
     "text": [
      "LRVB ../blade_runs/lrvb_results/\n",
      "RAABBVI ../blade_runs/raabbvi_results/\n",
      "SADVI ../blade_runs/sadvi_results/\n",
      "SADVI_FR ../blade_runs/sfullrank_advi_results/\n",
      "LRVB_Doubling ../blade_runs/lrvb_doubling_results\n",
      "Done!\n"
     ]
    }
   ],
   "source": [
    "base_folder = '../blade_runs/'\n",
    "\n",
    "folder_method_list = (\n",
    "    (join(base_folder, \"nuts_results/\"), 'NUTS'),\n",
    "    (join(base_folder, \"dadvi_results/\"), 'DADVI'),\n",
    "    (join(base_folder, \"lrvb_results/\"), 'LRVB'),\n",
    "    (join(base_folder, \"raabbvi_results/\"), 'RAABBVI'),\n",
    "    (join(base_folder, \"sadvi_results/\"), 'SADVI'),\n",
    "    (join(base_folder, \"sfullrank_advi_results/\"), 'SADVI_FR'),\n",
    "    (join(base_folder, 'lrvb_doubling_results'), 'LRVB_Doubling')\n",
    ")\n",
    "\n",
    "all_results = dict()\n",
    "\n",
    "for cur_folder, cur_method in folder_method_list:\n",
    "\n",
    "    print(cur_method, cur_folder)\n",
    "\n",
    "    data = load_moment_df(cur_folder)\n",
    "\n",
    "    data = add_metadata(data, cur_method)\n",
    "\n",
    "    all_results[cur_method] = data\n",
    "\n",
    "print('Done!')"
   ]
  },
  {
   "cell_type": "code",
   "execution_count": 9,
   "metadata": {},
   "outputs": [],
   "source": [
    "assert(len(set(all_results.keys()).symmetric_difference(VALID_METHODS)) == 0)"
   ]
  },
  {
   "cell_type": "code",
   "execution_count": 42,
   "metadata": {},
   "outputs": [
    {
     "name": "stdout",
     "output_type": "stream",
     "text": [
      "NUTS\n",
      "Missing models:\n",
      "election88_full\n",
      "electric_1c\n",
      "mesquite_vash\n",
      "hiv\n",
      "electric_one_pred\n",
      "hiv_inter\n",
      "electric_1b\n",
      "mesquite_vas\n",
      "microcredit\n",
      "electric_multi_preds\n",
      "electric_1a\n",
      "electric\n",
      "\n",
      "\n",
      "RAABBVI\n",
      "Missing models:\n",
      "electric_1c\n",
      "mesquite_vash\n",
      "hiv\n",
      "electric_one_pred\n",
      "hiv_inter\n",
      "tennis\n",
      "potus\n",
      "electric_1b\n",
      "electric_multi_preds\n",
      "electric_1a\n",
      "electric\n",
      "\n",
      "\n",
      "DADVI\n",
      "Missing models:\n",
      "electric_1c\n",
      "hiv\n",
      "electric_one_pred\n",
      "hiv_inter\n",
      "electric_1b\n",
      "electric_multi_preds\n",
      "electric_1a\n",
      "electric\n",
      "\n",
      "\n",
      "LRVB\n",
      "Missing models:\n",
      "election88_full\n",
      "electric_1c\n",
      "hiv\n",
      "electric_one_pred\n",
      "hiv_inter\n",
      "potus\n",
      "electric_1b\n",
      "electric_multi_preds\n",
      "electric_1a\n",
      "electric\n",
      "\n",
      "\n",
      "SADVI\n",
      "Missing models:\n",
      "electric_1c\n",
      "hiv\n",
      "electric_one_pred\n",
      "hiv_inter\n",
      "test\n",
      "electric_1b\n",
      "electric_multi_preds\n",
      "electric_1a\n",
      "electric\n",
      "\n",
      "\n",
      "SADVI_FR\n",
      "Missing models:\n",
      "electric_1c\n",
      "hiv\n",
      "electric_one_pred\n",
      "hiv_inter\n",
      "potus\n",
      "electric_1b\n",
      "electric_multi_preds\n",
      "electric_1a\n",
      "electric\n",
      "\n",
      "\n",
      "LRVB_Doubling\n",
      "Missing models:\n",
      "potus\n",
      "\n",
      "\n"
     ]
    }
   ],
   "source": [
    "method_models = {x: all_results[x]['model_name'].tolist() for x in VALID_METHODS}\n",
    "all_models = set().union(*[ v for k, v in method_models.items() ])\n",
    "\n",
    "for method in VALID_METHODS:\n",
    "    print(method)\n",
    "    missing_models = all_models.difference(method_models[method])\n",
    "    if len(missing_models) > 0:\n",
    "        print('Missing models:')\n",
    "        print('\\n'.join(missing_models))\n",
    "        print('\\n')"
   ]
  },
  {
   "cell_type": "code",
   "execution_count": 47,
   "metadata": {},
   "outputs": [
    {
     "data": {
      "text/plain": [
       "False"
      ]
     },
     "execution_count": 47,
     "metadata": {},
     "output_type": "execute_result"
    }
   ],
   "source": [
    "# Indeed\n",
    "any(all_results['NUTS']['model_name'] == 'election88_full')"
   ]
  },
  {
   "cell_type": "code",
   "execution_count": 26,
   "metadata": {},
   "outputs": [],
   "source": []
  },
  {
   "cell_type": "code",
   "execution_count": null,
   "metadata": {},
   "outputs": [],
   "source": [
    "method_1 = 'LRVB_Doubling'\n",
    "all_results[method_1][\"means\"][0], \\\n",
    "    all_results[method_1][\"sds\"][0]"
   ]
  },
  {
   "cell_type": "code",
   "execution_count": null,
   "metadata": {},
   "outputs": [],
   "source": [
    "all_results['NUTS'][all_results['NUTS'].model_name == 'wells_daae_c']"
   ]
  },
  {
   "cell_type": "code",
   "execution_count": null,
   "metadata": {},
   "outputs": [],
   "source": [
    "# This is missing\n",
    "all_results['NUTS'][all_results['NUTS'].model_name == 'electric_multi_preds']"
   ]
  },
  {
   "cell_type": "code",
   "execution_count": null,
   "metadata": {},
   "outputs": [],
   "source": [
    "raabbvi_maxiter = 19900\n",
    "\n",
    "method_1 = 'LRVB_Doubling'\n",
    "method_2 = 'RAABBVI'\n",
    "\n",
    "#method_1_df = add_deviation_stats(all_results[method_1], all_results['NUTS']).dropna()\n",
    "method_1_df = add_deviation_stats(all_results[method_1], all_results['NUTS'])\n",
    "\n",
    "print(method_1_df)"
   ]
  },
  {
   "cell_type": "code",
   "execution_count": null,
   "metadata": {},
   "outputs": [],
   "source": [
    "method_1_df['means'][0]"
   ]
  },
  {
   "cell_type": "code",
   "execution_count": null,
   "metadata": {},
   "outputs": [],
   "source": [
    "method_1_df = add_derived_stats(method_1_df)\n",
    "\n",
    "method_2_df = add_deviation_stats(all_results[method_2], all_results['NUTS']).dropna()\n",
    "method_2_df = add_derived_stats(method_2_df)\n"
   ]
  },
  {
   "cell_type": "code",
   "execution_count": null,
   "metadata": {},
   "outputs": [],
   "source": [
    "print(all_results['SADVI']['converged'].mean())\n",
    "print(all_results['RAABBVI']['converged'].mean())"
   ]
  },
  {
   "cell_type": "code",
   "execution_count": null,
   "metadata": {},
   "outputs": [],
   "source": [
    "all_results['SADVI']"
   ]
  },
  {
   "cell_type": "code",
   "execution_count": null,
   "metadata": {},
   "outputs": [],
   "source": [
    "comparison = method_1_df.merge(method_2_df, on='model_name', \n",
    "                                         suffixes=(f'_{method_1}', f'_{method_2}'))\n",
    "\n",
    "comparison"
   ]
  },
  {
   "cell_type": "code",
   "execution_count": null,
   "metadata": {},
   "outputs": [],
   "source": [
    "#raabvi_with_deviations.iloc[0]['metadata'].keys()"
   ]
  },
  {
   "cell_type": "code",
   "execution_count": null,
   "metadata": {},
   "outputs": [],
   "source": [
    "import matplotlib.pyplot as plt\n",
    "\n",
    "f, ax = plt.subplots(1, 1)\n",
    "\n",
    "xmin, xmax = [comparison[f'mean_rms_{method_1}'].min(), comparison[f'mean_rms_{method_1}'].max()]\n",
    "# ax.scatter(comparison['mean_rms_raabbvi'], comparison['mean_rms_lrvb'], c=comparison['converged'])\n",
    "ax.scatter(comparison[f'mean_rms_{method_1}'], comparison[f'mean_rms_{method_2}'])\n",
    "ax.plot([xmin, xmax], [xmin, xmax])\n",
    "\n",
    "for row in comparison.itertuples():\n",
    "    ax.annotate(row.model_name, (getattr(row, f'mean_rms_{method_1}'), getattr(row, f'mean_rms_{method_2}')))\n",
    "\n",
    "ax.set_xscale('log')\n",
    "ax.set_yscale('log')\n",
    "\n",
    "ax.set_xlabel(f'RMSE mean scaled by posterior sd, {method_1}')\n",
    "ax.set_ylabel(f'RMSE mean scaled by posterior sd, {method_2}')\n",
    "\n",
    "ax.grid(alpha=0.5, linestyle='--')\n",
    "\n",
    "f.set_size_inches(12, 8)\n",
    "f.tight_layout()\n",
    "\n",
    "# plt.savefig('./mean_comparison.png', dpi=300)\n"
   ]
  },
  {
   "cell_type": "code",
   "execution_count": null,
   "metadata": {},
   "outputs": [],
   "source": [
    "f, ax = plt.subplots(1, 1)\n",
    "\n",
    "xmin, xmax = [comparison[f'sd_rms_{method_1}'].min(), comparison[f'sd_rms_{method_1}'].max()]\n",
    "# ax.scatter(comparison['mean_rms_raabbvi'], comparison['mean_rms_lrvb'], c=comparison['converged'])\n",
    "ax.scatter(comparison[f'sd_rms_{method_1}'], comparison[f'sd_rms_{method_2}'])\n",
    "ax.plot([xmin, xmax], [xmin, xmax])\n",
    "\n",
    "for row in comparison.itertuples():\n",
    "    ax.annotate(row.model_name, (getattr(row, f'sd_rms_{method_1}'), getattr(row, f'sd_rms_{method_2}')))\n",
    "\n",
    "ax.set_xscale('log')\n",
    "ax.set_yscale('log')\n",
    "\n",
    "ax.set_xlabel(f'RMSE sd scaled by posterior sd, {method_1}')\n",
    "ax.set_ylabel(f'RMSE sd scaled by posterior sd, {method_2}')\n",
    "\n",
    "ax.grid(alpha=0.5, linestyle='--')\n",
    "\n",
    "f.set_size_inches(12, 8)\n",
    "f.tight_layout()\n",
    "\n",
    "# plt.savefig('./sd_comparison.png', dpi=300)"
   ]
  },
  {
   "cell_type": "code",
   "execution_count": null,
   "metadata": {},
   "outputs": [],
   "source": [
    "\n",
    "f, ax = plt.subplots(1, 1)\n",
    "\n",
    "xmin, xmax = [comparison[f'runtime_{method_1}'].min(), comparison[f'runtime_{method_1}'].max()]\n",
    "# ax.scatter(comparison['mean_rms_raabbvi'], comparison['mean_rms_lrvb'], c=comparison['converged'])\n",
    "ax.scatter(comparison[f'runtime_{method_1}'], comparison[f'runtime_{method_2}'])\n",
    "ax.plot([xmin, xmax], [xmin, xmax])\n",
    "\n",
    "for row in comparison.itertuples():\n",
    "    ax.annotate(row.model_name, (getattr(row, f'runtime_{method_1}'), getattr(row, f'runtime_{method_2}')))\n",
    "\n",
    "ax.set_xscale('log')\n",
    "ax.set_yscale('log')\n",
    "\n",
    "ax.set_xlabel(f'Runtime, {method_1}')\n",
    "ax.set_ylabel(f'Runtime, {method_2}')\n",
    "\n",
    "ax.grid(alpha=0.5, linestyle='--')\n",
    "\n",
    "f.set_size_inches(12, 8)\n",
    "f.tight_layout()\n",
    "\n",
    "# plt.savefig('runtime_comparison.png', dpi=300)"
   ]
  },
  {
   "cell_type": "code",
   "execution_count": null,
   "metadata": {},
   "outputs": [],
   "source": [
    "comparison.head()"
   ]
  },
  {
   "cell_type": "code",
   "execution_count": null,
   "metadata": {},
   "outputs": [],
   "source": [
    "all_results['LRVB_Doubling']['M'] = all_results['LRVB_Doubling']['metadata'].apply(lambda x: x['M'])"
   ]
  },
  {
   "cell_type": "code",
   "execution_count": null,
   "metadata": {},
   "outputs": [],
   "source": [
    "all_results['LRVB_Doubling'][['model_name', 'runtime', 'M']].sort_values('M', ascending=False).head(20)"
   ]
  },
  {
   "cell_type": "code",
   "execution_count": null,
   "metadata": {},
   "outputs": [],
   "source": [
    "all_results['LRVB'][['model_name', 'runtime']].sort_values('runtime')"
   ]
  },
  {
   "cell_type": "code",
   "execution_count": null,
   "metadata": {},
   "outputs": [],
   "source": []
  },
  {
   "cell_type": "code",
   "execution_count": null,
   "metadata": {},
   "outputs": [],
   "source": []
  }
 ],
 "metadata": {
  "kernelspec": {
   "display_name": "dadvi-experiments",
   "language": "python",
   "name": "dadvi-experiments"
  },
  "language_info": {
   "codemirror_mode": {
    "name": "ipython",
    "version": 3
   },
   "file_extension": ".py",
   "mimetype": "text/x-python",
   "name": "python",
   "nbconvert_exporter": "python",
   "pygments_lexer": "ipython3",
   "version": "3.8.10"
  },
  "vscode": {
   "interpreter": {
    "hash": "d6b81382af3beaebbac93aac606334308960b1a7270e498d25ccdd66c34d7f6d"
   }
  }
 },
 "nbformat": 4,
 "nbformat_minor": 2
}
