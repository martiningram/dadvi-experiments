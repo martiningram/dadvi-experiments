{
 "cells": [
  {
   "cell_type": "markdown",
   "metadata": {},
   "source": [
    "Load results from the `blade_runs` directory and save in a tidy format for R"
   ]
  },
  {
   "cell_type": "code",
   "execution_count": 5,
   "metadata": {},
   "outputs": [],
   "source": [
    "from os.path import join\n",
    "import pandas as pd\n",
    "import numpy as np"
   ]
  },
  {
   "cell_type": "code",
   "execution_count": 6,
   "metadata": {},
   "outputs": [],
   "source": [
    "from load_and_tidy_posteriors_lib import \\\n",
    "    VALID_METHODS, GetMetadataDataframe, GetMethodDataframe, \\\n",
    "    GetTraceDataframe, GetUnconstraintedParamsDataframe\n",
    "\n",
    "# Set to false for a dry run; doing so will not overwrite the csv\n",
    "save_output = True"
   ]
  },
  {
   "cell_type": "code",
   "execution_count": 44,
   "metadata": {},
   "outputs": [],
   "source": [
    "base_folder = '/home/rgiordan/Documents/git_repos/DADVI/dadvi-experiments'\n",
    "input_folder = join(base_folder, 'comparison/blade_runs/')\n",
    "output_folder = input_folder\n",
    "\n",
    "folder_method_list = (\n",
    "    (join(input_folder, \"nuts_results/\"), 'NUTS'),\n",
    "    (join(input_folder, \"dadvi_results/\"), 'DADVI'),\n",
    "    (join(input_folder, \"raabbvi_results/\"), 'RAABBVI'),\n",
    "    (join(input_folder, \"sadvi_results/\"), 'SADVI'),\n",
    "    (join(input_folder, \"sfullrank_advi_results/\"), 'SADVI_FR'),\n",
    "    (join(input_folder, \"lrvb_Direct_results/\"), 'LRVB') #,\n",
    "    #(join(input_folder, 'lrvb_doubling_results'), 'LRVB_Doubling')  # Missing\n",
    ")\n"
   ]
  },
  {
   "cell_type": "code",
   "execution_count": 45,
   "metadata": {
    "scrolled": false
   },
   "outputs": [
    {
     "name": "stdout",
     "output_type": "stream",
     "text": [
      "Loading NUTS\n",
      "Loading DADVI\n",
      "Loading RAABBVI\n",
      "Loading SADVI\n",
      "Loading SADVI_FR\n",
      "Loading LRVB\n"
     ]
    }
   ],
   "source": [
    "posterior_dfs = []\n",
    "metadata_dfs = []\n",
    "trace_dfs = []\n",
    "for folder, method in folder_method_list:\n",
    "    print(f'Loading {method}')\n",
    "    posterior_dfs.append(GetMethodDataframe(folder, method))\n",
    "    metadata_dfs.append(GetMetadataDataframe(folder, method))\n",
    "    trace_dfs.append(GetTraceDataframe(folder, method))\n",
    "    \n",
    "posterior_df = pd.concat(posterior_dfs)\n",
    "metadata_df = pd.concat(metadata_dfs)\n",
    "trace_df = pd.concat(trace_dfs)\n"
   ]
  },
  {
   "cell_type": "code",
   "execution_count": 46,
   "metadata": {},
   "outputs": [],
   "source": [
    "if save_output:\n",
    "    posterior_df.to_csv(join(output_folder, 'posteriors_tidy.csv'), index=False)\n",
    "    metadata_df.to_csv(join(output_folder, 'metadata_tidy.csv'), index=False)\n",
    "    trace_df.to_csv(join(output_folder, 'trace_tidy.csv'), index=False)"
   ]
  },
  {
   "cell_type": "markdown",
   "metadata": {},
   "source": [
    "# Save the names of unconstrained parameters"
   ]
  },
  {
   "cell_type": "code",
   "execution_count": 10,
   "metadata": {},
   "outputs": [],
   "source": [
    "if save_output:\n",
    "    folder, method = folder_method_list[1]\n",
    "    assert method == 'DADVI'\n",
    "    param_df = GetUnconstraintedParamsDataframe(folder, method)\n",
    "    param_df.to_csv(join(output_folder, 'params_tidy.csv'), index=False)"
   ]
  },
  {
   "cell_type": "markdown",
   "metadata": {},
   "source": [
    "# Save the full MCMC diagnostic information"
   ]
  },
  {
   "cell_type": "code",
   "execution_count": 14,
   "metadata": {},
   "outputs": [],
   "source": [
    "# TODO: this should be in the library\n",
    "\n",
    "from load_and_tidy_posteriors_lib import \\\n",
    "    GetDrawFilenames\n",
    "\n",
    "folder, method = folder_method_list[0]\n",
    "assert method == 'NUTS'\n",
    "\n",
    "draw_filenames, model_names = GetDrawFilenames(folder)\n",
    "raw_metadata = GetMetadataDataframe(folder, method, return_raw_metadata=True)\n",
    "\n",
    "from load_and_tidy_posteriors_lib import RepList\n",
    "\n",
    "mcmc_dict = {\n",
    "    'model': [],\n",
    "    'param': [],\n",
    "    'ess': [],\n",
    "    'rhat': []\n",
    "}\n",
    "\n",
    "for model_ind in range(len(raw_metadata)):\n",
    "    model = model_names[model_ind]\n",
    "    metadata = raw_metadata[model_ind]\n",
    "\n",
    "    for varname in metadata['ess'].data_vars:\n",
    "        ess = metadata['ess'][varname].values.flatten()\n",
    "        rhat = metadata['rhat'][varname].values.flatten()\n",
    "        assert(len(ess) == len(rhat))\n",
    "        mcmc_dict['model'].append(RepList(model, len(ess)))\n",
    "        mcmc_dict['param'].append(RepList(varname, len(ess)))\n",
    "        mcmc_dict['ess'].append(ess)\n",
    "        mcmc_dict['rhat'].append(rhat)\n",
    "\n",
    "mcmc_df = pd.DataFrame()\n",
    "for k,v in mcmc_dict.items():\n",
    "    mcmc_df[k] = np.hstack(v)\n",
    "\n",
    "if save_output:\n",
    "    mcmc_df.to_csv(join(output_folder, 'mcmc_diagnostics_tidy.csv'), index=False)"
   ]
  },
  {
   "cell_type": "markdown",
   "metadata": {},
   "source": [
    "# Explore the contents of the metadata.  \n",
    "\n",
    "Maybe we want to save additional information."
   ]
  },
  {
   "cell_type": "code",
   "execution_count": 16,
   "metadata": {},
   "outputs": [
    {
     "name": "stdout",
     "output_type": "stream",
     "text": [
      "Loading NUTS\n",
      "Loading DADVI\n",
      "Loading RAABBVI\n",
      "Loading SADVI\n",
      "Loading SADVI_FR\n",
      "Loading LRVB\n"
     ]
    }
   ],
   "source": [
    "raw_metadata = {}\n",
    "for folder, method in folder_method_list:\n",
    "    print(f'Loading {method}')\n",
    "    raw_metadata[method] = GetMetadataDataframe(folder, method, return_raw_metadata=True) \n"
   ]
  },
  {
   "cell_type": "code",
   "execution_count": null,
   "metadata": {},
   "outputs": [],
   "source": [
    "metadata = raw_metadata['RAABBVI'][0]\n",
    "print(metadata.keys())\n",
    "print(metadata['runtime'])"
   ]
  },
  {
   "cell_type": "code",
   "execution_count": 43,
   "metadata": {},
   "outputs": [
    {
     "name": "stdout",
     "output_type": "stream",
     "text": [
      "{'n_hvp_calls': 2014, 'n_val_and_grad_calls': 253}\n",
      "{'n_hvp_calls': 2014, 'n_val_and_grad_calls': 253}\n",
      "252\n",
      "\n",
      "\n",
      "\n",
      "4.64241886138916\n",
      "4.399618625640869\n",
      "9\n",
      "9\n",
      "\n",
      "\n",
      "\n",
      "dict_keys(['opt_result', 'fixed_draws', 'M', 'kl_hist', 'opt_sequence', 'runtime', 'lrvb_cov', 'newton_step_norm', 'newton_step', 'unconstrained_param_names', 'lrvb_hvp_calls', 'datetime', 'hostname'])\n",
      "dict_keys(['opt_result', 'fixed_draws', 'M', 'kl_hist', 'opt_sequence', 'runtime', 'newton_step_norm', 'newton_step', 'unconstrained_param_names', 'datetime', 'hostname'])\n"
     ]
    }
   ],
   "source": [
    "ind = 2\n",
    "metadata = raw_metadata['LRVB'][ind]\n",
    "print(raw_metadata['DADVI'][ind]['opt_result']['evaluation_count'])\n",
    "print(raw_metadata['LRVB'][ind]['opt_result']['evaluation_count'])\n",
    "print(raw_metadata['LRVB'][ind]['lrvb_hvp_calls'])\n",
    "\n",
    "print('\\n\\n')\n",
    "print(raw_metadata['DADVI'][ind]['runtime'])\n",
    "print(raw_metadata['LRVB'][ind]['runtime'])\n",
    "\n",
    "print(len(raw_metadata['DADVI'][ind]['unconstrained_param_names']))\n",
    "print(len(raw_metadata['LRVB'][ind]['unconstrained_param_names']))\n",
    "#print(raw_metadata['LRVB'][ind]['runtime'])\n",
    "\n",
    "print('\\n\\n')\n",
    "print(raw_metadata['LRVB'][ind].keys())\n",
    "print(raw_metadata['DADVI'][ind].keys())"
   ]
  },
  {
   "cell_type": "code",
   "execution_count": null,
   "metadata": {
    "scrolled": false
   },
   "outputs": [],
   "source": [
    "# for k,v in raw_metadata.items():\n",
    "#     print('=======================================\\n', k, ':')\n",
    "#     print(v[0])\n",
    "#     print('\\n')\n",
    "\n",
    "for k in ['LRVB']:\n",
    "    print(raw_metadata[k][0])"
   ]
  },
  {
   "cell_type": "code",
   "execution_count": null,
   "metadata": {},
   "outputs": [],
   "source": []
  }
 ],
 "metadata": {
  "kernelspec": {
   "display_name": "dadvi-experiments",
   "language": "python",
   "name": "dadvi-experiments"
  },
  "language_info": {
   "codemirror_mode": {
    "name": "ipython",
    "version": 3
   },
   "file_extension": ".py",
   "mimetype": "text/x-python",
   "name": "python",
   "nbconvert_exporter": "python",
   "pygments_lexer": "ipython3",
   "version": "3.8.10"
  },
  "vscode": {
   "interpreter": {
    "hash": "d6b81382af3beaebbac93aac606334308960b1a7270e498d25ccdd66c34d7f6d"
   }
  }
 },
 "nbformat": 4,
 "nbformat_minor": 2
}
