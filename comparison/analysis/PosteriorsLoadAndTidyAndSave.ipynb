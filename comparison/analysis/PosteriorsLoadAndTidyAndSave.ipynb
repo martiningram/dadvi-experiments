{
 "cells": [
  {
   "cell_type": "markdown",
   "metadata": {},
   "source": [
    "Load results from the `blade_runs` directory and save in a tidy format for R"
   ]
  },
  {
   "cell_type": "code",
   "execution_count": 1,
   "metadata": {},
   "outputs": [],
   "source": [
    "from os.path import join\n",
    "import pandas as pd\n",
    "import numpy as np"
   ]
  },
  {
   "cell_type": "code",
   "execution_count": 10,
   "metadata": {},
   "outputs": [],
   "source": [
    "from load_and_tidy_posteriors_lib import \\\n",
    "    VALID_METHODS, GetMetadataDataframe, GetMethodDataframe, \\\n",
    "    GetTraceDataframe, GetUnconstraintedParamsDataframe, \\\n",
    "    GetMCMCDiagnosticsDataframe\n",
    "\n",
    "# Set to false for a dry run; doing so will not overwrite the csv\n",
    "save_output = True"
   ]
  },
  {
   "cell_type": "code",
   "execution_count": 3,
   "metadata": {},
   "outputs": [],
   "source": [
    "base_folder = '/home/rgiordan/Documents/git_repos/DADVI/dadvi-experiments'\n",
    "input_folder = join(base_folder, 'comparison/blade_runs/')\n",
    "output_folder = input_folder\n",
    "\n",
    "folder_method_list = (\n",
    "    (join(input_folder, \"nuts_results/\"), 'NUTS'),\n",
    "    (join(input_folder, \"dadvi_results/\"), 'DADVI'),\n",
    "    (join(input_folder, \"raabbvi_results/\"), 'RAABBVI'),\n",
    "    (join(input_folder, \"sadvi_results/\"), 'SADVI'),\n",
    "    (join(input_folder, \"sfullrank_advi_results/\"), 'SADVI_FR'),\n",
    "    (join(input_folder, \"lrvb_Direct_results/\"), 'LRVB'),\n",
    "    (join(input_folder, 'lrvb_doubling_results'), 'LRVB_Doubling')\n",
    ")\n"
   ]
  },
  {
   "cell_type": "code",
   "execution_count": 4,
   "metadata": {},
   "outputs": [
    {
     "name": "stdout",
     "output_type": "stream",
     "text": [
      "Loading NUTS\n",
      "Loading DADVI\n",
      "Loading RAABBVI\n",
      "Loading SADVI\n",
      "Loading SADVI_FR\n",
      "Loading LRVB\n",
      "Loading LRVB_Doubling\n"
     ]
    }
   ],
   "source": [
    "posterior_dfs = []\n",
    "for folder, method in folder_method_list:\n",
    "    print(f'Loading {method}')\n",
    "    posterior_dfs.append(GetMethodDataframe(folder, method))\n",
    "posterior_df = pd.concat(posterior_dfs)"
   ]
  },
  {
   "cell_type": "code",
   "execution_count": 5,
   "metadata": {
    "scrolled": false
   },
   "outputs": [
    {
     "name": "stdout",
     "output_type": "stream",
     "text": [
      "Loading NUTS\n",
      "Loading DADVI\n"
     ]
    },
    {
     "name": "stderr",
     "output_type": "stream",
     "text": [
      "WARNING:absl:No GPU/TPU found, falling back to CPU. (Set TF_CPP_MIN_LOG_LEVEL=0 and rerun for more info.)\n"
     ]
    },
    {
     "name": "stdout",
     "output_type": "stream",
     "text": [
      "Loading RAABBVI\n",
      "Loading SADVI\n",
      "Loading SADVI_FR\n",
      "Loading LRVB\n",
      "Loading LRVB_Doubling\n",
      "/home/rgiordan/Documents/git_repos/DADVI/dadvi-experiments/comparison/blade_runs/lrvb_doubling_results/lrvb_info/tennis.pkl not found.\n"
     ]
    }
   ],
   "source": [
    "metadata_dfs = []\n",
    "for folder, method in folder_method_list:\n",
    "    print(f'Loading {method}')\n",
    "    metadata_dfs.append(GetMetadataDataframe(folder, method))\n",
    "    \n",
    "metadata_df = pd.concat(metadata_dfs)\n"
   ]
  },
  {
   "cell_type": "code",
   "execution_count": 6,
   "metadata": {},
   "outputs": [
    {
     "name": "stdout",
     "output_type": "stream",
     "text": [
      "Loading NUTS\n",
      "Loading DADVI\n",
      "Loading RAABBVI\n",
      "Loading SADVI\n",
      "Loading SADVI_FR\n",
      "Loading LRVB\n",
      "Loading LRVB_Doubling\n",
      "/home/rgiordan/Documents/git_repos/DADVI/dadvi-experiments/comparison/blade_runs/lrvb_doubling_results/lrvb_info/tennis.pkl not found.\n"
     ]
    }
   ],
   "source": [
    "trace_dfs = []\n",
    "for folder, method in folder_method_list:\n",
    "    print(f'Loading {method}')\n",
    "    trace_dfs.append(GetTraceDataframe(folder, method))\n",
    "    \n",
    "trace_df = pd.concat(trace_dfs)\n"
   ]
  },
  {
   "cell_type": "code",
   "execution_count": 7,
   "metadata": {},
   "outputs": [],
   "source": [
    "if save_output:\n",
    "    posterior_df.to_csv(join(output_folder, 'posteriors_tidy.csv'), index=False)\n",
    "    metadata_df.to_csv(join(output_folder, 'metadata_tidy.csv'), index=False)\n",
    "    trace_df.to_csv(join(output_folder, 'trace_tidy.csv'), index=False)"
   ]
  },
  {
   "cell_type": "markdown",
   "metadata": {},
   "source": [
    "# Save the names of unconstrained parameters"
   ]
  },
  {
   "cell_type": "code",
   "execution_count": 8,
   "metadata": {},
   "outputs": [],
   "source": [
    "if save_output:\n",
    "    folder, method = folder_method_list[1]\n",
    "    assert method == 'DADVI'\n",
    "    param_df = GetUnconstraintedParamsDataframe(folder, method)\n",
    "    param_df.to_csv(join(output_folder, 'params_tidy.csv'), index=False)"
   ]
  },
  {
   "cell_type": "markdown",
   "metadata": {},
   "source": [
    "# Save the full MCMC diagnostic information"
   ]
  },
  {
   "cell_type": "code",
   "execution_count": 12,
   "metadata": {},
   "outputs": [],
   "source": [
    "folder, method = folder_method_list[0]\n",
    "assert method == 'NUTS'\n",
    "mcmc_df = GetMCMCDiagnosticsDataframe(folder, method)\n",
    "if save_output:\n",
    "    mcmc_df.to_csv(join(output_folder, 'mcmc_diagnostics_tidy.csv'), index=False)"
   ]
  },
  {
   "cell_type": "markdown",
   "metadata": {},
   "source": [
    "# Explore the contents of the metadata.  \n",
    "\n",
    "Maybe we want to save additional information."
   ]
  },
  {
   "cell_type": "code",
   "execution_count": 14,
   "metadata": {},
   "outputs": [
    {
     "ename": "ValueError",
     "evalue": "",
     "output_type": "error",
     "traceback": [
      "\u001b[0;31m---------------------------------------------------------------------------\u001b[0m",
      "\u001b[0;31mValueError\u001b[0m                                Traceback (most recent call last)",
      "Cell \u001b[0;32mIn [14], line 1\u001b[0m\n\u001b[0;32m----> 1\u001b[0m \u001b[38;5;28;01mraise\u001b[39;00m(\u001b[38;5;167;01mValueError\u001b[39;00m)\n",
      "\u001b[0;31mValueError\u001b[0m: "
     ]
    }
   ],
   "source": [
    "# Stop execution manually\n",
    "raise(ValueError)"
   ]
  },
  {
   "cell_type": "code",
   "execution_count": 15,
   "metadata": {},
   "outputs": [
    {
     "name": "stdout",
     "output_type": "stream",
     "text": [
      "Loading NUTS\n",
      "Loading DADVI\n",
      "Loading RAABBVI\n",
      "Loading SADVI\n",
      "Loading SADVI_FR\n",
      "Loading LRVB\n",
      "Loading LRVB_Doubling\n",
      "/home/rgiordan/Documents/git_repos/DADVI/dadvi-experiments/comparison/blade_runs/lrvb_doubling_results/lrvb_info/tennis.pkl not found.\n"
     ]
    }
   ],
   "source": [
    "raw_metadata = {}\n",
    "model_names = {}\n",
    "for folder, method in folder_method_list:\n",
    "    print(f'Loading {method}')\n",
    "    raw_metadata[method], model_names[method] = \\\n",
    "        GetMetadataDataframe(folder, method, return_raw_metadata=True) \n"
   ]
  },
  {
   "cell_type": "code",
   "execution_count": 16,
   "metadata": {},
   "outputs": [],
   "source": [
    "all_model_names = set.union(*[set(model_names[k]) for k in model_names])"
   ]
  },
  {
   "cell_type": "code",
   "execution_count": 17,
   "metadata": {},
   "outputs": [
    {
     "name": "stdout",
     "output_type": "stream",
     "text": [
      "NUTS missing set()\n",
      "DADVI missing set()\n",
      "RAABBVI missing {'mesquite_vash', 'tennis', 'potus'}\n",
      "SADVI missing set()\n",
      "SADVI_FR missing {'occ_det', 'tennis', 'potus'}\n",
      "LRVB missing {'potus'}\n",
      "LRVB_Doubling missing {'tennis', 'potus'}\n"
     ]
    }
   ],
   "source": [
    "for k in model_names:\n",
    "    missing_models = set.difference(all_model_names, set(model_names[k]))\n",
    "    print(f'{k} missing {missing_models}')"
   ]
  },
  {
   "cell_type": "markdown",
   "metadata": {},
   "source": [
    "# This doesn't make sense, LRVB should always take longer than DADVI."
   ]
  },
  {
   "cell_type": "code",
   "execution_count": 18,
   "metadata": {},
   "outputs": [
    {
     "data": {
      "text/plain": [
       "(-0.7414968013763428, 1871.78377866745, 47.663744030576765)"
      ]
     },
     "execution_count": 18,
     "metadata": {},
     "output_type": "execute_result"
    }
   ],
   "source": [
    "dadvi_times = pd.DataFrame({\n",
    "    'model': model_names['DADVI'],\n",
    "    'runtime': np.array([ m['runtime'] for m in raw_metadata['DADVI'] ])})\n",
    "lrvb_times = pd.DataFrame({\n",
    "    'model': model_names['LRVB'],\n",
    "    'runtime': np.array([ m['runtime'] for m in raw_metadata['LRVB'] ])})\n",
    "comp_df = pd.merge(\n",
    "    dadvi_times, lrvb_times, on='model', how='inner', suffixes=['_DADVI', '_LRVB'])\n",
    "diffs = np.array(comp_df['runtime_LRVB'] - comp_df['runtime_DADVI'])\n",
    "\n",
    "np.min(diffs), np.max(diffs), np.mean(diffs)"
   ]
  },
  {
   "cell_type": "markdown",
   "metadata": {},
   "source": [
    "# Not all the unconstrained parameters have posterior samples.  AFAIK that means I don't know their dimension."
   ]
  },
  {
   "cell_type": "code",
   "execution_count": 58,
   "metadata": {},
   "outputs": [],
   "source": [
    "def GetModelParams(model):\n",
    "    keep_rows = np.logical_and(\n",
    "        posterior_df['method'] == 'DADVI', \n",
    "        posterior_df['model'] == model)\n",
    "    return posterior_df[keep_rows]['param'].to_numpy()\n",
    "\n",
    "def GetUnconstrainedModelParams(model):\n",
    "    ind = np.argwhere(\n",
    "        np.array(model_names['DADVI']) == model)[0][0]\n",
    "    return raw_metadata['DADVI'][ind]['unconstrained_param_names']"
   ]
  },
  {
   "cell_type": "code",
   "execution_count": 60,
   "metadata": {},
   "outputs": [
    {
     "data": {
      "text/plain": [
       "(['Intercept', 'treatment', 'pre_test', 'post_test_sigma_log__'],\n",
       " array(['Intercept', 'treatment', 'pre_test', 'post_test_sigma'],\n",
       "       dtype=object))"
      ]
     },
     "execution_count": 60,
     "metadata": {},
     "output_type": "execute_result"
    }
   ],
   "source": [
    "model = 'electric_multi_preds'\n",
    "GetUnconstrainedModelParams(model), GetModelParams(model)"
   ]
  }
 ],
 "metadata": {
  "kernelspec": {
   "display_name": "dadvi-experiments",
   "language": "python",
   "name": "dadvi-experiments"
  },
  "language_info": {
   "codemirror_mode": {
    "name": "ipython",
    "version": 3
   },
   "file_extension": ".py",
   "mimetype": "text/x-python",
   "name": "python",
   "nbconvert_exporter": "python",
   "pygments_lexer": "ipython3",
   "version": "3.8.10"
  },
  "vscode": {
   "interpreter": {
    "hash": "d6b81382af3beaebbac93aac606334308960b1a7270e498d25ccdd66c34d7f6d"
   }
  }
 },
 "nbformat": 4,
 "nbformat_minor": 2
}
