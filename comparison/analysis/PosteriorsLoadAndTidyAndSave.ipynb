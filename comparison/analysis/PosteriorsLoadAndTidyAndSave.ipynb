{
 "cells": [
  {
   "cell_type": "markdown",
   "metadata": {},
   "source": [
    "Load results from the `blade_runs` directory and save in a tidy format for R"
   ]
  },
  {
   "cell_type": "code",
   "execution_count": 1,
   "metadata": {},
   "outputs": [],
   "source": [
    "from os.path import join\n",
    "import pandas as pd\n",
    "import numpy as np"
   ]
  },
  {
   "cell_type": "code",
   "execution_count": 2,
   "metadata": {},
   "outputs": [],
   "source": [
    "from load_and_tidy_posteriors_lib import \\\n",
    "    VALID_METHODS, GetMetadataDataframe, GetMethodDataframe, GetTraceDataframe"
   ]
  },
  {
   "cell_type": "code",
   "execution_count": 3,
   "metadata": {},
   "outputs": [],
   "source": [
    "base_folder = '/home/rgiordan/Documents/git_repos/DADVI/dadvi-experiments'\n",
    "input_folder = join(base_folder, 'comparison/blade_runs/')\n",
    "output_folder = input_folder\n",
    "\n",
    "folder_method_list = (\n",
    "    (join(input_folder, \"nuts_results/\"), 'NUTS'),\n",
    "    (join(input_folder, \"dadvi_results/\"), 'DADVI'),\n",
    "    (join(input_folder, \"raabbvi_results/\"), 'RAABBVI'),\n",
    "    (join(input_folder, \"sadvi_results/\"), 'SADVI'),\n",
    "    (join(input_folder, \"sfullrank_advi_results/\"), 'SADVI_FR'),\n",
    "    #(join(input_folder, \"lrvb_results/\"), 'LRVB'), # Missing\n",
    "    #(join(input_folder, 'lrvb_doubling_results'), 'LRVB_Doubling')  # Missing\n",
    ")\n"
   ]
  },
  {
   "cell_type": "code",
   "execution_count": 4,
   "metadata": {
    "scrolled": false
   },
   "outputs": [
    {
     "name": "stdout",
     "output_type": "stream",
     "text": [
      "Loading NUTS\n",
      "Loading DADVI\n"
     ]
    },
    {
     "name": "stderr",
     "output_type": "stream",
     "text": [
      "WARNING:absl:No GPU/TPU found, falling back to CPU. (Set TF_CPP_MIN_LOG_LEVEL=0 and rerun for more info.)\n"
     ]
    },
    {
     "name": "stdout",
     "output_type": "stream",
     "text": [
      "Loading RAABBVI\n",
      "Loading SADVI\n",
      "Loading SADVI_FR\n"
     ]
    }
   ],
   "source": [
    "posterior_dfs = []\n",
    "metadata_dfs = []\n",
    "trace_dfs = []\n",
    "for folder, method in folder_method_list:\n",
    "    print(f'Loading {method}')\n",
    "    posterior_dfs.append(GetMethodDataframe(folder, method))\n",
    "    metadata_dfs.append(GetMetadataDataframe(folder, method))\n",
    "    trace_dfs.append(GetTraceDataframe(folder, method))\n",
    "    \n",
    "posterior_df = pd.concat(posterior_dfs)\n",
    "metadata_df = pd.concat(metadata_dfs)\n",
    "trace_df = pd.concat(trace_dfs)\n"
   ]
  },
  {
   "cell_type": "code",
   "execution_count": 5,
   "metadata": {},
   "outputs": [],
   "source": [
    "posterior_df.to_csv(join(output_folder, 'posteriors_tidy.csv'), index=False)\n",
    "metadata_df.to_csv(join(output_folder, 'metadata_tidy.csv'), index=False)\n",
    "trace_df.to_csv(join(output_folder, 'trace_tidy.csv'), index=False)"
   ]
  },
  {
   "cell_type": "markdown",
   "metadata": {},
   "source": [
    "# Save the names of unconstrained parameters"
   ]
  },
  {
   "cell_type": "code",
   "execution_count": 6,
   "metadata": {},
   "outputs": [
    {
     "ename": "NameError",
     "evalue": "name 'GetUnconstraintedParamsDataframe' is not defined",
     "output_type": "error",
     "traceback": [
      "\u001b[0;31m---------------------------------------------------------------------------\u001b[0m",
      "\u001b[0;31mNameError\u001b[0m                                 Traceback (most recent call last)",
      "Cell \u001b[0;32mIn [6], line 3\u001b[0m\n\u001b[1;32m      1\u001b[0m folder, method \u001b[38;5;241m=\u001b[39m folder_method_list[\u001b[38;5;241m1\u001b[39m]\n\u001b[1;32m      2\u001b[0m \u001b[38;5;28;01massert\u001b[39;00m method \u001b[38;5;241m==\u001b[39m \u001b[38;5;124m'\u001b[39m\u001b[38;5;124mDADVI\u001b[39m\u001b[38;5;124m'\u001b[39m\n\u001b[0;32m----> 3\u001b[0m param_df \u001b[38;5;241m=\u001b[39m GetUnconstraintedParamsDataframe(folder, method)\n\u001b[1;32m      4\u001b[0m param_df\u001b[38;5;241m.\u001b[39mto_csv(join(output_folder, \u001b[38;5;124m'\u001b[39m\u001b[38;5;124mparams_tidy.csv\u001b[39m\u001b[38;5;124m'\u001b[39m), index\u001b[38;5;241m=\u001b[39m\u001b[38;5;28;01mFalse\u001b[39;00m)\n",
      "\u001b[0;31mNameError\u001b[0m: name 'GetUnconstraintedParamsDataframe' is not defined"
     ]
    }
   ],
   "source": [
    "folder, method = folder_method_list[1]\n",
    "assert method == 'DADVI'\n",
    "param_df = GetUnconstraintedParamsDataframe(folder, method)\n",
    "param_df.to_csv(join(output_folder, 'params_tidy.csv'), index=False)"
   ]
  },
  {
   "cell_type": "markdown",
   "metadata": {},
   "source": [
    "# Save the full MCMC diagnostic information"
   ]
  },
  {
   "cell_type": "code",
   "execution_count": null,
   "metadata": {},
   "outputs": [],
   "source": [
    "folder, method = folder_method_list[0]\n",
    "assert method == 'NUTS'\n",
    "\n",
    "\n",
    "draw_filenames, model_names = GetDrawFilenames(folder)\n",
    "raw_metadata = GetMetadataDataframe(folder, method, return_raw_metadata=True)\n",
    "\n",
    "from load_and_tidy_posteriors_lib import RepList\n",
    "\n",
    "mcmc_dict = {\n",
    "    'model': [],\n",
    "    'param': [],\n",
    "    'ess': [],\n",
    "    'rhat': []\n",
    "}\n",
    "\n",
    "for model_ind in range(len(raw_metadata)):\n",
    "    model = model_names[model_ind]\n",
    "    metadata = raw_metadata[model_ind]\n",
    "\n",
    "    for varname in metadata['ess'].data_vars:\n",
    "        ess = metadata['ess'][varname].values.flatten()\n",
    "        rhat = metadata['rhat'][varname].values.flatten()\n",
    "        assert(len(ess) == len(rhat))\n",
    "        mcmc_dict['model'].append(RepList(model, len(ess)))\n",
    "        mcmc_dict['param'].append(RepList(varname, len(ess)))\n",
    "        mcmc_dict['ess'].append(ess)\n",
    "        mcmc_dict['rhat'].append(rhat)\n",
    "\n",
    "mcmc_df = pd.DataFrame()\n",
    "for k,v in mcmc_dict.items():\n",
    "    mcmc_df[k] = np.hstack(v)\n",
    "\n",
    "mcmc_df.to_csv(join(output_folder, 'mcmc_diagnostics_tidy.csv'), index=False)"
   ]
  },
  {
   "cell_type": "markdown",
   "metadata": {},
   "source": [
    "# Explore the contents of the metadata.  \n",
    "\n",
    "Maybe we want to save additional information."
   ]
  },
  {
   "cell_type": "code",
   "execution_count": null,
   "metadata": {},
   "outputs": [],
   "source": [
    "raw_metadata = {}\n",
    "for folder, method in folder_method_list:\n",
    "    print(f'Loading {method}')\n",
    "    raw_metadata[method] = GetMetadataDataframe(folder, method, return_raw_metadata=True) \n"
   ]
  },
  {
   "cell_type": "code",
   "execution_count": null,
   "metadata": {
    "scrolled": false
   },
   "outputs": [],
   "source": [
    "for k,v in raw_metadata.items():\n",
    "    print('=======================================\\n', k, ':')\n",
    "    print(v[0])\n",
    "    print('\\n')"
   ]
  }
 ],
 "metadata": {
  "kernelspec": {
   "display_name": "dadvi-experiments",
   "language": "python",
   "name": "dadvi-experiments"
  },
  "language_info": {
   "codemirror_mode": {
    "name": "ipython",
    "version": 3
   },
   "file_extension": ".py",
   "mimetype": "text/x-python",
   "name": "python",
   "nbconvert_exporter": "python",
   "pygments_lexer": "ipython3",
   "version": "3.8.10"
  },
  "vscode": {
   "interpreter": {
    "hash": "d6b81382af3beaebbac93aac606334308960b1a7270e498d25ccdd66c34d7f6d"
   }
  }
 },
 "nbformat": 4,
 "nbformat_minor": 2
}
