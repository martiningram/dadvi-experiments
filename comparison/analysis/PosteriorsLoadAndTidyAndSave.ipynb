{
 "cells": [
  {
   "cell_type": "markdown",
   "metadata": {},
   "source": [
    "Load results from the `blade_runs` directory and save in a tidy format for R"
   ]
  },
  {
   "cell_type": "code",
   "execution_count": 1,
   "metadata": {},
   "outputs": [],
   "source": [
    "from os.path import join\n",
    "import pandas as pd\n",
    "import numpy as np"
   ]
  },
  {
   "cell_type": "code",
   "execution_count": 2,
   "metadata": {},
   "outputs": [],
   "source": [
    "from load_and_tidy_posteriors_lib import \\\n",
    "    VALID_METHODS, GetMetadataDataframe, GetMethodDataframe, GetTraceDataframe"
   ]
  },
  {
   "cell_type": "code",
   "execution_count": 3,
   "metadata": {},
   "outputs": [],
   "source": [
    "base_folder = '/home/rgiordan/Documents/git_repos/DADVI/dadvi-experiments'\n",
    "input_folder = join(base_folder, 'comparison/blade_runs/')\n",
    "output_folder = input_folder\n",
    "\n",
    "folder_method_list = (\n",
    "    (join(input_folder, \"nuts_results/\"), 'NUTS'),\n",
    "    (join(input_folder, \"dadvi_results/\"), 'DADVI'),\n",
    "    (join(input_folder, \"raabbvi_results/\"), 'RAABBVI'),\n",
    "    (join(input_folder, \"sadvi_results/\"), 'SADVI'),\n",
    "    (join(input_folder, \"sfullrank_advi_results/\"), 'SADVI_FR'),\n",
    "    #(join(input_folder, \"lrvb_results/\"), 'LRVB'), # Missing\n",
    "    #(join(input_folder, 'lrvb_doubling_results'), 'LRVB_Doubling')  # Missing\n",
    ")\n"
   ]
  },
  {
   "cell_type": "code",
   "execution_count": 4,
   "metadata": {},
   "outputs": [
    {
     "name": "stdout",
     "output_type": "stream",
     "text": [
      "DADVI \n",
      "\n"
     ]
    },
    {
     "name": "stderr",
     "output_type": "stream",
     "text": [
      "WARNING:absl:No GPU/TPU found, falling back to CPU. (Set TF_CPP_MIN_LOG_LEVEL=0 and rerun for more info.)\n"
     ]
    }
   ],
   "source": [
    "# from load_and_tidy_posteriors_lib import \\\n",
    "#     GetDrawFilenames, LoadPickleSafely, RepList, CheckConvergence, GetEvaluationCount, GetNumDraws, \\\n",
    "#     GetXarrayDatasetScalar\n",
    "\n",
    "# folder, method = folder_method_list[1]\n",
    "# print(method, '\\n')\n",
    "\n",
    "# metadata_raw = GetMetadataDataframe(folder, method, return_raw_metadata=True)\n"
   ]
  },
  {
   "cell_type": "code",
   "execution_count": 5,
   "metadata": {},
   "outputs": [
    {
     "name": "stdout",
     "output_type": "stream",
     "text": [
      "dict_keys(['opt_result', 'fixed_draws', 'M', 'kl_hist', 'opt_sequence', 'runtime', 'newton_step_norm', 'newton_step', 'unconstrained_param_names', 'datetime', 'hostname'])\n"
     ]
    }
   ],
   "source": [
    "# metadata = metadata_raw[1]\n",
    "# print(metadata.keys())\n",
    "# # for metadata in metadata_raw:\n",
    "# #     print(metadata['newton_step_norm'])"
   ]
  },
  {
   "cell_type": "code",
   "execution_count": 6,
   "metadata": {
    "scrolled": false
   },
   "outputs": [
    {
     "name": "stdout",
     "output_type": "stream",
     "text": [
      "Loading NUTS\n",
      "Loading DADVI\n",
      "Loading RAABBVI\n",
      "Loading SADVI\n",
      "Loading SADVI_FR\n"
     ]
    }
   ],
   "source": [
    "posterior_dfs = []\n",
    "metadata_dfs = []\n",
    "trace_dfs = []\n",
    "for folder, method in folder_method_list:\n",
    "    print(f'Loading {method}')\n",
    "    posterior_dfs.append(GetMethodDataframe(folder, method))\n",
    "    metadata_dfs.append(GetMetadataDataframe(folder, method))\n",
    "    trace_dfs.append(GetTraceDataframe(folder, method))\n",
    "    \n",
    "posterior_df = pd.concat(posterior_dfs)\n",
    "metadata_df = pd.concat(metadata_dfs)\n",
    "trace_df = pd.concat(trace_dfs)\n"
   ]
  },
  {
   "cell_type": "code",
   "execution_count": 8,
   "metadata": {},
   "outputs": [],
   "source": [
    "posterior_df.to_csv(join(output_folder, 'posteriors_tidy.csv'), index=False)\n",
    "metadata_df.to_csv(join(output_folder, 'metadata_tidy.csv'), index=False)\n",
    "trace_df.to_csv(join(output_folder, 'trace_tidy.csv'), index=False)"
   ]
  },
  {
   "cell_type": "markdown",
   "metadata": {},
   "source": [
    "# Save the names of unconstrained parameters"
   ]
  },
  {
   "cell_type": "code",
   "execution_count": 19,
   "metadata": {},
   "outputs": [],
   "source": [
    "folder, method = folder_method_list[1]\n",
    "assert method == 'DADVI'\n",
    "param_df = GetUnconstraintedParamsDataframe(folder, method)\n",
    "param_df.to_csv(join(output_folder, 'params_tidy.csv'), index=False)"
   ]
  },
  {
   "cell_type": "markdown",
   "metadata": {},
   "source": [
    "# Save the full MCMC diagnostic information"
   ]
  },
  {
   "cell_type": "code",
   "execution_count": 29,
   "metadata": {},
   "outputs": [],
   "source": [
    "folder, method = folder_method_list[0]\n",
    "assert method == 'NUTS'\n",
    "\n",
    "\n",
    "draw_filenames, model_names = GetDrawFilenames(folder)\n",
    "raw_metadata = GetMetadataDataframe(folder, method, return_raw_metadata=True)\n",
    "\n",
    "from load_and_tidy_posteriors_lib import RepList\n",
    "\n",
    "mcmc_dict = {\n",
    "    'model': [],\n",
    "    'param': [],\n",
    "    'ess': [],\n",
    "    'rhat': []\n",
    "}\n",
    "\n",
    "for model_ind in range(len(raw_metadata)):\n",
    "    model = model_names[model_ind]\n",
    "    metadata = raw_metadata[model_ind]\n",
    "\n",
    "    for varname in metadata['ess'].data_vars:\n",
    "        ess = metadata['ess'][varname].values.flatten()\n",
    "        rhat = metadata['rhat'][varname].values.flatten()\n",
    "        assert(len(ess) == len(rhat))\n",
    "        mcmc_dict['model'].append(RepList(model, len(ess)))\n",
    "        mcmc_dict['param'].append(RepList(varname, len(ess)))\n",
    "        mcmc_dict['ess'].append(ess)\n",
    "        mcmc_dict['rhat'].append(rhat)\n",
    "\n",
    "mcmc_df = pd.DataFrame()\n",
    "for k,v in mcmc_dict.items():\n",
    "    mcmc_df[k] = np.hstack(v)\n",
    "\n",
    "mcmc_df.to_csv(join(output_folder, 'mcmc_diagnostics_tidy.csv'), index=False)"
   ]
  },
  {
   "cell_type": "markdown",
   "metadata": {},
   "source": [
    "# Explore the contents of the metadata.  \n",
    "\n",
    "Maybe we want to save additional information."
   ]
  },
  {
   "cell_type": "code",
   "execution_count": 9,
   "metadata": {},
   "outputs": [
    {
     "name": "stdout",
     "output_type": "stream",
     "text": [
      "Loading NUTS\n",
      "Loading DADVI\n",
      "Loading RAABBVI\n",
      "Loading SADVI\n",
      "Loading SADVI_FR\n"
     ]
    }
   ],
   "source": [
    "raw_metadata = {}\n",
    "for folder, method in folder_method_list:\n",
    "    print(f'Loading {method}')\n",
    "    raw_metadata[method] = GetMetadataDataframe(folder, method, return_raw_metadata=True) \n"
   ]
  },
  {
   "cell_type": "code",
   "execution_count": 10,
   "metadata": {
    "scrolled": false
   },
   "outputs": [
    {
     "name": "stdout",
     "output_type": "stream",
     "text": [
      "=======================================\n",
      " NUTS :\n",
      "{'runtime': 15.77726936340332, 'unconstrained_param_names': ['Intercept', 'treatment', 'pre_test', 'post_test_sigma_log__'], 'ess': <xarray.Dataset>\n",
      "Dimensions:          (treatment_dim_0: 1, pre_test_dim_0: 1)\n",
      "Coordinates:\n",
      "  * treatment_dim_0  (treatment_dim_0) int64 0\n",
      "  * pre_test_dim_0   (pre_test_dim_0) int64 0\n",
      "Data variables:\n",
      "    Intercept        float64 6.553e+03\n",
      "    treatment        (treatment_dim_0) float64 6.45e+03\n",
      "    pre_test         (pre_test_dim_0) float64 6.566e+03\n",
      "    post_test_sigma  float64 5.636e+03, 'rhat': <xarray.Dataset>\n",
      "Dimensions:          (treatment_dim_0: 1, pre_test_dim_0: 1)\n",
      "Coordinates:\n",
      "  * treatment_dim_0  (treatment_dim_0) int64 0\n",
      "  * pre_test_dim_0   (pre_test_dim_0) int64 0\n",
      "Data variables:\n",
      "    Intercept        float64 1.001\n",
      "    treatment        (treatment_dim_0) float64 1.0\n",
      "    pre_test         (pre_test_dim_0) float64 1.001\n",
      "    post_test_sigma  float64 1.001, 'n_chains': 4, 'n_draws': 1000, 'datetime': datetime.datetime(2023, 1, 6, 3, 26, 40, 162138), 'hostname': 'martin-Blade'}\n",
      "\n",
      "\n",
      "=======================================\n",
      " DADVI :\n",
      "{'opt_result': {'opt_result':      fun: 693.8896547908593\n",
      "     jac: array([-8.21633863e-07, -2.88874278e-06,  9.97489176e-08, -6.05746638e-06,\n",
      "        1.20624896e-05, -1.58890746e-05, -2.77626218e-05, -2.63565063e-05])\n",
      " message: 'Optimization terminated successfully.'\n",
      "    nfev: 71\n",
      "    nhev: 254\n",
      "     nit: 72\n",
      "    njev: 64\n",
      "  status: 0\n",
      " success: True\n",
      "       x: DeviceArray([97.48527   ,  2.0894773 ,  0.45845976,  4.6221404 ,\n",
      "             -0.45019984, -2.714926  , -4.087576  , -0.10485008],            dtype=float32), 'evaluation_count': {'n_hvp_calls': 253, 'n_val_and_grad_calls': 71}, 'newton_step': array([ 1.59896183e-06, -1.70708455e-07,  2.92060012e-08, -6.86569424e-06,\n",
      "        5.77147174e-06, -8.28721696e-06, -1.41009296e-05, -1.29054826e-05]), 'newton_step_norm': 5.68495810781178e-06}, 'fixed_draws': array([[-4.16757847e-01, -5.62668272e-02, -2.13619610e+00,\n",
      "         1.64027081e+00],\n",
      "       [-1.79343559e+00, -8.41747366e-01,  5.02881417e-01,\n",
      "        -1.24528809e+00],\n",
      "       [-1.05795222e+00, -9.09007615e-01,  5.51454045e-01,\n",
      "         2.29220801e+00],\n",
      "       [ 4.15393930e-02, -1.11792545e+00,  5.39058321e-01,\n",
      "        -5.96159700e-01],\n",
      "       [-1.91304965e-02,  1.17500122e+00, -7.47870949e-01,\n",
      "         9.02525097e-03],\n",
      "       [-8.78107893e-01, -1.56434170e-01,  2.56570452e-01,\n",
      "        -9.88779049e-01],\n",
      "       [-3.38821966e-01, -2.36184031e-01, -6.37655012e-01,\n",
      "        -1.18761229e+00],\n",
      "       [-1.42121723e+00, -1.53495196e-01, -2.69056960e-01,\n",
      "         2.23136679e+00],\n",
      "       [-2.43476758e+00,  1.12726505e-01,  3.70444537e-01,\n",
      "         1.35963386e+00],\n",
      "       [ 5.01857207e-01, -8.44213704e-01,  9.76147160e-06,\n",
      "         5.42352572e-01],\n",
      "       [-3.13508197e-01,  7.71011738e-01, -1.86809065e+00,\n",
      "         1.73118467e+00],\n",
      "       [ 1.46767801e+00, -3.35677339e-01,  6.11340780e-01,\n",
      "         4.79705919e-02],\n",
      "       [-8.29135289e-01,  8.77102184e-02,  1.00036589e+00,\n",
      "        -3.81092518e-01],\n",
      "       [-3.75669423e-01, -7.44707629e-02,  4.33496330e-01,\n",
      "         1.27837923e+00],\n",
      "       [-6.34679305e-01,  5.08396243e-01,  2.16116006e-01,\n",
      "        -1.85861239e+00],\n",
      "       [-4.19316482e-01, -1.32328898e-01, -3.95702397e-02,\n",
      "         3.26003433e-01],\n",
      "       [-2.04032305e+00,  4.62555231e-02, -6.77675577e-01,\n",
      "        -1.43943903e+00],\n",
      "       [ 5.24296430e-01,  7.35279576e-01, -6.53250268e-01,\n",
      "         8.42456282e-01],\n",
      "       [-3.81516482e-01,  6.64890091e-02, -1.09873895e+00,\n",
      "         1.58448706e+00],\n",
      "       [-2.65944946e+00, -9.14526229e-02,  6.95119605e-01,\n",
      "        -2.03346655e+00],\n",
      "       [-1.89469265e-01, -7.72186654e-02,  8.24703005e-01,\n",
      "         1.24821292e+00],\n",
      "       [-4.03892269e-01, -1.38451867e+00,  1.36723542e+00,\n",
      "         1.21788563e+00],\n",
      "       [-4.62005348e-01,  3.50888494e-01,  3.81866234e-01,\n",
      "         5.66275441e-01],\n",
      "       [ 2.04207979e-01,  1.40669624e+00, -1.73795950e+00,\n",
      "         1.04082395e+00],\n",
      "       [ 3.80471970e-01, -2.17135269e-01,  1.17353150e+00,\n",
      "        -2.34360319e+00],\n",
      "       [ 1.16152149e+00,  3.86078048e-01, -1.13313327e+00,\n",
      "         4.33092555e-01],\n",
      "       [-3.04086439e-01,  2.58529487e+00,  1.83533272e+00,\n",
      "         4.40689872e-01],\n",
      "       [-7.19253841e-01, -5.83414595e-01, -3.25049628e-01,\n",
      "        -5.60234506e-01],\n",
      "       [-9.02246068e-01, -5.90972275e-01, -2.76179492e-01,\n",
      "        -5.16883894e-01],\n",
      "       [-6.98589950e-01, -9.28891925e-01,  2.55043824e+00,\n",
      "        -1.47317325e+00]]), 'M': 30, 'kl_hist': [DeviceArray(349741.44, dtype=float32), DeviceArray(129005.51, dtype=float32), DeviceArray(47845.637, dtype=float32), DeviceArray(18043.598, dtype=float32), DeviceArray(7138.418, dtype=float32), DeviceArray(3185.7334, dtype=float32), DeviceArray(1789.7212, dtype=float32), DeviceArray(1330.1152, dtype=float32), DeviceArray(1204.4086, dtype=float32), DeviceArray(1182.7814, dtype=float32), DeviceArray(1181.3955, dtype=float32), DeviceArray(1180.4562, dtype=float32), DeviceArray(1178.4557, dtype=float32), DeviceArray(1177.5974, dtype=float32), DeviceArray(1173.0233, dtype=float32), DeviceArray(1172.2249, dtype=float32), DeviceArray(1162.7384, dtype=float32), DeviceArray(1145.8534, dtype=float32), DeviceArray(1145.6908, dtype=float32), DeviceArray(1144.3578, dtype=float32), DeviceArray(1144.3578, dtype=float32), DeviceArray(1136.7191, dtype=float32), DeviceArray(1136.6523, dtype=float32), DeviceArray(1136.6523, dtype=float32), DeviceArray(1131.8048, dtype=float32), DeviceArray(1131.7162, dtype=float32), DeviceArray(1121.91, dtype=float32), DeviceArray(1104.4067, dtype=float32), DeviceArray(1104.1971, dtype=float32), DeviceArray(1104.1971, dtype=float32), DeviceArray(1092.0399, dtype=float32), DeviceArray(1078.1805, dtype=float32), DeviceArray(1073.2345, dtype=float32), DeviceArray(1066.4668, dtype=float32), DeviceArray(1040.8506, dtype=float32), DeviceArray(1040.7467, dtype=float32), DeviceArray(1040.7467, dtype=float32), DeviceArray(1025.5552, dtype=float32), DeviceArray(1023.70917, dtype=float32), DeviceArray(1000.23285, dtype=float32), DeviceArray(990.97546, dtype=float32), DeviceArray(990.0042, dtype=float32), DeviceArray(890.9288, dtype=float32), DeviceArray(889.85956, dtype=float32), DeviceArray(889.85956, dtype=float32), DeviceArray(838.57367, dtype=float32), DeviceArray(838.57367, dtype=float32), DeviceArray(838.57367, dtype=float32), DeviceArray(838.57367, dtype=float32), DeviceArray(821.09503, dtype=float32), DeviceArray(817.74335, dtype=float32), DeviceArray(816.9973, dtype=float32), DeviceArray(812.4525, dtype=float32), DeviceArray(811.54376, dtype=float32), DeviceArray(801.8181, dtype=float32), DeviceArray(800.54553, dtype=float32), DeviceArray(779.0436, dtype=float32), DeviceArray(777.2704, dtype=float32), DeviceArray(731.70526, dtype=float32), DeviceArray(731.70526, dtype=float32), DeviceArray(712.1578, dtype=float32), DeviceArray(698.3872, dtype=float32), DeviceArray(696.4972, dtype=float32), DeviceArray(696.48303, dtype=float32), DeviceArray(694.8382, dtype=float32), DeviceArray(694.62195, dtype=float32), DeviceArray(694.2972, dtype=float32), DeviceArray(694.3932, dtype=float32), DeviceArray(694.3801, dtype=float32), DeviceArray(694.3537, dtype=float32), DeviceArray(694.3472, dtype=float32), DeviceArray(694.34814, dtype=float32)], 'opt_sequence': [{'val_and_grad_calls': 2, 'hvp_calls': 2, 'theta': array([ 4.96476487e-03,  4.98370743e-01,  2.68097378e-02,  7.20756459e-05,\n",
      "       -3.00012930e+00, -3.00188144e+00, -3.00004733e+00, -2.99999930e+00]), 'time': 1672971979.549059}, {'val_and_grad_calls': 3, 'hvp_calls': 4, 'theta': array([ 9.94534599e-03,  9.96818237e-01,  5.21323153e-02,  1.43694091e-04,\n",
      "       -3.00025854e+00, -3.00375857e+00, -3.00010068e+00, -2.99999815e+00]), 'time': 1672971979.549429}, {'val_and_grad_calls': 4, 'hvp_calls': 6, 'theta': array([ 1.49401190e-02,  1.49517677e+00,  7.60373459e-02,  2.14866067e-04,\n",
      "       -3.00038689e+00, -3.00563036e+00, -3.00015894e+00, -2.99999577e+00]), 'time': 1672971979.549771}, {'val_and_grad_calls': 5, 'hvp_calls': 8, 'theta': array([ 1.99476196e-02,  1.99302544e+00,  9.85931301e-02,  2.85603586e-04,\n",
      "       -3.00051220e+00, -3.00749423e+00, -3.00021966e+00, -2.99999003e+00]), 'time': 1672971979.5500877}, {'val_and_grad_calls': 6, 'hvp_calls': 10, 'theta': array([ 2.49665340e-02,  2.48924872e+00,  1.19866052e-01,  3.55919445e-04,\n",
      "       -3.00062867e+00, -3.00934345e+00, -3.00027679e+00, -2.99997519e+00]), 'time': 1672971979.5504909}, {'val_and_grad_calls': 7, 'hvp_calls': 12, 'theta': array([ 2.99956435e-02,  2.98085405e+00,  1.39919373e-01,  4.25825716e-04,\n",
      "       -3.00072083e+00, -3.01116004e+00, -3.00031459e+00, -2.99993579e+00]), 'time': 1672971979.5508158}, {'val_and_grad_calls': 8, 'hvp_calls': 14, 'theta': array([ 3.50335606e-02,  3.45988466e+00,  1.58810067e-01,  4.95328460e-04,\n",
      "       -3.00074782e+00, -3.01289670e+00, -3.00029202e+00, -2.99983100e+00]), 'time': 1672971979.551141}, {'val_and_grad_calls': 9, 'hvp_calls': 16, 'theta': array([ 4.00784493e-02,  3.90618661e+00,  1.76582913e-01,  5.64420332e-04,\n",
      "       -3.00060696e+00, -3.01443453e+00, -3.00010634e+00, -2.99955820e+00]), 'time': 1672971979.5514524}, {'val_and_grad_calls': 10, 'hvp_calls': 18, 'theta': array([ 4.51299448e-02,  4.27551758e+00,  1.93267871e-01,  6.33100956e-04,\n",
      "       -3.00007312e+00, -3.01551301e+00, -2.99953259e+00, -2.99889224e+00]), 'time': 1672971979.5517986}, {'val_and_grad_calls': 11, 'hvp_calls': 20, 'theta': array([ 5.01965009e-02,  4.50233721e+00,  2.08900315e-01,  7.01477468e-04,\n",
      "       -2.99880949e+00, -3.01574478e+00, -2.99823429e+00, -2.99749603e+00]), 'time': 1672971979.5521243}, {'val_and_grad_calls': 12, 'hvp_calls': 22, 'theta': array([ 5.54504094e-02,  4.57417270e+00,  2.24010676e-01,  7.71876476e-04,\n",
      "       -2.99667104e+00, -3.01502117e+00, -2.99606542e+00, -2.99521993e+00]), 'time': 1672971979.552443}, {'val_and_grad_calls': 13, 'hvp_calls': 25, 'theta': array([ 1.67773088e-01,  4.56650637e+00,  5.07499954e-01,  2.25980302e-03,\n",
      "       -2.94321508e+00, -2.99062696e+00, -2.94213821e+00, -2.93880796e+00]), 'time': 1672971979.5643926}, {'val_and_grad_calls': 14, 'hvp_calls': 29, 'theta': array([ 0.90326   ,  4.56353124,  0.24147366,  0.01110466, -2.59757112,\n",
      "       -2.84848546, -2.60413927, -2.57235918]), 'time': 1672971979.5650504}, {'val_and_grad_calls': 15, 'hvp_calls': 32, 'theta': array([ 1.01663748,  4.5599153 ,  0.50459401,  0.01260462, -2.54561054,\n",
      "       -2.83627097, -2.55410093, -2.51593667]), 'time': 1672971979.5655322}, {'val_and_grad_calls': 16, 'hvp_calls': 36, 'theta': array([ 2.57296826,  4.54810887,  0.24976596,  0.03156264, -1.84294119,\n",
      "       -2.69970947, -1.91489183, -1.74690035]), 'time': 1672971979.5661514}, {'val_and_grad_calls': 17, 'hvp_calls': 39, 'theta': array([ 2.6842373 ,  4.54553743,  0.49272934,  0.03304187, -1.79773208,\n",
      "       -2.70150483, -1.88874202, -1.69234152]), 'time': 1672971979.5666544}, {'val_and_grad_calls': 18, 'hvp_calls': 43, 'theta': array([ 6.02617297,  4.51557613,  0.25640549,  0.07428411, -0.47181319,\n",
      "       -2.7789832 , -1.29030922, -0.06420369]), 'time': 1672971979.5672956}, {'val_and_grad_calls': 19, 'hvp_calls': 50, 'theta': array([13.05042005,  4.42829265,  0.49607782,  0.16141347,  0.39746721,\n",
      "       -2.57233212, -3.02209288,  3.22059044]), 'time': 1672971979.5681388}, {'val_and_grad_calls': 20, 'hvp_calls': 52, 'theta': array([13.05738884,  4.46672168,  0.49146896,  0.16144196,  0.39480105,\n",
      "       -2.574029  , -3.01936352,  3.20163885]), 'time': 1672971979.5684845}, {'val_and_grad_calls': 21, 'hvp_calls': 55, 'theta': array([13.25946119,  4.43911639,  0.3781492 ,  0.16233374,  0.32384635,\n",
      "       -2.61483458, -2.93463972,  2.69795761]), 'time': 1672971979.568971}, {'val_and_grad_calls': 22, 'hvp_calls': 60, 'theta': array([13.25946119,  4.43911639,  0.3781492 ,  0.16233374,  0.32384635,\n",
      "       -2.61483458, -2.93463972,  2.69795761]), 'time': 1672971979.5697088}, {'val_and_grad_calls': 23, 'hvp_calls': 65, 'theta': array([16.69575617,  4.38075244,  0.43482637,  0.19263928, -0.55286633,\n",
      "       -2.95600908, -1.5860769 ,  1.48112038]), 'time': 1672971979.5704236}, {'val_and_grad_calls': 24, 'hvp_calls': 67, 'theta': array([16.70302971,  4.39795782,  0.43511499,  0.19272884, -0.55211245,\n",
      "       -2.95501374, -1.58774289,  1.48342037]), 'time': 1672971979.570769}, {'val_and_grad_calls': 25, 'hvp_calls': 70, 'theta': array([16.70302971,  4.39795782,  0.43511499,  0.19272884, -0.55211245,\n",
      "       -2.95501374, -1.58774289,  1.48342037]), 'time': 1672971979.5712562}, {'val_and_grad_calls': 26, 'hvp_calls': 73, 'theta': array([18.53630334,  4.35832781,  0.49047186,  0.21528146, -0.34079794,\n",
      "       -2.68010405, -1.97953974,  2.08361229]), 'time': 1672971979.5717256}, {'val_and_grad_calls': 27, 'hvp_calls': 75, 'theta': array([18.54378589,  4.37757954,  0.48513833,  0.21536236, -0.34066266,\n",
      "       -2.68062213, -1.97881528,  2.08409015]), 'time': 1672971979.5720718}, {'val_and_grad_calls': 28, 'hvp_calls': 79, 'theta': array([22.49856451,  4.32772783,  0.31453919,  0.25920904, -0.22275339,\n",
      "       -2.86349085, -1.53499769,  2.37026608]), 'time': 1672971979.5727007}, {'val_and_grad_calls': 29, 'hvp_calls': 86, 'theta': array([30.05688584,  4.19892556,  0.50434317,  0.33903608, -0.46569728,\n",
      "       -2.29221222, -3.63789965,  0.95421062]), 'time': 1672971979.5735424}, {'val_and_grad_calls': 30, 'hvp_calls': 88, 'theta': array([30.06595459,  4.22387924,  0.49646838,  0.33917007, -0.46571738,\n",
      "       -2.29672687, -3.63497592,  0.95692033]), 'time': 1672971979.5738864}, {'val_and_grad_calls': 31, 'hvp_calls': 95, 'theta': array([30.06595459,  4.22387924,  0.49646838,  0.33917007, -0.46571738,\n",
      "       -2.29672687, -3.63497592,  0.95692033]), 'time': 1672971979.574736}, {'val_and_grad_calls': 32, 'hvp_calls': 99, 'theta': array([33.45704043,  4.15107365,  0.41126943,  0.39043924, -0.42732709,\n",
      "       -3.73355869, -2.49022191,  2.00997661]), 'time': 1672971979.5753217}, {'val_and_grad_calls': 33, 'hvp_calls': 103, 'theta': array([41.01104731,  4.05215747,  0.54480304,  0.48884276, -0.48883389,\n",
      "       -1.59391624, -0.97160157,  1.90217799]), 'time': 1672971979.575954}, {'val_and_grad_calls': 34, 'hvp_calls': 106, 'theta': array([41.10317158,  4.05618469,  0.31370184,  0.49020049, -0.49129059,\n",
      "       -1.81292065, -1.21649139,  1.90113001]), 'time': 1672971979.5764277}, {'val_and_grad_calls': 35, 'hvp_calls': 110, 'theta': array([41.57138398,  4.02635281,  0.45456411,  0.49758315, -0.50570616,\n",
      "       -2.37743072, -1.80856204,  1.89243888]), 'time': 1672971979.577066}, {'val_and_grad_calls': 36, 'hvp_calls': 114, 'theta': array([49.04576101,  3.86789571,  0.47946995,  0.61281656, -0.7127609 ,\n",
      "       -4.43540967, -3.75585348,  1.7356355 ]), 'time': 1672971979.5776958}, {'val_and_grad_calls': 37, 'hvp_calls': 116, 'theta': array([49.0581753 ,  3.89488931,  0.47290044,  0.61302773, -0.71289847,\n",
      "       -4.43249397, -3.75297412,  1.73541902]), 'time': 1672971979.5780442}, {'val_and_grad_calls': 38, 'hvp_calls': 122, 'theta': array([49.0581753 ,  3.89488931,  0.47290044,  0.61302773, -0.71289847,\n",
      "       -4.43249397, -3.75297412,  1.73541902]), 'time': 1672971979.5788198}, {'val_and_grad_calls': 39, 'hvp_calls': 128, 'theta': array([52.83284118,  3.82127583,  0.27899953,  0.67808445, -0.71366265,\n",
      "       -3.50405215, -2.83534885,  1.71076752]), 'time': 1672971979.579515}, {'val_and_grad_calls': 40, 'hvp_calls': 130, 'theta': array([52.87312587,  3.82379138,  0.46186362,  0.67891326, -0.71431705,\n",
      "       -3.49642449, -2.8285838 ,  1.70963875]), 'time': 1672971979.5798676}, {'val_and_grad_calls': 41, 'hvp_calls': 136, 'theta': array([60.65252366,  3.65168802,  0.10266405,  0.82371091, -0.8703884 ,\n",
      "       -2.08781288, -1.72055759,  1.45450594]), 'time': 1672971979.580616}, {'val_and_grad_calls': 42, 'hvp_calls': 139, 'theta': array([60.7032964 ,  3.59477947,  0.48464843,  0.82506243, -0.87087289,\n",
      "       -2.10837295, -1.75331423,  1.45567554]), 'time': 1672971979.5811152}, {'val_and_grad_calls': 43, 'hvp_calls': 141, 'theta': array([60.71737482,  3.65186242,  0.46476471,  0.82538241, -0.87149209,\n",
      "       -2.11554731, -1.76477318,  1.45547828]), 'time': 1672971979.5814648}, {'val_and_grad_calls': 44, 'hvp_calls': 148, 'theta': array([76.47308924,  3.177079  ,  0.47472309,  1.19460252, -1.26439142,\n",
      "       -4.59168209, -2.81661899,  1.39524227]), 'time': 1672971979.58234}, {'val_and_grad_calls': 45, 'hvp_calls': 150, 'theta': array([76.49614327,  3.10455968,  0.45215533,  1.19541745, -1.26451066,\n",
      "       -4.58845811, -2.81824765,  1.39158213]), 'time': 1672971979.5826862}, {'val_and_grad_calls': 46, 'hvp_calls': 156, 'theta': array([76.49614327,  3.10455968,  0.45215533,  1.19541745, -1.26451066,\n",
      "       -4.58845811, -2.81824765,  1.39158213]), 'time': 1672971979.5834148}, {'val_and_grad_calls': 47, 'hvp_calls': 159, 'theta': array([ 8.42878240e+01,  2.93003281e+00,  2.47290417e-01,  1.47492028e+00,\n",
      "       -1.43222406e+00, -3.62924332e+00, -3.46181482e+00,  5.86304355e-02]), 'time': 1672971979.5838907}, {'val_and_grad_calls': 48, 'hvp_calls': 162, 'theta': array([ 8.42878240e+01,  2.93003281e+00,  2.47290417e-01,  1.47492028e+00,\n",
      "       -1.43222406e+00, -3.62924332e+00, -3.46181482e+00,  5.86304355e-02]), 'time': 1672971979.5843756}, {'val_and_grad_calls': 48, 'hvp_calls': 165, 'theta': array([ 8.42878240e+01,  2.93003281e+00,  2.47290417e-01,  1.47492028e+00,\n",
      "       -1.43222406e+00, -3.62924332e+00, -3.46181482e+00,  5.86304355e-02]), 'time': 1672971979.5847292}, {'val_and_grad_calls': 48, 'hvp_calls': 168, 'theta': array([ 8.42878240e+01,  2.93003281e+00,  2.47290417e-01,  1.47492028e+00,\n",
      "       -1.43222406e+00, -3.62924332e+00, -3.46181482e+00,  5.86304355e-02]), 'time': 1672971979.5850677}, {'val_and_grad_calls': 49, 'hvp_calls': 170, 'theta': array([ 8.43007709e+01,  2.86768840e+00,  4.89030906e-01,  1.47580225e+00,\n",
      "       -1.43205860e+00, -3.62757308e+00, -3.46067646e+00,  6.01132604e-02]), 'time': 1672971979.5853734}, {'val_and_grad_calls': 50, 'hvp_calls': 172, 'theta': array([ 8.43253916e+01,  2.73091707e+00,  4.23358417e-01,  1.47725053e+00,\n",
      "       -1.43214679e+00, -3.62490973e+00, -3.46005580e+00,  6.24954902e-02]), 'time': 1672971979.5857227}, {'val_and_grad_calls': 51, 'hvp_calls': 174, 'theta': array([ 8.43377657e+01,  2.73278517e+00,  4.62319548e-01,  1.47801097e+00,\n",
      "       -1.43255629e+00, -3.62394085e+00, -3.45995675e+00,  6.33295316e-02]), 'time': 1672971979.5860703}, {'val_and_grad_calls': 52, 'hvp_calls': 179, 'theta': array([84.83142899,  2.70500189,  0.41981361,  1.50768299, -1.44864617,\n",
      "       -3.58562181, -3.45933637,  0.09664435]), 'time': 1672971979.5867229}, {'val_and_grad_calls': 53, 'hvp_calls': 181, 'theta': array([84.84308091,  2.70618587,  0.46178393,  1.50842175, -1.44902205,\n",
      "       -3.58473227, -3.45928921,  0.0973751 ]), 'time': 1672971979.5870554}, {'val_and_grad_calls': 54, 'hvp_calls': 184, 'theta': array([85.83092479,  2.61605738,  0.41762154,  1.56954934, -1.48061786,\n",
      "       -3.51039438, -3.4631168 ,  0.15914375]), 'time': 1672971979.5875344}, {'val_and_grad_calls': 55, 'hvp_calls': 186, 'theta': array([85.8414923 ,  2.62892761,  0.46133201,  1.57026285, -1.48100863,\n",
      "       -3.50970272, -3.46322935,  0.1596314 ]), 'time': 1672971979.5878823}, {'val_and_grad_calls': 56, 'hvp_calls': 192, 'theta': array([87.82832088,  2.59976685,  0.4801898 ,  1.70121136, -1.54340047,\n",
      "       -3.37112747, -3.49231351,  0.26071053]), 'time': 1672971979.588611}, {'val_and_grad_calls': 57, 'hvp_calls': 195, 'theta': array([87.88028088,  2.49862496,  0.45595335,  1.70514057, -1.54437623,\n",
      "       -3.36740916, -3.49356626,  0.26256529]), 'time': 1672971979.589083}, {'val_and_grad_calls': 58, 'hvp_calls': 201, 'theta': array([91.85279202,  2.32798169,  0.45179349,  2.00836301, -1.65721893,\n",
      "       -3.12674473, -3.62615532,  0.36177361]), 'time': 1672971979.5898101}, {'val_and_grad_calls': 59, 'hvp_calls': 205, 'theta': array([91.85279202,  2.32798169,  0.45179349,  2.00836301, -1.65721893,\n",
      "       -3.12674473, -3.62615532,  0.36177361]), 'time': 1672971979.590441}, {'val_and_grad_calls': 60, 'hvp_calls': 209, 'theta': array([93.82248545,  2.14804618,  0.46108312,  2.24094479, -1.68020658,\n",
      "       -3.03059181, -3.7553098 ,  0.27635865]), 'time': 1672971979.591022}, {'val_and_grad_calls': 61, 'hvp_calls': 213, 'theta': array([ 9.77399226e+01,  2.00435644e+00,  4.58821015e-01,  2.90899615e+00,\n",
      "       -1.62587680e+00, -2.83018805e+00, -4.04367418e+00,  3.04433239e-02]), 'time': 1672971979.5916383}, {'val_and_grad_calls': 62, 'hvp_calls': 215, 'theta': array([ 9.77362384e+01,  2.08627378e+00,  4.62211325e-01,  2.91220122e+00,\n",
      "       -1.62358288e+00, -2.83021441e+00, -4.04430547e+00,  2.96691096e-02]), 'time': 1672971979.5919807}, {'val_and_grad_calls': 63, 'hvp_calls': 217, 'theta': array([ 9.77357608e+01,  2.08737760e+00,  4.58801079e-01,  2.91261761e+00,\n",
      "       -1.62323337e+00, -2.83016031e+00, -4.04434306e+00,  2.96184014e-02]), 'time': 1672971979.592318}, {'val_and_grad_calls': 64, 'hvp_calls': 221, 'theta': array([ 9.69050778e+01,  2.08353563e+00,  4.58900481e-01,  3.64527372e+00,\n",
      "       -9.99998999e-01, -2.72050161e+00, -4.09113936e+00, -4.87239792e-02]), 'time': 1672971979.5929146}, {'val_and_grad_calls': 65, 'hvp_calls': 225, 'theta': array([ 9.75278313e+01,  2.08626845e+00,  4.58735666e-01,  3.99190174e+00,\n",
      "       -7.96835011e-01, -2.72356063e+00, -4.08570048e+00, -6.37912235e-02]), 'time': 1672971979.5935102}, {'val_and_grad_calls': 66, 'hvp_calls': 229, 'theta': array([ 9.73077352e+01,  2.08877112e+00,  4.58630979e-01,  4.23816869e+00,\n",
      "       -4.79025639e-01, -2.71748839e+00, -4.08775029e+00, -8.10820758e-02]), 'time': 1672971979.5941052}, {'val_and_grad_calls': 67, 'hvp_calls': 233, 'theta': array([ 9.74913047e+01,  2.08904577e+00,  4.58582446e-01,  4.34299752e+00,\n",
      "       -5.17474528e-01, -2.71857764e+00, -4.08719123e+00, -8.69543965e-02]), 'time': 1672971979.5947466}, {'val_and_grad_calls': 68, 'hvp_calls': 238, 'theta': array([97.50259166,  2.08946171,  0.45846745,  4.60454164, -0.42119775,\n",
      "       -2.71484719, -4.08761428, -0.10363887]), 'time': 1672971979.5954864}, {'val_and_grad_calls': 69, 'hvp_calls': 242, 'theta': array([97.48987516,  2.08947418,  0.45846358,  4.61199865, -0.45094557,\n",
      "       -2.71492875, -4.08735853, -0.10401334]), 'time': 1672971979.596102}, {'val_and_grad_calls': 70, 'hvp_calls': 247, 'theta': array([97.48462971,  2.08947081,  0.45846031,  4.62134952, -0.45113796,\n",
      "       -2.71500718, -4.08767278, -0.1048816 ]), 'time': 1672971979.596843}, {'val_and_grad_calls': 71, 'hvp_calls': 253, 'theta': array([97.4852699 ,  2.08947728,  0.45845977,  4.62214029, -0.45019985,\n",
      "       -2.7149261 , -4.08757611, -0.10485008]), 'time': 1672971979.597714}], 'runtime': 1.2777342796325684, 'newton_step_norm': 5.68495810781178e-06, 'newton_step': array([ 1.59896183e-06, -1.70708455e-07,  2.92060012e-08, -6.86569424e-06,\n",
      "        5.77147174e-06, -8.28721696e-06, -1.41009296e-05, -1.29054826e-05]), 'unconstrained_param_names': ['Intercept', 'treatment', 'pre_test', 'post_test_sigma_log__'], 'datetime': datetime.datetime(2023, 1, 6, 3, 26, 20, 143863), 'hostname': 'martin-Blade'}\n",
      "\n",
      "\n",
      "=======================================\n",
      " RAABBVI :\n",
      "{'opt_result': array([97.14943687,  2.08842561,  0.45995569,  4.72789398, -0.54294665,\n",
      "       -2.97237246, -4.06411684,  0.15178393]), 'kl_hist': [DeviceArray(929637., dtype=float32), DeviceArray(163788.61, dtype=float32), DeviceArray(30873.908, dtype=float32), DeviceArray(6339.109, dtype=float32), DeviceArray(1904.0613, dtype=float32), DeviceArray(1205.3259, dtype=float32), DeviceArray(1161.2059, dtype=float32), DeviceArray(1158.2562, dtype=float32), DeviceArray(1155.6538, dtype=float32), DeviceArray(1153.457, dtype=float32), DeviceArray(1151.266, dtype=float32), DeviceArray(1149.1295, dtype=float32), DeviceArray(1146.9108, dtype=float32), DeviceArray(1144.6599, dtype=float32), DeviceArray(1142.479, dtype=float32), DeviceArray(1140.132, dtype=float32), DeviceArray(1137.7604, dtype=float32), DeviceArray(1135.4081, dtype=float32), DeviceArray(1133.098, dtype=float32), DeviceArray(1130.8204, dtype=float32), DeviceArray(1128.23, dtype=float32), DeviceArray(1125.7577, dtype=float32), DeviceArray(1123.255, dtype=float32), DeviceArray(1120.7413, dtype=float32), DeviceArray(1118.232, dtype=float32), DeviceArray(1115.5887, dtype=float32), DeviceArray(1112.9635, dtype=float32), DeviceArray(1110.3088, dtype=float32), DeviceArray(1107.641, dtype=float32), DeviceArray(1104.9208, dtype=float32), DeviceArray(1102.0994, dtype=float32), DeviceArray(1099.3124, dtype=float32), DeviceArray(1096.4395, dtype=float32), DeviceArray(1093.5673, dtype=float32), DeviceArray(1090.652, dtype=float32), DeviceArray(1087.6333, dtype=float32), DeviceArray(1084.6448, dtype=float32), DeviceArray(1081.52, dtype=float32), DeviceArray(1078.4104, dtype=float32), DeviceArray(1075.222, dtype=float32), DeviceArray(1072.005, dtype=float32), DeviceArray(1068.7277, dtype=float32), DeviceArray(1065.3961, dtype=float32), DeviceArray(1062.013, dtype=float32), DeviceArray(1058.5747, dtype=float32), DeviceArray(1055.086, dtype=float32), DeviceArray(1051.5173, dtype=float32), DeviceArray(1047.8448, dtype=float32), DeviceArray(1044.1212, dtype=float32), DeviceArray(1040.3466, dtype=float32), DeviceArray(1036.4972, dtype=float32), DeviceArray(1032.5935, dtype=float32), DeviceArray(1028.5581, dtype=float32), DeviceArray(1024.5065, dtype=float32), DeviceArray(1020.3036, dtype=float32), DeviceArray(1016.0509, dtype=float32), DeviceArray(1011.71906, dtype=float32), DeviceArray(1007.2429, dtype=float32), DeviceArray(1002.70636, dtype=float32), DeviceArray(998.1185, dtype=float32), DeviceArray(993.28577, dtype=float32), DeviceArray(988.4187, dtype=float32), DeviceArray(983.408, dtype=float32), DeviceArray(978.2889, dtype=float32), DeviceArray(973.01355, dtype=float32), DeviceArray(967.63165, dtype=float32), DeviceArray(962.0861, dtype=float32), DeviceArray(956.4208, dtype=float32), DeviceArray(950.6153, dtype=float32), DeviceArray(944.558, dtype=float32), DeviceArray(938.3239, dtype=float32), DeviceArray(931.9478, dtype=float32), DeviceArray(925.2847, dtype=float32), DeviceArray(918.50757, dtype=float32), DeviceArray(911.52545, dtype=float32), DeviceArray(904.1751, dtype=float32), DeviceArray(896.68866, dtype=float32), DeviceArray(888.9117, dtype=float32), DeviceArray(880.81744, dtype=float32), DeviceArray(872.4562, dtype=float32), DeviceArray(863.7795, dtype=float32), DeviceArray(854.79285, dtype=float32), DeviceArray(845.44464, dtype=float32), DeviceArray(835.7497, dtype=float32), DeviceArray(825.6914, dtype=float32), DeviceArray(815.3135, dtype=float32), DeviceArray(804.5327, dtype=float32), DeviceArray(793.374, dtype=float32), DeviceArray(781.93274, dtype=float32), DeviceArray(770.30176, dtype=float32), DeviceArray(758.45, dtype=float32), DeviceArray(746.7617, dtype=float32), DeviceArray(735.247, dtype=float32), DeviceArray(724.3937, dtype=float32), DeviceArray(714.4733, dtype=float32), DeviceArray(706.2133, dtype=float32), DeviceArray(699.62506, dtype=float32), DeviceArray(695.6142, dtype=float32), DeviceArray(694.06213, dtype=float32), DeviceArray(694.0071, dtype=float32), DeviceArray(694.0226, dtype=float32), DeviceArray(694.0429, dtype=float32), DeviceArray(694.00696, dtype=float32), DeviceArray(694.0245, dtype=float32), DeviceArray(694.0658, dtype=float32), DeviceArray(694.01324, dtype=float32), DeviceArray(694.0877, dtype=float32), DeviceArray(694.0377, dtype=float32), DeviceArray(694.02795, dtype=float32), DeviceArray(694.0019, dtype=float32), DeviceArray(694.1557, dtype=float32), DeviceArray(694.0006, dtype=float32), DeviceArray(694.02515, dtype=float32), DeviceArray(694.00433, dtype=float32), DeviceArray(693.99854, dtype=float32), DeviceArray(694.02747, dtype=float32), DeviceArray(693.9991, dtype=float32), DeviceArray(693.9983, dtype=float32), DeviceArray(694.01733, dtype=float32), DeviceArray(694.0253, dtype=float32), DeviceArray(694.03705, dtype=float32), DeviceArray(694.06323, dtype=float32), DeviceArray(694.0145, dtype=float32), DeviceArray(694.0864, dtype=float32), DeviceArray(693.99786, dtype=float32), DeviceArray(694.0024, dtype=float32), DeviceArray(694.02496, dtype=float32), DeviceArray(693.99664, dtype=float32), DeviceArray(694.0049, dtype=float32), DeviceArray(694.0185, dtype=float32), DeviceArray(694.0046, dtype=float32), DeviceArray(694.041, dtype=float32), DeviceArray(694.00543, dtype=float32), DeviceArray(693.9972, dtype=float32), DeviceArray(693.9927, dtype=float32), DeviceArray(694.0162, dtype=float32), DeviceArray(693.9923, dtype=float32), DeviceArray(694.0006, dtype=float32), DeviceArray(694.02893, dtype=float32), DeviceArray(694.0039, dtype=float32), DeviceArray(693.99786, dtype=float32), DeviceArray(693.9944, dtype=float32), DeviceArray(693.99994, dtype=float32), DeviceArray(693.99603, dtype=float32), DeviceArray(694.00165, dtype=float32), DeviceArray(693.9957, dtype=float32), DeviceArray(694.0166, dtype=float32), DeviceArray(694.0067, dtype=float32), DeviceArray(693.9984, dtype=float32), DeviceArray(694., dtype=float32), DeviceArray(694.0001, dtype=float32), DeviceArray(693.9936, dtype=float32), DeviceArray(693.9937, dtype=float32), DeviceArray(693.996, dtype=float32), DeviceArray(693.9948, dtype=float32), DeviceArray(693.9936, dtype=float32), DeviceArray(694.0019, dtype=float32), DeviceArray(693.9934, dtype=float32), DeviceArray(694.0419, dtype=float32), DeviceArray(693.99054, dtype=float32), DeviceArray(693.9919, dtype=float32), DeviceArray(694.0099, dtype=float32), DeviceArray(694.00146, dtype=float32), DeviceArray(694.004, dtype=float32), DeviceArray(694.00305, dtype=float32), DeviceArray(693.99554, dtype=float32), DeviceArray(694.01965, dtype=float32), DeviceArray(693.9925, dtype=float32), DeviceArray(693.992, dtype=float32), DeviceArray(693.99457, dtype=float32), DeviceArray(694.002, dtype=float32), DeviceArray(693.9976, dtype=float32), DeviceArray(693.9934, dtype=float32)], 'kl_hist_i': array([    0,   100,   200,   300,   400,   500,   600,   700,   800,\n",
      "         900,  1000,  1100,  1200,  1300,  1400,  1500,  1600,  1700,\n",
      "        1800,  1900,  2000,  2100,  2200,  2300,  2400,  2500,  2600,\n",
      "        2700,  2800,  2900,  3000,  3100,  3200,  3300,  3400,  3500,\n",
      "        3600,  3700,  3800,  3900,  4000,  4100,  4200,  4300,  4400,\n",
      "        4500,  4600,  4700,  4800,  4900,  5000,  5100,  5200,  5300,\n",
      "        5400,  5500,  5600,  5700,  5800,  5900,  6000,  6100,  6200,\n",
      "        6300,  6400,  6500,  6600,  6700,  6800,  6900,  7000,  7100,\n",
      "        7200,  7300,  7400,  7500,  7600,  7700,  7800,  7900,  8000,\n",
      "        8100,  8200,  8300,  8400,  8500,  8600,  8700,  8800,  8900,\n",
      "        9000,  9100,  9200,  9300,  9400,  9500,  9600,  9700,  9800,\n",
      "        9900, 10000, 10100, 10200, 10300, 10400, 10500, 10600, 10700,\n",
      "       10800, 10900, 11000, 11100, 11200, 11300, 11400, 11500, 11600,\n",
      "       11700, 11800, 11900, 12000, 12100, 12200, 12300, 12400, 12500,\n",
      "       12600, 12700, 12800, 12900, 13000, 13100, 13200, 13300, 13400,\n",
      "       13500, 13600, 13700, 13800, 13900, 14000, 14100, 14200, 14300,\n",
      "       14400, 14500, 14600, 14700, 14800, 14900, 15000, 15100, 15200,\n",
      "       15300, 15400, 15500, 15600, 15700, 15800, 15900, 16000, 16100,\n",
      "       16200, 16300, 16400, 16500, 16600, 16700, 16800, 16900, 17000,\n",
      "       17100, 17200]), 'runtime': 32.05189490318298, 'unconstrained_param_names': ['Intercept', 'treatment', 'pre_test', 'post_test_sigma_log__'], 'datetime': datetime.datetime(2023, 1, 6, 3, 26, 14, 487799), 'hostname': 'martin-Blade'}\n",
      "\n",
      "\n",
      "=======================================\n",
      " SADVI :\n",
      "{'steps': 100000, 'runtime': 13.018312215805054, 'unconstrained_param_names': ['Intercept', 'treatment', 'pre_test', 'post_test_sigma_log__'], 'kl_history':       step kl_estimate\n",
      "0        1   1591.3456\n",
      "1      101    1531.241\n",
      "2      201    1472.115\n",
      "3      301   1420.4552\n",
      "4      401   1369.6276\n",
      "..     ...         ...\n",
      "995  99501   694.05273\n",
      "996  99601    694.0419\n",
      "997  99701    694.0416\n",
      "998  99801   694.04395\n",
      "999  99901    694.0543\n",
      "\n",
      "[1000 rows x 2 columns], 'datetime': datetime.datetime(2023, 1, 6, 3, 25, 12, 459742), 'hostname': 'martin-Blade'}\n",
      "\n",
      "\n",
      "=======================================\n",
      " SADVI_FR :\n",
      "{'steps': 100000, 'runtime': 20.615896701812744, 'unconstrained_param_names': ['Intercept', 'treatment', 'pre_test', 'post_test_sigma_log__'], 'kl_history': None, 'datetime': datetime.datetime(2023, 1, 6, 3, 25, 36, 993906), 'hostname': 'martin-Blade'}\n",
      "\n",
      "\n"
     ]
    }
   ],
   "source": [
    "for k,v in raw_metadata.items():\n",
    "    print('=======================================\\n', k, ':')\n",
    "    print(v[0])\n",
    "    print('\\n')"
   ]
  }
 ],
 "metadata": {
  "kernelspec": {
   "display_name": "dadvi-experiments",
   "language": "python",
   "name": "dadvi-experiments"
  },
  "language_info": {
   "codemirror_mode": {
    "name": "ipython",
    "version": 3
   },
   "file_extension": ".py",
   "mimetype": "text/x-python",
   "name": "python",
   "nbconvert_exporter": "python",
   "pygments_lexer": "ipython3",
   "version": "3.8.10"
  },
  "vscode": {
   "interpreter": {
    "hash": "d6b81382af3beaebbac93aac606334308960b1a7270e498d25ccdd66c34d7f6d"
   }
  }
 },
 "nbformat": 4,
 "nbformat_minor": 2
}
