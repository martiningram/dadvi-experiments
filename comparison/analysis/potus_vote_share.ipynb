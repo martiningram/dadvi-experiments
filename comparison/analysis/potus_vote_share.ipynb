{
 "cells": [
  {
   "cell_type": "code",
   "execution_count": 43,
   "metadata": {},
   "outputs": [],
   "source": [
    "# Let's first work out which parameter we're actually interested in.\n",
    "from dadvi.pymc.models.potus import get_potus_model"
   ]
  },
  {
   "cell_type": "code",
   "execution_count": 44,
   "metadata": {},
   "outputs": [
    {
     "name": "stderr",
     "output_type": "stream",
     "text": [
      "/home/martin/projects/pymc_v4/pymc/pymc/distributions/bound.py:186: FutureWarning: Bound has been deprecated in favor of Truncated, and will be removed in a future release. If Truncated is not an option, Bound can be implemented byadding an IntervalTransform between lower and upper to a continuous variable. A Potential that returns negative infinity for values outside of the bounds can be used for discrete variables.\n",
      "  warnings.warn(\n"
     ]
    }
   ],
   "source": [
    "potus_model = get_potus_model('../data/potus_data.json')"
   ]
  },
  {
   "cell_type": "code",
   "execution_count": 45,
   "metadata": {},
   "outputs": [],
   "source": [
    "import numpy as np\n",
    "import json\n",
    "\n",
    "data = json.load(open('../data/potus_data.json'))\n",
    "\n",
    "np_data = {x: np.squeeze(np.array(y)) for x, y in data.items()}"
   ]
  },
  {
   "cell_type": "code",
   "execution_count": 46,
   "metadata": {},
   "outputs": [],
   "source": [
    "from dadvi.pymc.pymc_to_jax import get_jax_functions_from_pymc\n",
    "from dadvi.jax import build_dadvi_funs"
   ]
  },
  {
   "cell_type": "code",
   "execution_count": 47,
   "metadata": {},
   "outputs": [],
   "source": [
    "jax_funs = get_jax_functions_from_pymc(potus_model)"
   ]
  },
  {
   "cell_type": "code",
   "execution_count": 48,
   "metadata": {},
   "outputs": [
    {
     "data": {
      "text/plain": [
       "{'log_posterior_fun': <function dadvi.pymc.pymc_to_jax.get_jax_functions_from_pymc.<locals>.flat_log_post_fun(flat_params)>,\n",
       " 'unflatten_fun': <function jax._src.flatten_util.ravel_pytree.<locals>.<lambda>(flat)>,\n",
       " 'n_params': 15098}"
      ]
     },
     "execution_count": 48,
     "metadata": {},
     "output_type": "execute_result"
    }
   ],
   "source": [
    "jax_funs"
   ]
  },
  {
   "cell_type": "code",
   "execution_count": 49,
   "metadata": {},
   "outputs": [],
   "source": [
    "import numpy as np"
   ]
  },
  {
   "cell_type": "code",
   "execution_count": 50,
   "metadata": {},
   "outputs": [],
   "source": [
    "z = np.arange(jax_funs['n_params'])"
   ]
  },
  {
   "cell_type": "code",
   "execution_count": 51,
   "metadata": {},
   "outputs": [],
   "source": [
    "param_dict = jax_funs['unflatten_fun'](z)"
   ]
  },
  {
   "cell_type": "code",
   "execution_count": 52,
   "metadata": {},
   "outputs": [],
   "source": [
    "param_shapes = {x: y.shape for x, y in param_dict.items()}"
   ]
  },
  {
   "cell_type": "code",
   "execution_count": 53,
   "metadata": {},
   "outputs": [
    {
     "data": {
      "text/plain": [
       "{'mu_e_bias': (),\n",
       " 'raw_e_bias': (254,),\n",
       " 'raw_measure_noise_national': (361,),\n",
       " 'raw_measure_noise_state': (1258,),\n",
       " 'raw_mu_b': (51, 254),\n",
       " 'raw_mu_b_T': (51,),\n",
       " 'raw_mu_c': (161,),\n",
       " 'raw_mu_m': (3,),\n",
       " 'raw_mu_pop': (3,),\n",
       " 'raw_polling_bias': (51,),\n",
       " 'rho_e_bias_interval__': ()}"
      ]
     },
     "execution_count": 53,
     "metadata": {},
     "output_type": "execute_result"
    }
   ],
   "source": [
    "param_shapes"
   ]
  },
  {
   "cell_type": "code",
   "execution_count": 54,
   "metadata": {},
   "outputs": [
    {
     "data": {
      "text/plain": [
       "'\\n         mu_b_final = (\\n            pm.math.dot(cholesky_ss_cov_mu_b_T, raw_mu_b_T) + np_data[\"mu_b_prior\"]\\n        )\\n'"
      ]
     },
     "execution_count": 54,
     "metadata": {},
     "output_type": "execute_result"
    }
   ],
   "source": [
    "# Maybe I can use `raw_mu_b_T`, which is possibly the final vote share except for a known matrix multiplication:\n",
    "\"\"\"\n",
    "         mu_b_final = (\n",
    "            pm.math.dot(cholesky_ss_cov_mu_b_T, raw_mu_b_T) + np_data[\"mu_b_prior\"]\n",
    "        )\n",
    "\"\"\"\n",
    "# I guess if I can get its covariance, I should be able to reconstruct things.\n",
    "# So, next steps:\n",
    "# 1. Work out the indices corresponding to `raw_mu_b_T`\n",
    "# 2. Use CG to calculate the relevant covariances \n",
    "# 3. Am I screwed because I can only get marginal frequentist variances?\n",
    "# 4. Maybe consult with Ryan"
   ]
  },
  {
   "cell_type": "code",
   "execution_count": 55,
   "metadata": {},
   "outputs": [],
   "source": [
    "indices = param_dict['raw_mu_b_T']"
   ]
  },
  {
   "cell_type": "code",
   "execution_count": 56,
   "metadata": {},
   "outputs": [],
   "source": [
    "sample_index = indices[0]"
   ]
  },
  {
   "cell_type": "code",
   "execution_count": 57,
   "metadata": {},
   "outputs": [],
   "source": [
    "from dadvi.core import compute_hessian_inv_column\n",
    "from dadvi.core import compute_score_matrix"
   ]
  },
  {
   "cell_type": "code",
   "execution_count": 74,
   "metadata": {},
   "outputs": [],
   "source": [
    "# Load the optimal parameters\n",
    "import pickle\n",
    "from glob import glob\n",
    "\n",
    "all_runs = glob('/media/martin/External Drive/projects/lrvb_paper/potus_coverage_warm_starts/100_reruns/M_64/*/*.pkl')\n",
    "reference = [x for x in all_runs if 'reference' in x][0]\n",
    "other_runs = [x for x in all_runs if 'reference' not in x]\n",
    "\n",
    "results = pickle.load(open(reference, 'rb'))"
   ]
  },
  {
   "cell_type": "code",
   "execution_count": 75,
   "metadata": {},
   "outputs": [
    {
     "data": {
      "text/plain": [
       "'/media/martin/External Drive/projects/lrvb_paper/potus_coverage_warm_starts/100_reruns/M_64/potus/reference.pkl'"
      ]
     },
     "execution_count": 75,
     "metadata": {},
     "output_type": "execute_result"
    }
   ],
   "source": [
    "reference"
   ]
  },
  {
   "cell_type": "code",
   "execution_count": 76,
   "metadata": {},
   "outputs": [
    {
     "data": {
      "text/plain": [
       "{'seed': 2,\n",
       " 'opt_result': {'opt_result':      fun: 28827.468004718103\n",
       "       jac: array([ 7.96841521e-06,  9.10227725e-07,  3.64085571e-07, ...,\n",
       "         -8.33288833e-09, -3.74740167e-08, -2.55321952e-06])\n",
       "   message: 'Optimization terminated successfully.'\n",
       "      nfev: 50\n",
       "      nhev: 639\n",
       "       nit: 49\n",
       "      njev: 45\n",
       "    status: 0\n",
       "   success: True\n",
       "         x: DeviceArray([ 0.00865028, -0.13800604, -0.02989164, ..., -0.18470881,\n",
       "               -0.03990547, -0.58674166], dtype=float64),\n",
       "  'evaluation_count': {'n_hvp_calls': 638, 'n_val_and_grad_calls': 50},\n",
       "  'newton_step_norm': 1.8379498497599394e-09},\n",
       " 'z': array([[-0.41675785, -0.05626683, -2.1361961 , ..., -0.4487264 ,\n",
       "         -0.63901784,  0.73930396],\n",
       "        [-0.63975464,  2.42046345, -0.01443323, ..., -0.05534883,\n",
       "         -0.33986302,  0.67970549],\n",
       "        [ 0.8296469 , -1.48404724,  0.72339503, ...,  0.54433581,\n",
       "          0.20032777,  0.42302363],\n",
       "        ...,\n",
       "        [ 0.40518906,  0.72603071,  0.77002311, ...,  0.12485098,\n",
       "         -0.05868883, -0.5405053 ],\n",
       "        [-1.1338291 ,  1.11282308, -0.20791482, ...,  2.21910751,\n",
       "         -1.24525924, -0.28212417],\n",
       "        [-0.05728712,  0.34975671, -1.04524239, ..., -0.81116728,\n",
       "          0.51297626, -0.48792288]])}"
      ]
     },
     "execution_count": 76,
     "metadata": {},
     "output_type": "execute_result"
    }
   ],
   "source": [
    "results"
   ]
  },
  {
   "cell_type": "code",
   "execution_count": 77,
   "metadata": {},
   "outputs": [],
   "source": [
    "opt_params = results['opt_result']['opt_result'].x\n",
    "\n",
    "# Store these in future -- not good:\n",
    "np.random.seed(results['seed'])\n",
    "z = np.random.randn(64, jax_funs['n_params'])\n",
    "\n",
    "#z = results['fixed_draws']\n",
    "dadvi_funs = build_dadvi_funs(jax_funs['log_posterior_fun'])"
   ]
  },
  {
   "cell_type": "code",
   "execution_count": 78,
   "metadata": {},
   "outputs": [],
   "source": [
    "from tqdm import tqdm"
   ]
  },
  {
   "cell_type": "code",
   "execution_count": 79,
   "metadata": {},
   "outputs": [],
   "source": [
    "score_mat = compute_score_matrix(opt_params, dadvi_funs.kl_est_and_grad_fun, z)"
   ]
  },
  {
   "cell_type": "code",
   "execution_count": 80,
   "metadata": {},
   "outputs": [],
   "source": [
    "opt_means = opt_params[:opt_params.shape[0]//2]"
   ]
  },
  {
   "cell_type": "code",
   "execution_count": 81,
   "metadata": {},
   "outputs": [],
   "source": [
    "mean_dict = jax_funs['unflatten_fun'](opt_means)"
   ]
  },
  {
   "cell_type": "code",
   "execution_count": 82,
   "metadata": {},
   "outputs": [],
   "source": [
    "national_cov_matrix_error_sd = np.sqrt(\n",
    "        np.squeeze(\n",
    "            np_data[\"state_weights\"].reshape(1, -1)\n",
    "            @ (np_data[\"state_covariance_0\"] @ np_data[\"state_weights\"].reshape(-1, 1))\n",
    "        )\n",
    "    )\n",
    "ss_cov_mu_b_T = (\n",
    "    np_data[\"state_covariance_0\"]\n",
    "    * (np_data[\"mu_b_T_scale\"] / national_cov_matrix_error_sd) ** 2\n",
    ")\n",
    "cholesky_ss_cov_mu_b_T = np.linalg.cholesky(ss_cov_mu_b_T)\n",
    "\n",
    "rel_means = mean_dict['raw_mu_b_T']"
   ]
  },
  {
   "cell_type": "code",
   "execution_count": 83,
   "metadata": {},
   "outputs": [],
   "source": [
    "mean_shares = cholesky_ss_cov_mu_b_T @ rel_means + np_data[\"mu_b_prior\"]"
   ]
  },
  {
   "cell_type": "code",
   "execution_count": 84,
   "metadata": {},
   "outputs": [],
   "source": [
    "national_average = mean_shares @ np_data['state_weights']"
   ]
  },
  {
   "cell_type": "code",
   "execution_count": 85,
   "metadata": {},
   "outputs": [
    {
     "data": {
      "text/plain": [
       "array([0.0023, 0.0158, 0.0081, 0.0183, 0.1025, 0.0207, 0.0118, 0.0024,\n",
       "       0.0033, 0.0677, 0.0305, 0.0034, 0.0121, 0.0051, 0.0395, 0.02  ,\n",
       "       0.0088, 0.0136, 0.0153, 0.0246, 0.0209, 0.0054, 0.0358, 0.0226,\n",
       "       0.0209, 0.0097, 0.0037, 0.0353, 0.0026, 0.0061, 0.0054, 0.0278,\n",
       "       0.0059, 0.0081, 0.0541, 0.0421, 0.0103, 0.014 , 0.0434, 0.0034,\n",
       "       0.0154, 0.0028, 0.019 , 0.0644, 0.0081, 0.0299, 0.0023, 0.0246,\n",
       "       0.0233, 0.005 , 0.0019])"
      ]
     },
     "execution_count": 85,
     "metadata": {},
     "output_type": "execute_result"
    }
   ],
   "source": [
    "np_data['state_weights']"
   ]
  },
  {
   "cell_type": "code",
   "execution_count": 86,
   "metadata": {},
   "outputs": [
    {
     "data": {
      "text/plain": [
       "DeviceArray(0.05704013, dtype=float64)"
      ]
     },
     "execution_count": 86,
     "metadata": {},
     "output_type": "execute_result"
    }
   ],
   "source": [
    "national_average"
   ]
  },
  {
   "cell_type": "code",
   "execution_count": 87,
   "metadata": {},
   "outputs": [],
   "source": [
    "# There might be a bit more but this is a good start.\n",
    "# Compute the gradient required now."
   ]
  },
  {
   "cell_type": "code",
   "execution_count": 88,
   "metadata": {},
   "outputs": [],
   "source": [
    "from jax.scipy.special import expit\n",
    "from jax import grad\n",
    "from dadvi.utils import cg_using_fun_scipy\n",
    "\n",
    "# Check whether this is the correct way to get the national pct!!\n",
    "def compute_final_vote_share(full_var_params):\n",
    "\n",
    "    # I think we only need the means:\n",
    "    opt_means = full_var_params[:full_var_params.shape[0] // 2]\n",
    "\n",
    "    mean_dict = jax_funs['unflatten_fun'](opt_means)\n",
    "\n",
    "    rel_means = mean_dict['raw_mu_b_T']\n",
    "\n",
    "    mean_shares = cholesky_ss_cov_mu_b_T @ rel_means + np_data[\"mu_b_prior\"]\n",
    "\n",
    "    return expit(mean_shares) @ np_data['state_weights']\n",
    "\n",
    "def estimate_final_vote_share_and_freq_sd(opt_params, dadvi_funs, z):\n",
    "    \n",
    "    final_share = compute_final_vote_share(opt_params)\n",
    "    \n",
    "    rel_grad = grad(compute_final_vote_share)(opt_params)\n",
    "    \n",
    "    # TODO Preconditioner\n",
    "    rel_hvp = lambda x: dadvi_funs.kl_est_hvp_fun(opt_params, z, x)\n",
    "    cg_result = cg_using_fun_scipy(rel_hvp, rel_grad, preconditioner=None)\n",
    "    h_inv_g = cg_result[0]\n",
    "        \n",
    "    score_mat = compute_score_matrix(opt_params, dadvi_funs.kl_est_and_grad_fun, z)\n",
    "    score_mat_means = score_mat.mean(axis=0, keepdims=True)\n",
    "    centred_score_mat = score_mat - score_mat_means\n",
    "    \n",
    "    vec = centred_score_mat @ h_inv_g\n",
    "    M = score_mat.shape[0]\n",
    "    freq_sd = np.sqrt((vec.T @ vec) / (M * (M - 1)))\n",
    "    \n",
    "    return final_share, freq_sd"
   ]
  },
  {
   "cell_type": "code",
   "execution_count": 89,
   "metadata": {},
   "outputs": [],
   "source": [
    "ref_vote_share, ref_sd = estimate_final_vote_share_and_freq_sd(opt_params, dadvi_funs, z)"
   ]
  },
  {
   "cell_type": "code",
   "execution_count": 90,
   "metadata": {},
   "outputs": [],
   "source": [
    "# Load the runs\n",
    "from glob import glob\n",
    "from tqdm.notebook import tqdm"
   ]
  },
  {
   "cell_type": "code",
   "execution_count": 94,
   "metadata": {},
   "outputs": [
    {
     "data": {
      "text/plain": [
       "100"
      ]
     },
     "execution_count": 94,
     "metadata": {},
     "output_type": "execute_result"
    }
   ],
   "source": [
    "len(other_runs)"
   ]
  },
  {
   "cell_type": "code",
   "execution_count": 92,
   "metadata": {},
   "outputs": [
    {
     "data": {
      "text/plain": [
       "{'seed': 1099,\n",
       " 'opt_result': {'opt_result':      fun: 28820.432971719776\n",
       "       jac: array([ 6.55642225e-08, -3.72591049e-08, -4.29381676e-08, ...,\n",
       "         -5.88295530e-09,  1.52820221e-09,  2.57231091e-07])\n",
       "   message: 'Optimization terminated successfully.'\n",
       "      nfev: 23\n",
       "      nhev: 345\n",
       "       nit: 22\n",
       "      njev: 22\n",
       "    status: 0\n",
       "   success: True\n",
       "         x: DeviceArray([ 0.00985286, -0.16380827,  0.07167079, ..., -0.27585303,\n",
       "               -0.15189824, -0.76444146], dtype=float64),\n",
       "  'evaluation_count': {'n_hvp_calls': 344, 'n_val_and_grad_calls': 23},\n",
       "  'newton_step_norm': 0.0},\n",
       " 'z': array([[ 2.4103017 , -1.67541134, -1.56577809, ...,  2.15826372,\n",
       "          3.59656925, -1.41003573],\n",
       "        [ 0.0399059 , -1.24591447, -0.74385217, ..., -1.3639813 ,\n",
       "          0.18338042, -0.54648866],\n",
       "        [ 0.46700162, -0.118007  ,  0.24039945, ...,  2.07852499,\n",
       "          0.36156539,  0.35620881],\n",
       "        ...,\n",
       "        [ 0.0441793 ,  0.45885518, -0.35841257, ...,  0.91678686,\n",
       "         -0.98447233, -1.65351713],\n",
       "        [ 1.29701079,  1.90100151,  0.4522453 , ...,  0.41987015,\n",
       "         -0.40155867, -0.12274626],\n",
       "        [ 1.3667739 , -0.54765985, -0.80065667, ...,  0.89708662,\n",
       "         -0.05041931, -0.1725358 ]])}"
      ]
     },
     "execution_count": 92,
     "metadata": {},
     "output_type": "execute_result"
    }
   ],
   "source": [
    "loaded = pickle.load(open(sorted(other_runs)[-1], 'rb'))\n",
    "\n",
    "loaded"
   ]
  },
  {
   "cell_type": "code",
   "execution_count": 95,
   "metadata": {},
   "outputs": [
    {
     "data": {
      "application/vnd.jupyter.widget-view+json": {
       "model_id": "e1f257e7f26b48cfa592cd05f8d6b4d0",
       "version_major": 2,
       "version_minor": 0
      },
      "text/plain": [
       "  0%|          | 0/3 [00:00<?, ?it/s]"
      ]
     },
     "metadata": {},
     "output_type": "display_data"
    }
   ],
   "source": [
    "others_loaded = [pickle.load(open(x, 'rb')) for x in other_runs]\n",
    "\n",
    "rerun_results = list()\n",
    "\n",
    "# Add zs retrospectively\n",
    "for cur_loaded in tqdm(others_loaded[:3]):\n",
    "    \n",
    "    other_z = cur_loaded['z']\n",
    "    new_opt_params = cur_loaded['opt_result']['opt_result'].x\n",
    "    vote_share, sd = estimate_final_vote_share_and_freq_sd(new_opt_params, dadvi_funs, other_z)\n",
    "   \n",
    "    rerun_results.append({'vote_share': vote_share, 'sd': sd})\n",
    "    \n",
    "    break"
   ]
  },
  {
   "cell_type": "code",
   "execution_count": 17,
   "metadata": {},
   "outputs": [
    {
     "ename": "NameError",
     "evalue": "name 'pd' is not defined",
     "output_type": "error",
     "traceback": [
      "\u001b[0;31m---------------------------------------------------------------------------\u001b[0m",
      "\u001b[0;31mNameError\u001b[0m                                 Traceback (most recent call last)",
      "Input \u001b[0;32mIn [17]\u001b[0m, in \u001b[0;36m<cell line: 1>\u001b[0;34m()\u001b[0m\n\u001b[0;32m----> 1\u001b[0m \u001b[43mpd\u001b[49m\u001b[38;5;241m.\u001b[39mDataFrame(rerun_results)\n",
      "\u001b[0;31mNameError\u001b[0m: name 'pd' is not defined"
     ]
    }
   ],
   "source": [
    "pd.DataFrame(rerun_results).to_csv('rerun_sds.csv')"
   ]
  },
  {
   "cell_type": "code",
   "execution_count": 59,
   "metadata": {},
   "outputs": [],
   "source": [
    "all_zs = list()\n",
    "\n",
    "for other_run in others_loaded:\n",
    "\n",
    "    other_opt_params = other_run['opt_result']['opt_result'].x\n",
    "\n",
    "    other_res = compute_final_vote_share(other_opt_params)\n",
    "    prev_res = compute_final_vote_share(opt_params)\n",
    "\n",
    "    cur_z = (other_res - prev_res) / (np.sqrt(2) * freq_sd)\n",
    "\n",
    "    all_zs.append(cur_z)"
   ]
  },
  {
   "cell_type": "code",
   "execution_count": 67,
   "metadata": {},
   "outputs": [
    {
     "data": {
      "text/plain": [
       "(array([ 2.,  7., 11., 10., 16., 16.,  8., 14.,  7.,  9.]),\n",
       " array([0.03355775, 0.12331   , 0.21306224, 0.30281449, 0.39256674,\n",
       "        0.48231898, 0.57207123, 0.66182348, 0.75157572, 0.84132797,\n",
       "        0.93108021]),\n",
       " <BarContainer object of 10 artists>)"
      ]
     },
     "execution_count": 67,
     "metadata": {},
     "output_type": "execute_result"
    },
    {
     "data": {
      "image/png": "[encoded data removed]",
      "text/plain": [
       "<Figure size 640x480 with 1 Axes>"
      ]
     },
     "metadata": {
      "image/png": {
       "height": 413,
       "width": 543
      }
     },
     "output_type": "display_data"
    }
   ],
   "source": [
    "import matplotlib.pyplot as plt\n",
    "from scipy.stats import norm\n",
    "\n",
    "plt.hist(norm.cdf(np.array(all_zs)))"
   ]
  },
  {
   "cell_type": "code",
   "execution_count": 61,
   "metadata": {},
   "outputs": [
    {
     "data": {
      "text/plain": [
       "DeviceArray(0.51361712, dtype=float64)"
      ]
     },
     "execution_count": 61,
     "metadata": {},
     "output_type": "execute_result"
    }
   ],
   "source": [
    "# What do they look like marginally over all of them\n",
    "# Check pairs more systematically\n",
    "# If not good, check better score matrix.\n",
    "# Warm starts for this as well\n",
    "compute_final_vote_share(opt_params)"
   ]
  },
  {
   "cell_type": "code",
   "execution_count": 62,
   "metadata": {},
   "outputs": [
    {
     "data": {
      "text/plain": [
       "0.0002844109770952017"
      ]
     },
     "execution_count": 62,
     "metadata": {},
     "output_type": "execute_result"
    }
   ],
   "source": [
    "freq_sd"
   ]
  },
  {
   "cell_type": "code",
   "execution_count": null,
   "metadata": {},
   "outputs": [],
   "source": []
  }
 ],
 "metadata": {
  "kernelspec": {
   "display_name": "Python 3 (ipykernel)",
   "language": "python",
   "name": "python3"
  },
  "language_info": {
   "codemirror_mode": {
    "name": "ipython",
    "version": 3
   },
   "file_extension": ".py",
   "mimetype": "text/x-python",
   "name": "python",
   "nbconvert_exporter": "python",
   "pygments_lexer": "ipython3",
   "version": "3.8.13"
  },
  "vscode": {
   "interpreter": {
    "hash": "d6b81382af3beaebbac93aac606334308960b1a7270e498d25ccdd66c34d7f6d"
   }
  }
 },
 "nbformat": 4,
 "nbformat_minor": 2
}
