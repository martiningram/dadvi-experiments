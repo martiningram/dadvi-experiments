{
 "cells": [
  {
   "cell_type": "code",
   "execution_count": 47,
   "metadata": {},
   "outputs": [],
   "source": [
    "# Let's first work out which parameter we're actually interested in.\n",
    "from dadvi.pymc.models.potus import get_potus_model"
   ]
  },
  {
   "cell_type": "code",
   "execution_count": 48,
   "metadata": {},
   "outputs": [],
   "source": [
    "potus_model = get_potus_model('../data/potus_data.json')"
   ]
  },
  {
   "cell_type": "code",
   "execution_count": 49,
   "metadata": {},
   "outputs": [],
   "source": [
    "import numpy as np\n",
    "import json\n",
    "\n",
    "data = json.load(open('../data/potus_data.json'))\n",
    "\n",
    "np_data = {x: np.squeeze(np.array(y)) for x, y in data.items()}"
   ]
  },
  {
   "cell_type": "code",
   "execution_count": 50,
   "metadata": {},
   "outputs": [],
   "source": [
    "from dadvi.pymc.pymc_to_jax import get_jax_functions_from_pymc\n",
    "from dadvi.jax import build_dadvi_funs"
   ]
  },
  {
   "cell_type": "code",
   "execution_count": 51,
   "metadata": {},
   "outputs": [],
   "source": [
    "jax_funs = get_jax_functions_from_pymc(potus_model)"
   ]
  },
  {
   "cell_type": "code",
   "execution_count": 52,
   "metadata": {},
   "outputs": [
    {
     "data": {
      "text/plain": [
       "{'log_posterior_fun': <function dadvi.pymc.pymc_to_jax.get_jax_functions_from_pymc.<locals>.flat_log_post_fun(flat_params)>,\n",
       " 'unflatten_fun': <function jax._src.flatten_util.ravel_pytree.<locals>.<lambda>(flat)>,\n",
       " 'n_params': 15098}"
      ]
     },
     "execution_count": 52,
     "metadata": {},
     "output_type": "execute_result"
    }
   ],
   "source": [
    "jax_funs"
   ]
  },
  {
   "cell_type": "code",
   "execution_count": 53,
   "metadata": {},
   "outputs": [],
   "source": [
    "# This isn't super neat, but we should be able to reconstruct the parameters from any old vector:"
   ]
  },
  {
   "cell_type": "code",
   "execution_count": 54,
   "metadata": {},
   "outputs": [],
   "source": [
    "import numpy as np"
   ]
  },
  {
   "cell_type": "code",
   "execution_count": 55,
   "metadata": {},
   "outputs": [],
   "source": [
    "z = np.arange(jax_funs['n_params'])"
   ]
  },
  {
   "cell_type": "code",
   "execution_count": 56,
   "metadata": {},
   "outputs": [],
   "source": [
    "param_dict = jax_funs['unflatten_fun'](z)"
   ]
  },
  {
   "cell_type": "code",
   "execution_count": 57,
   "metadata": {},
   "outputs": [],
   "source": [
    "param_shapes = {x: y.shape for x, y in param_dict.items()}"
   ]
  },
  {
   "cell_type": "code",
   "execution_count": 58,
   "metadata": {},
   "outputs": [
    {
     "data": {
      "text/plain": [
       "{'mu_e_bias': (),\n",
       " 'raw_e_bias': (254,),\n",
       " 'raw_measure_noise_national': (361,),\n",
       " 'raw_measure_noise_state': (1258,),\n",
       " 'raw_mu_b': (51, 254),\n",
       " 'raw_mu_b_T': (51,),\n",
       " 'raw_mu_c': (161,),\n",
       " 'raw_mu_m': (3,),\n",
       " 'raw_mu_pop': (3,),\n",
       " 'raw_polling_bias': (51,),\n",
       " 'rho_e_bias_interval__': ()}"
      ]
     },
     "execution_count": 58,
     "metadata": {},
     "output_type": "execute_result"
    }
   ],
   "source": [
    "param_shapes"
   ]
  },
  {
   "cell_type": "code",
   "execution_count": 59,
   "metadata": {},
   "outputs": [
    {
     "data": {
      "text/plain": [
       "'\\n         mu_b_final = (\\n            pm.math.dot(cholesky_ss_cov_mu_b_T, raw_mu_b_T) + np_data[\"mu_b_prior\"]\\n        )\\n'"
      ]
     },
     "execution_count": 59,
     "metadata": {},
     "output_type": "execute_result"
    }
   ],
   "source": [
    "# Maybe I can use `raw_mu_b_T`, which is possibly the final vote share except for a known matrix multiplication:\n",
    "\"\"\"\n",
    "         mu_b_final = (\n",
    "            pm.math.dot(cholesky_ss_cov_mu_b_T, raw_mu_b_T) + np_data[\"mu_b_prior\"]\n",
    "        )\n",
    "\"\"\"\n",
    "# I guess if I can get its covariance, I should be able to reconstruct things.\n",
    "# So, next steps:\n",
    "# 1. Work out the indices corresponding to `raw_mu_b_T`\n",
    "# 2. Use CG to calculate the relevant covariances \n",
    "# 3. Am I screwed because I can only get marginal frequentist variances?\n",
    "# 4. Maybe consult with Ryan"
   ]
  },
  {
   "cell_type": "code",
   "execution_count": 60,
   "metadata": {},
   "outputs": [],
   "source": [
    "indices = param_dict['raw_mu_b_T']"
   ]
  },
  {
   "cell_type": "code",
   "execution_count": 61,
   "metadata": {},
   "outputs": [],
   "source": [
    "sample_index = indices[0]"
   ]
  },
  {
   "cell_type": "code",
   "execution_count": 62,
   "metadata": {},
   "outputs": [],
   "source": [
    "from dadvi.core import compute_hessian_inv_column, compute_frequentist_covariance_using_score_mat\n",
    "from dadvi.core import compute_score_matrix"
   ]
  },
  {
   "cell_type": "code",
   "execution_count": 139,
   "metadata": {},
   "outputs": [],
   "source": [
    "# Load the optimal parameters\n",
    "import pickle\n",
    "from glob import glob\n",
    "\n",
    "all_runs = glob('../potus_coverage/64/*/*/*/*.pkl')\n",
    "\n",
    "reference_run = all_runs[1]\n",
    "other_runs = all_runs[2:]\n",
    "\n",
    "results = pickle.load(open(reference_run, 'rb'))"
   ]
  },
  {
   "cell_type": "code",
   "execution_count": 140,
   "metadata": {},
   "outputs": [],
   "source": [
    "opt_params = results['opt_result']['opt_result'].x\n",
    "z = results['fixed_draws']\n",
    "dadvi_funs = build_dadvi_funs(jax_funs['log_posterior_fun'])"
   ]
  },
  {
   "cell_type": "code",
   "execution_count": 141,
   "metadata": {},
   "outputs": [],
   "source": [
    "from tqdm import tqdm"
   ]
  },
  {
   "cell_type": "code",
   "execution_count": 142,
   "metadata": {},
   "outputs": [],
   "source": [
    "score_mat = compute_score_matrix(opt_params, dadvi_funs.kl_est_and_grad_fun, z)"
   ]
  },
  {
   "cell_type": "code",
   "execution_count": 143,
   "metadata": {},
   "outputs": [],
   "source": [
    "opt_means = opt_params[:opt_params.shape[0]//2]"
   ]
  },
  {
   "cell_type": "code",
   "execution_count": 144,
   "metadata": {},
   "outputs": [],
   "source": [
    "mean_dict = jax_funs['unflatten_fun'](opt_means)"
   ]
  },
  {
   "cell_type": "code",
   "execution_count": 145,
   "metadata": {},
   "outputs": [],
   "source": [
    "national_cov_matrix_error_sd = np.sqrt(\n",
    "        np.squeeze(\n",
    "            np_data[\"state_weights\"].reshape(1, -1)\n",
    "            @ (np_data[\"state_covariance_0\"] @ np_data[\"state_weights\"].reshape(-1, 1))\n",
    "        )\n",
    "    )\n",
    "ss_cov_mu_b_T = (\n",
    "    np_data[\"state_covariance_0\"]\n",
    "    * (np_data[\"mu_b_T_scale\"] / national_cov_matrix_error_sd) ** 2\n",
    ")\n",
    "cholesky_ss_cov_mu_b_T = np.linalg.cholesky(ss_cov_mu_b_T)\n",
    "\n",
    "rel_means = mean_dict['raw_mu_b_T']"
   ]
  },
  {
   "cell_type": "code",
   "execution_count": 146,
   "metadata": {},
   "outputs": [],
   "source": [
    "mean_shares = cholesky_ss_cov_mu_b_T @ rel_means + np_data[\"mu_b_prior\"]"
   ]
  },
  {
   "cell_type": "code",
   "execution_count": 147,
   "metadata": {},
   "outputs": [],
   "source": [
    "national_average = mean_shares @ np_data['state_weights']"
   ]
  },
  {
   "cell_type": "code",
   "execution_count": 148,
   "metadata": {},
   "outputs": [
    {
     "data": {
      "text/plain": [
       "array([0.0023, 0.0158, 0.0081, 0.0183, 0.1025, 0.0207, 0.0118, 0.0024,\n",
       "       0.0033, 0.0677, 0.0305, 0.0034, 0.0121, 0.0051, 0.0395, 0.02  ,\n",
       "       0.0088, 0.0136, 0.0153, 0.0246, 0.0209, 0.0054, 0.0358, 0.0226,\n",
       "       0.0209, 0.0097, 0.0037, 0.0353, 0.0026, 0.0061, 0.0054, 0.0278,\n",
       "       0.0059, 0.0081, 0.0541, 0.0421, 0.0103, 0.014 , 0.0434, 0.0034,\n",
       "       0.0154, 0.0028, 0.019 , 0.0644, 0.0081, 0.0299, 0.0023, 0.0246,\n",
       "       0.0233, 0.005 , 0.0019])"
      ]
     },
     "execution_count": 148,
     "metadata": {},
     "output_type": "execute_result"
    }
   ],
   "source": [
    "np_data['state_weights']"
   ]
  },
  {
   "cell_type": "code",
   "execution_count": 149,
   "metadata": {},
   "outputs": [
    {
     "data": {
      "text/plain": [
       "DeviceArray(0.05745102, dtype=float64)"
      ]
     },
     "execution_count": 149,
     "metadata": {},
     "output_type": "execute_result"
    }
   ],
   "source": [
    "national_average"
   ]
  },
  {
   "cell_type": "code",
   "execution_count": 150,
   "metadata": {},
   "outputs": [],
   "source": [
    "# There might be a bit more but this is a good start.\n",
    "# Compute the gradient required now."
   ]
  },
  {
   "cell_type": "code",
   "execution_count": 151,
   "metadata": {},
   "outputs": [],
   "source": [
    "from jax.scipy.special import expit\n",
    "from jax import grad\n",
    "\n",
    "# Check whether this is the correct way to get the national pct!!\n",
    "def compute_final_vote_share(full_var_params):\n",
    "\n",
    "    # I think we only need the means:\n",
    "    opt_means = full_var_params[:full_var_params.shape[0] // 2]\n",
    "\n",
    "    mean_dict = jax_funs['unflatten_fun'](opt_means)\n",
    "\n",
    "    rel_means = mean_dict['raw_mu_b_T']\n",
    "\n",
    "    mean_shares = cholesky_ss_cov_mu_b_T @ rel_means + np_data[\"mu_b_prior\"]\n",
    "\n",
    "    return expit(mean_shares) @ np_data['state_weights']"
   ]
  },
  {
   "cell_type": "code",
   "execution_count": 152,
   "metadata": {},
   "outputs": [],
   "source": [
    "rel_grad = grad(compute_final_vote_share)(opt_params)"
   ]
  },
  {
   "cell_type": "code",
   "execution_count": 153,
   "metadata": {},
   "outputs": [
    {
     "data": {
      "text/plain": [
       "(DeviceArray(-0.00023501, dtype=float64),\n",
       " DeviceArray(0.01753882, dtype=float64))"
      ]
     },
     "execution_count": 153,
     "metadata": {},
     "output_type": "execute_result"
    }
   ],
   "source": [
    "rel_grad.min(), rel_grad.max()"
   ]
  },
  {
   "cell_type": "code",
   "execution_count": 154,
   "metadata": {},
   "outputs": [],
   "source": [
    "from dadvi.utils import cg_using_fun_scipy"
   ]
  },
  {
   "cell_type": "code",
   "execution_count": 155,
   "metadata": {},
   "outputs": [],
   "source": [
    "# TODO Preconditioner\n",
    "rel_hvp = lambda x: dadvi_funs.kl_est_hvp_fun(opt_params, z, x)\n",
    "cg_result = cg_using_fun_scipy(rel_hvp, rel_grad, preconditioner=None)"
   ]
  },
  {
   "cell_type": "code",
   "execution_count": 156,
   "metadata": {},
   "outputs": [
    {
     "data": {
      "text/plain": [
       "(30, 30196)"
      ]
     },
     "execution_count": 156,
     "metadata": {},
     "output_type": "execute_result"
    }
   ],
   "source": [
    "h_inv_g = cg_result[0]\n",
    "\n",
    "score_mat.shape"
   ]
  },
  {
   "cell_type": "code",
   "execution_count": 157,
   "metadata": {},
   "outputs": [],
   "source": [
    "score_mat_means = score_mat.mean(axis=0, keepdims=True)\n",
    "centred_score_mat = score_mat - score_mat_means"
   ]
  },
  {
   "cell_type": "code",
   "execution_count": 158,
   "metadata": {},
   "outputs": [],
   "source": [
    "vec = centred_score_mat @ h_inv_g\n",
    "M = score_mat.shape[0]\n",
    "freq_sd = np.sqrt((vec.T @ vec) / (M * (M - 1)))"
   ]
  },
  {
   "cell_type": "code",
   "execution_count": 159,
   "metadata": {},
   "outputs": [],
   "source": [
    "# Load the runs\n",
    "from glob import glob"
   ]
  },
  {
   "cell_type": "code",
   "execution_count": 160,
   "metadata": {},
   "outputs": [],
   "source": [
    "others_loaded = [pickle.load(open(x, 'rb')) for x in other_runs]"
   ]
  },
  {
   "cell_type": "code",
   "execution_count": 161,
   "metadata": {},
   "outputs": [],
   "source": [
    "all_zs = list()\n",
    "\n",
    "for other_run in others_loaded:\n",
    "\n",
    "    other_opt_params = other_run['opt_result']['opt_result'].x\n",
    "\n",
    "    other_res = compute_final_vote_share(other_opt_params)\n",
    "    prev_res = compute_final_vote_share(opt_params)\n",
    "\n",
    "    cur_z = (other_res - prev_res) / (np.sqrt(2) * freq_sd)\n",
    "\n",
    "    all_zs.append(cur_z)"
   ]
  },
  {
   "cell_type": "code",
   "execution_count": 162,
   "metadata": {},
   "outputs": [
    {
     "data": {
      "text/plain": [
       "array([ 0.9784361 ,  0.53134087,  0.1685255 ,  0.79292589,  0.42817879,\n",
       "       -1.45472035,  1.31158116, -0.9623922 ])"
      ]
     },
     "execution_count": 162,
     "metadata": {},
     "output_type": "execute_result"
    }
   ],
   "source": [
    "np.array(all_zs)"
   ]
  },
  {
   "cell_type": "code",
   "execution_count": 163,
   "metadata": {},
   "outputs": [
    {
     "data": {
      "text/plain": [
       "DeviceArray(0.51371472, dtype=float64)"
      ]
     },
     "execution_count": 163,
     "metadata": {},
     "output_type": "execute_result"
    }
   ],
   "source": [
    "# What do they look like marginally over all of them\n",
    "# Check pairs more systematically\n",
    "# If not good, check better score matrix.\n",
    "# Warm starts for this as well\n",
    "compute_final_vote_share(opt_params)"
   ]
  },
  {
   "cell_type": "code",
   "execution_count": 164,
   "metadata": {},
   "outputs": [
    {
     "data": {
      "text/plain": [
       "0.0003797790492909348"
      ]
     },
     "execution_count": 164,
     "metadata": {},
     "output_type": "execute_result"
    }
   ],
   "source": [
    "freq_sd"
   ]
  },
  {
   "cell_type": "code",
   "execution_count": null,
   "metadata": {},
   "outputs": [],
   "source": []
  }
 ],
 "metadata": {
  "kernelspec": {
   "display_name": "Python 3.8.13 ('dadvi')",
   "language": "python",
   "name": "python3"
  },
  "language_info": {
   "codemirror_mode": {
    "name": "ipython",
    "version": 3
   },
   "file_extension": ".py",
   "mimetype": "text/x-python",
   "name": "python",
   "nbconvert_exporter": "python",
   "pygments_lexer": "ipython3",
   "version": "3.8.13"
  },
  "orig_nbformat": 4,
  "vscode": {
   "interpreter": {
    "hash": "d6b81382af3beaebbac93aac606334308960b1a7270e498d25ccdd66c34d7f6d"
   }
  }
 },
 "nbformat": 4,
 "nbformat_minor": 2
}
